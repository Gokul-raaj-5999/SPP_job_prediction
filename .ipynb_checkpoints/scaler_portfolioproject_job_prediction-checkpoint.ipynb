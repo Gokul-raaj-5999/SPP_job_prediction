{
 "cells": [
  {
   "cell_type": "code",
   "execution_count": 1,
   "id": "7d6c62c6",
   "metadata": {},
   "outputs": [],
   "source": [
    "import warnings\n",
    "warnings.filterwarnings('ignore')\n",
    "\n",
    "import pandas as pd\n",
    "import numpy as np\n",
    "import matplotlib.pyplot as plt\n",
    "import seaborn as sns\n",
    "import statistics as sts\n",
    "import math\n",
    "from scipy.stats import binom, poisson, geom, norm, expon  # distribution  \n",
    "from scipy.stats import shapiro, normaltest, levene, kruskal  # nArmality test\n",
    "import statsmodels.api as sm                                  # qqplot\n",
    "from scipy.stats import pearsonr, spearmanr, chi2_contingency   # correlAtion test\n",
    "from statsmodels.tsa.stattools import adfuller, kpss # stAstanary test\n",
    "from statsmodels.stats.weightstats import ztest  #num hypothesis testing\n",
    "from scipy.stats import ttest_ind, ttest_rel, f_oneway, chi2   # parametric hypothisis testing"
   ]
  },
  {
   "cell_type": "code",
   "execution_count": 2,
   "id": "58d1b9b8",
   "metadata": {},
   "outputs": [
    {
     "data": {
      "text/html": [
       "<div>\n",
       "<style scoped>\n",
       "    .dataframe tbody tr th:only-of-type {\n",
       "        vertical-align: middle;\n",
       "    }\n",
       "\n",
       "    .dataframe tbody tr th {\n",
       "        vertical-align: top;\n",
       "    }\n",
       "\n",
       "    .dataframe thead th {\n",
       "        text-align: right;\n",
       "    }\n",
       "</style>\n",
       "<table border=\"1\" class=\"dataframe\">\n",
       "  <thead>\n",
       "    <tr style=\"text-align: right;\">\n",
       "      <th></th>\n",
       "      <th>job_id</th>\n",
       "      <th>title</th>\n",
       "      <th>location</th>\n",
       "      <th>department</th>\n",
       "      <th>salary_range</th>\n",
       "      <th>company_profile</th>\n",
       "      <th>description</th>\n",
       "      <th>requirements</th>\n",
       "      <th>benefits</th>\n",
       "      <th>telecommuting</th>\n",
       "      <th>has_company_logo</th>\n",
       "      <th>has_questions</th>\n",
       "      <th>employment_type</th>\n",
       "      <th>required_experience</th>\n",
       "      <th>required_education</th>\n",
       "      <th>industry</th>\n",
       "      <th>function</th>\n",
       "      <th>fraudulent</th>\n",
       "    </tr>\n",
       "  </thead>\n",
       "  <tbody>\n",
       "    <tr>\n",
       "      <th>0</th>\n",
       "      <td>1</td>\n",
       "      <td>Marketing Intern</td>\n",
       "      <td>US, NY, New York</td>\n",
       "      <td>Marketing</td>\n",
       "      <td>NaN</td>\n",
       "      <td>We're Food52, and we've created a groundbreaki...</td>\n",
       "      <td>Food52, a fast-growing, James Beard Award-winn...</td>\n",
       "      <td>Experience with content management systems a m...</td>\n",
       "      <td>NaN</td>\n",
       "      <td>0</td>\n",
       "      <td>1</td>\n",
       "      <td>0</td>\n",
       "      <td>Other</td>\n",
       "      <td>Internship</td>\n",
       "      <td>NaN</td>\n",
       "      <td>NaN</td>\n",
       "      <td>Marketing</td>\n",
       "      <td>0</td>\n",
       "    </tr>\n",
       "    <tr>\n",
       "      <th>1</th>\n",
       "      <td>2</td>\n",
       "      <td>Customer Service - Cloud Video Production</td>\n",
       "      <td>NZ, , Auckland</td>\n",
       "      <td>Success</td>\n",
       "      <td>NaN</td>\n",
       "      <td>90 Seconds, the worlds Cloud Video Production ...</td>\n",
       "      <td>Organised - Focused - Vibrant - Awesome!Do you...</td>\n",
       "      <td>What we expect from you:Your key responsibilit...</td>\n",
       "      <td>What you will get from usThrough being part of...</td>\n",
       "      <td>0</td>\n",
       "      <td>1</td>\n",
       "      <td>0</td>\n",
       "      <td>Full-time</td>\n",
       "      <td>Not Applicable</td>\n",
       "      <td>NaN</td>\n",
       "      <td>Marketing and Advertising</td>\n",
       "      <td>Customer Service</td>\n",
       "      <td>0</td>\n",
       "    </tr>\n",
       "    <tr>\n",
       "      <th>2</th>\n",
       "      <td>3</td>\n",
       "      <td>Commissioning Machinery Assistant (CMA)</td>\n",
       "      <td>US, IA, Wever</td>\n",
       "      <td>NaN</td>\n",
       "      <td>NaN</td>\n",
       "      <td>Valor Services provides Workforce Solutions th...</td>\n",
       "      <td>Our client, located in Houston, is actively se...</td>\n",
       "      <td>Implement pre-commissioning and commissioning ...</td>\n",
       "      <td>NaN</td>\n",
       "      <td>0</td>\n",
       "      <td>1</td>\n",
       "      <td>0</td>\n",
       "      <td>NaN</td>\n",
       "      <td>NaN</td>\n",
       "      <td>NaN</td>\n",
       "      <td>NaN</td>\n",
       "      <td>NaN</td>\n",
       "      <td>0</td>\n",
       "    </tr>\n",
       "    <tr>\n",
       "      <th>3</th>\n",
       "      <td>4</td>\n",
       "      <td>Account Executive - Washington DC</td>\n",
       "      <td>US, DC, Washington</td>\n",
       "      <td>Sales</td>\n",
       "      <td>NaN</td>\n",
       "      <td>Our passion for improving quality of life thro...</td>\n",
       "      <td>THE COMPANY: ESRI – Environmental Systems Rese...</td>\n",
       "      <td>EDUCATION: Bachelor’s or Master’s in GIS, busi...</td>\n",
       "      <td>Our culture is anything but corporate—we have ...</td>\n",
       "      <td>0</td>\n",
       "      <td>1</td>\n",
       "      <td>0</td>\n",
       "      <td>Full-time</td>\n",
       "      <td>Mid-Senior level</td>\n",
       "      <td>Bachelor's Degree</td>\n",
       "      <td>Computer Software</td>\n",
       "      <td>Sales</td>\n",
       "      <td>0</td>\n",
       "    </tr>\n",
       "    <tr>\n",
       "      <th>4</th>\n",
       "      <td>5</td>\n",
       "      <td>Bill Review Manager</td>\n",
       "      <td>US, FL, Fort Worth</td>\n",
       "      <td>NaN</td>\n",
       "      <td>NaN</td>\n",
       "      <td>SpotSource Solutions LLC is a Global Human Cap...</td>\n",
       "      <td>JOB TITLE: Itemization Review ManagerLOCATION:...</td>\n",
       "      <td>QUALIFICATIONS:RN license in the State of Texa...</td>\n",
       "      <td>Full Benefits Offered</td>\n",
       "      <td>0</td>\n",
       "      <td>1</td>\n",
       "      <td>1</td>\n",
       "      <td>Full-time</td>\n",
       "      <td>Mid-Senior level</td>\n",
       "      <td>Bachelor's Degree</td>\n",
       "      <td>Hospital &amp; Health Care</td>\n",
       "      <td>Health Care Provider</td>\n",
       "      <td>0</td>\n",
       "    </tr>\n",
       "  </tbody>\n",
       "</table>\n",
       "</div>"
      ],
      "text/plain": [
       "   job_id                                      title            location  \\\n",
       "0       1                           Marketing Intern    US, NY, New York   \n",
       "1       2  Customer Service - Cloud Video Production      NZ, , Auckland   \n",
       "2       3    Commissioning Machinery Assistant (CMA)       US, IA, Wever   \n",
       "3       4          Account Executive - Washington DC  US, DC, Washington   \n",
       "4       5                        Bill Review Manager  US, FL, Fort Worth   \n",
       "\n",
       "  department salary_range                                    company_profile  \\\n",
       "0  Marketing          NaN  We're Food52, and we've created a groundbreaki...   \n",
       "1    Success          NaN  90 Seconds, the worlds Cloud Video Production ...   \n",
       "2        NaN          NaN  Valor Services provides Workforce Solutions th...   \n",
       "3      Sales          NaN  Our passion for improving quality of life thro...   \n",
       "4        NaN          NaN  SpotSource Solutions LLC is a Global Human Cap...   \n",
       "\n",
       "                                         description  \\\n",
       "0  Food52, a fast-growing, James Beard Award-winn...   \n",
       "1  Organised - Focused - Vibrant - Awesome!Do you...   \n",
       "2  Our client, located in Houston, is actively se...   \n",
       "3  THE COMPANY: ESRI – Environmental Systems Rese...   \n",
       "4  JOB TITLE: Itemization Review ManagerLOCATION:...   \n",
       "\n",
       "                                        requirements  \\\n",
       "0  Experience with content management systems a m...   \n",
       "1  What we expect from you:Your key responsibilit...   \n",
       "2  Implement pre-commissioning and commissioning ...   \n",
       "3  EDUCATION: Bachelor’s or Master’s in GIS, busi...   \n",
       "4  QUALIFICATIONS:RN license in the State of Texa...   \n",
       "\n",
       "                                            benefits  telecommuting  \\\n",
       "0                                                NaN              0   \n",
       "1  What you will get from usThrough being part of...              0   \n",
       "2                                                NaN              0   \n",
       "3  Our culture is anything but corporate—we have ...              0   \n",
       "4                              Full Benefits Offered              0   \n",
       "\n",
       "   has_company_logo  has_questions employment_type required_experience  \\\n",
       "0                 1              0           Other          Internship   \n",
       "1                 1              0       Full-time      Not Applicable   \n",
       "2                 1              0             NaN                 NaN   \n",
       "3                 1              0       Full-time    Mid-Senior level   \n",
       "4                 1              1       Full-time    Mid-Senior level   \n",
       "\n",
       "  required_education                   industry              function  \\\n",
       "0                NaN                        NaN             Marketing   \n",
       "1                NaN  Marketing and Advertising      Customer Service   \n",
       "2                NaN                        NaN                   NaN   \n",
       "3  Bachelor's Degree          Computer Software                 Sales   \n",
       "4  Bachelor's Degree     Hospital & Health Care  Health Care Provider   \n",
       "\n",
       "   fraudulent  \n",
       "0           0  \n",
       "1           0  \n",
       "2           0  \n",
       "3           0  \n",
       "4           0  "
      ]
     },
     "execution_count": 2,
     "metadata": {},
     "output_type": "execute_result"
    }
   ],
   "source": [
    "data = pd.read_csv(\"fake_job_postings_dataset.csv\")\n",
    "data.head()"
   ]
  },
  {
   "attachments": {},
   "cell_type": "markdown",
   "id": "8fea92e6",
   "metadata": {},
   "source": [
    "1. <b>Here we will be giving job description so that we can find which job is accurate and which are all fake jobs so that the user can easily identify and can apply to the actual jobs and truthful jobs that are being posted  we use basic EDA For this job description project</b>\n",
    "\n",
    "1. May be here some of the columns are object d type and some of the columns are in 64 type so which means we have only 2 categories so that are object that is string and integer respectively\n",
    "\n",
    "1. job ID is similar to serial number so we don't have any big kind of impact on this\n",
    "\n",
    "1. title is something very intrusive and location also maybe department and salary range in most cases we see that salary range this not a number and then we have company profile description and requirement and benefits which are of a big strings mostly they need a very large regular expression kind of thing to detailed analysis \n",
    "\n",
    "1. company profile with is literally telling about the companies background and description is telling about the job description so which you will be working on and the requirement is which are all the basic things that you need to get a job so baby this 3 columns are very more important\n",
    "\n",
    "1. And then we come back with benefits telecommunication company logo so basically company logo doesn't play any important role here has questions even though doesn't comes enough very good manner \n",
    "\n",
    "1. employee type may be so we have here a categorical kind of data and then required experience it is also some kind of categorical data required education is housework categorical data industry and function that comes under a kind of string kind of thing so we have variety of unique values here in resultant fault tolerant\n",
    "\n",
    "1. so here we are about to find which kind of description matches or that is in queue commonly there in all the fault tolerance true that is 1 so if fraudulent is zero which means job descriptions is true and if it is one it is false so that that specific job description is said to be false so in this case we need to find out the relationship between all the false job descriptions may be and then which are all the factors that are influencing which adding an advantage to become an fraudulent job\n",
    "\n",
    "1. <b>So for supporting this will be running some kind of hypothesis testing maybe correlation or independent test for dependency test between fraudulent and with mainly on employment type required experience required education industry function salary range title department and location so which are all like very much dependent on like with both each other so we will call we can create and come to a conclusion</b>\n",
    "\n",
    "1. <b>and from company profile description and requirement so these are basically string kind of things so we need enough TK so the higher end to analyse this with a relation of fraudulent but that is being more higher now so will do basic regular expression d on which are all the common terms that are mainly found in fraudulent cases</b>"
   ]
  },
  {
   "cell_type": "code",
   "execution_count": 3,
   "id": "720744ab",
   "metadata": {},
   "outputs": [
    {
     "name": "stdout",
     "output_type": "stream",
     "text": [
      "<class 'pandas.core.frame.DataFrame'>\n",
      "RangeIndex: 17880 entries, 0 to 17879\n",
      "Data columns (total 18 columns):\n",
      " #   Column               Non-Null Count  Dtype \n",
      "---  ------               --------------  ----- \n",
      " 0   job_id               17880 non-null  int64 \n",
      " 1   title                17880 non-null  object\n",
      " 2   location             17534 non-null  object\n",
      " 3   department           6333 non-null   object\n",
      " 4   salary_range         2868 non-null   object\n",
      " 5   company_profile      14572 non-null  object\n",
      " 6   description          17879 non-null  object\n",
      " 7   requirements         15185 non-null  object\n",
      " 8   benefits             10670 non-null  object\n",
      " 9   telecommuting        17880 non-null  int64 \n",
      " 10  has_company_logo     17880 non-null  int64 \n",
      " 11  has_questions        17880 non-null  int64 \n",
      " 12  employment_type      14409 non-null  object\n",
      " 13  required_experience  10830 non-null  object\n",
      " 14  required_education   9775 non-null   object\n",
      " 15  industry             12977 non-null  object\n",
      " 16  function             11425 non-null  object\n",
      " 17  fraudulent           17880 non-null  int64 \n",
      "dtypes: int64(5), object(13)\n",
      "memory usage: 2.5+ MB\n"
     ]
    }
   ],
   "source": [
    "df0 = data.copy()\n",
    "df0.info()"
   ]
  },
  {
   "attachments": {},
   "cell_type": "markdown",
   "id": "760b73d4",
   "metadata": {},
   "source": [
    "- So we have some null values here may be we need to take care of all the columns we have about 18 columns in which 7 columns that have all the values present in it and remaining 10 columns as many missing values so that has to be taking care very carefully!"
   ]
  },
  {
   "cell_type": "code",
   "execution_count": 4,
   "id": "6fffa6df",
   "metadata": {},
   "outputs": [
    {
     "data": {
      "text/html": [
       "<div>\n",
       "<style scoped>\n",
       "    .dataframe tbody tr th:only-of-type {\n",
       "        vertical-align: middle;\n",
       "    }\n",
       "\n",
       "    .dataframe tbody tr th {\n",
       "        vertical-align: top;\n",
       "    }\n",
       "\n",
       "    .dataframe thead th {\n",
       "        text-align: right;\n",
       "    }\n",
       "</style>\n",
       "<table border=\"1\" class=\"dataframe\">\n",
       "  <thead>\n",
       "    <tr style=\"text-align: right;\">\n",
       "      <th></th>\n",
       "      <th>job_id</th>\n",
       "      <th>title</th>\n",
       "      <th>location</th>\n",
       "      <th>department</th>\n",
       "      <th>salary_range</th>\n",
       "      <th>company_profile</th>\n",
       "      <th>description</th>\n",
       "      <th>requirements</th>\n",
       "      <th>benefits</th>\n",
       "      <th>telecommuting</th>\n",
       "      <th>has_company_logo</th>\n",
       "      <th>has_questions</th>\n",
       "      <th>employment_type</th>\n",
       "      <th>required_experience</th>\n",
       "      <th>required_education</th>\n",
       "      <th>industry</th>\n",
       "      <th>function</th>\n",
       "      <th>fraudulent</th>\n",
       "    </tr>\n",
       "  </thead>\n",
       "  <tbody>\n",
       "    <tr>\n",
       "      <th>count</th>\n",
       "      <td>17880.000000</td>\n",
       "      <td>17880</td>\n",
       "      <td>17534</td>\n",
       "      <td>6333</td>\n",
       "      <td>2868</td>\n",
       "      <td>14572</td>\n",
       "      <td>17879</td>\n",
       "      <td>15185</td>\n",
       "      <td>10670</td>\n",
       "      <td>17880.000000</td>\n",
       "      <td>17880.000000</td>\n",
       "      <td>17880.000000</td>\n",
       "      <td>14409</td>\n",
       "      <td>10830</td>\n",
       "      <td>9775</td>\n",
       "      <td>12977</td>\n",
       "      <td>11425</td>\n",
       "      <td>17880.000000</td>\n",
       "    </tr>\n",
       "    <tr>\n",
       "      <th>unique</th>\n",
       "      <td>NaN</td>\n",
       "      <td>11231</td>\n",
       "      <td>3105</td>\n",
       "      <td>1337</td>\n",
       "      <td>874</td>\n",
       "      <td>1709</td>\n",
       "      <td>14801</td>\n",
       "      <td>11968</td>\n",
       "      <td>6205</td>\n",
       "      <td>NaN</td>\n",
       "      <td>NaN</td>\n",
       "      <td>NaN</td>\n",
       "      <td>5</td>\n",
       "      <td>7</td>\n",
       "      <td>13</td>\n",
       "      <td>131</td>\n",
       "      <td>37</td>\n",
       "      <td>NaN</td>\n",
       "    </tr>\n",
       "    <tr>\n",
       "      <th>top</th>\n",
       "      <td>NaN</td>\n",
       "      <td>English Teacher Abroad</td>\n",
       "      <td>GB, LND, London</td>\n",
       "      <td>Sales</td>\n",
       "      <td>0-0</td>\n",
       "      <td>We help teachers get safe &amp;amp; secure jobs ab...</td>\n",
       "      <td>Play with kids, get paid for it Love travel? J...</td>\n",
       "      <td>University degree required. TEFL / TESOL / CEL...</td>\n",
       "      <td>See job description</td>\n",
       "      <td>NaN</td>\n",
       "      <td>NaN</td>\n",
       "      <td>NaN</td>\n",
       "      <td>Full-time</td>\n",
       "      <td>Mid-Senior level</td>\n",
       "      <td>Bachelor's Degree</td>\n",
       "      <td>Information Technology and Services</td>\n",
       "      <td>Information Technology</td>\n",
       "      <td>NaN</td>\n",
       "    </tr>\n",
       "    <tr>\n",
       "      <th>freq</th>\n",
       "      <td>NaN</td>\n",
       "      <td>311</td>\n",
       "      <td>718</td>\n",
       "      <td>551</td>\n",
       "      <td>142</td>\n",
       "      <td>726</td>\n",
       "      <td>379</td>\n",
       "      <td>410</td>\n",
       "      <td>726</td>\n",
       "      <td>NaN</td>\n",
       "      <td>NaN</td>\n",
       "      <td>NaN</td>\n",
       "      <td>11620</td>\n",
       "      <td>3809</td>\n",
       "      <td>5145</td>\n",
       "      <td>1734</td>\n",
       "      <td>1749</td>\n",
       "      <td>NaN</td>\n",
       "    </tr>\n",
       "    <tr>\n",
       "      <th>mean</th>\n",
       "      <td>8940.500000</td>\n",
       "      <td>NaN</td>\n",
       "      <td>NaN</td>\n",
       "      <td>NaN</td>\n",
       "      <td>NaN</td>\n",
       "      <td>NaN</td>\n",
       "      <td>NaN</td>\n",
       "      <td>NaN</td>\n",
       "      <td>NaN</td>\n",
       "      <td>0.042897</td>\n",
       "      <td>0.795302</td>\n",
       "      <td>0.491723</td>\n",
       "      <td>NaN</td>\n",
       "      <td>NaN</td>\n",
       "      <td>NaN</td>\n",
       "      <td>NaN</td>\n",
       "      <td>NaN</td>\n",
       "      <td>0.048434</td>\n",
       "    </tr>\n",
       "    <tr>\n",
       "      <th>std</th>\n",
       "      <td>5161.655742</td>\n",
       "      <td>NaN</td>\n",
       "      <td>NaN</td>\n",
       "      <td>NaN</td>\n",
       "      <td>NaN</td>\n",
       "      <td>NaN</td>\n",
       "      <td>NaN</td>\n",
       "      <td>NaN</td>\n",
       "      <td>NaN</td>\n",
       "      <td>0.202631</td>\n",
       "      <td>0.403492</td>\n",
       "      <td>0.499945</td>\n",
       "      <td>NaN</td>\n",
       "      <td>NaN</td>\n",
       "      <td>NaN</td>\n",
       "      <td>NaN</td>\n",
       "      <td>NaN</td>\n",
       "      <td>0.214688</td>\n",
       "    </tr>\n",
       "    <tr>\n",
       "      <th>min</th>\n",
       "      <td>1.000000</td>\n",
       "      <td>NaN</td>\n",
       "      <td>NaN</td>\n",
       "      <td>NaN</td>\n",
       "      <td>NaN</td>\n",
       "      <td>NaN</td>\n",
       "      <td>NaN</td>\n",
       "      <td>NaN</td>\n",
       "      <td>NaN</td>\n",
       "      <td>0.000000</td>\n",
       "      <td>0.000000</td>\n",
       "      <td>0.000000</td>\n",
       "      <td>NaN</td>\n",
       "      <td>NaN</td>\n",
       "      <td>NaN</td>\n",
       "      <td>NaN</td>\n",
       "      <td>NaN</td>\n",
       "      <td>0.000000</td>\n",
       "    </tr>\n",
       "    <tr>\n",
       "      <th>25%</th>\n",
       "      <td>4470.750000</td>\n",
       "      <td>NaN</td>\n",
       "      <td>NaN</td>\n",
       "      <td>NaN</td>\n",
       "      <td>NaN</td>\n",
       "      <td>NaN</td>\n",
       "      <td>NaN</td>\n",
       "      <td>NaN</td>\n",
       "      <td>NaN</td>\n",
       "      <td>0.000000</td>\n",
       "      <td>1.000000</td>\n",
       "      <td>0.000000</td>\n",
       "      <td>NaN</td>\n",
       "      <td>NaN</td>\n",
       "      <td>NaN</td>\n",
       "      <td>NaN</td>\n",
       "      <td>NaN</td>\n",
       "      <td>0.000000</td>\n",
       "    </tr>\n",
       "    <tr>\n",
       "      <th>50%</th>\n",
       "      <td>8940.500000</td>\n",
       "      <td>NaN</td>\n",
       "      <td>NaN</td>\n",
       "      <td>NaN</td>\n",
       "      <td>NaN</td>\n",
       "      <td>NaN</td>\n",
       "      <td>NaN</td>\n",
       "      <td>NaN</td>\n",
       "      <td>NaN</td>\n",
       "      <td>0.000000</td>\n",
       "      <td>1.000000</td>\n",
       "      <td>0.000000</td>\n",
       "      <td>NaN</td>\n",
       "      <td>NaN</td>\n",
       "      <td>NaN</td>\n",
       "      <td>NaN</td>\n",
       "      <td>NaN</td>\n",
       "      <td>0.000000</td>\n",
       "    </tr>\n",
       "    <tr>\n",
       "      <th>75%</th>\n",
       "      <td>13410.250000</td>\n",
       "      <td>NaN</td>\n",
       "      <td>NaN</td>\n",
       "      <td>NaN</td>\n",
       "      <td>NaN</td>\n",
       "      <td>NaN</td>\n",
       "      <td>NaN</td>\n",
       "      <td>NaN</td>\n",
       "      <td>NaN</td>\n",
       "      <td>0.000000</td>\n",
       "      <td>1.000000</td>\n",
       "      <td>1.000000</td>\n",
       "      <td>NaN</td>\n",
       "      <td>NaN</td>\n",
       "      <td>NaN</td>\n",
       "      <td>NaN</td>\n",
       "      <td>NaN</td>\n",
       "      <td>0.000000</td>\n",
       "    </tr>\n",
       "    <tr>\n",
       "      <th>max</th>\n",
       "      <td>17880.000000</td>\n",
       "      <td>NaN</td>\n",
       "      <td>NaN</td>\n",
       "      <td>NaN</td>\n",
       "      <td>NaN</td>\n",
       "      <td>NaN</td>\n",
       "      <td>NaN</td>\n",
       "      <td>NaN</td>\n",
       "      <td>NaN</td>\n",
       "      <td>1.000000</td>\n",
       "      <td>1.000000</td>\n",
       "      <td>1.000000</td>\n",
       "      <td>NaN</td>\n",
       "      <td>NaN</td>\n",
       "      <td>NaN</td>\n",
       "      <td>NaN</td>\n",
       "      <td>NaN</td>\n",
       "      <td>1.000000</td>\n",
       "    </tr>\n",
       "  </tbody>\n",
       "</table>\n",
       "</div>"
      ],
      "text/plain": [
       "              job_id                    title         location department  \\\n",
       "count   17880.000000                    17880            17534       6333   \n",
       "unique           NaN                    11231             3105       1337   \n",
       "top              NaN  English Teacher Abroad   GB, LND, London      Sales   \n",
       "freq             NaN                      311              718        551   \n",
       "mean     8940.500000                      NaN              NaN        NaN   \n",
       "std      5161.655742                      NaN              NaN        NaN   \n",
       "min         1.000000                      NaN              NaN        NaN   \n",
       "25%      4470.750000                      NaN              NaN        NaN   \n",
       "50%      8940.500000                      NaN              NaN        NaN   \n",
       "75%     13410.250000                      NaN              NaN        NaN   \n",
       "max     17880.000000                      NaN              NaN        NaN   \n",
       "\n",
       "       salary_range                                    company_profile  \\\n",
       "count          2868                                              14572   \n",
       "unique          874                                               1709   \n",
       "top             0-0  We help teachers get safe &amp; secure jobs ab...   \n",
       "freq            142                                                726   \n",
       "mean            NaN                                                NaN   \n",
       "std             NaN                                                NaN   \n",
       "min             NaN                                                NaN   \n",
       "25%             NaN                                                NaN   \n",
       "50%             NaN                                                NaN   \n",
       "75%             NaN                                                NaN   \n",
       "max             NaN                                                NaN   \n",
       "\n",
       "                                              description  \\\n",
       "count                                               17879   \n",
       "unique                                              14801   \n",
       "top     Play with kids, get paid for it Love travel? J...   \n",
       "freq                                                  379   \n",
       "mean                                                  NaN   \n",
       "std                                                   NaN   \n",
       "min                                                   NaN   \n",
       "25%                                                   NaN   \n",
       "50%                                                   NaN   \n",
       "75%                                                   NaN   \n",
       "max                                                   NaN   \n",
       "\n",
       "                                             requirements  \\\n",
       "count                                               15185   \n",
       "unique                                              11968   \n",
       "top     University degree required. TEFL / TESOL / CEL...   \n",
       "freq                                                  410   \n",
       "mean                                                  NaN   \n",
       "std                                                   NaN   \n",
       "min                                                   NaN   \n",
       "25%                                                   NaN   \n",
       "50%                                                   NaN   \n",
       "75%                                                   NaN   \n",
       "max                                                   NaN   \n",
       "\n",
       "                   benefits  telecommuting  has_company_logo  has_questions  \\\n",
       "count                 10670   17880.000000      17880.000000   17880.000000   \n",
       "unique                 6205            NaN               NaN            NaN   \n",
       "top     See job description            NaN               NaN            NaN   \n",
       "freq                    726            NaN               NaN            NaN   \n",
       "mean                    NaN       0.042897          0.795302       0.491723   \n",
       "std                     NaN       0.202631          0.403492       0.499945   \n",
       "min                     NaN       0.000000          0.000000       0.000000   \n",
       "25%                     NaN       0.000000          1.000000       0.000000   \n",
       "50%                     NaN       0.000000          1.000000       0.000000   \n",
       "75%                     NaN       0.000000          1.000000       1.000000   \n",
       "max                     NaN       1.000000          1.000000       1.000000   \n",
       "\n",
       "       employment_type required_experience required_education  \\\n",
       "count            14409               10830               9775   \n",
       "unique               5                   7                 13   \n",
       "top          Full-time    Mid-Senior level  Bachelor's Degree   \n",
       "freq             11620                3809               5145   \n",
       "mean               NaN                 NaN                NaN   \n",
       "std                NaN                 NaN                NaN   \n",
       "min                NaN                 NaN                NaN   \n",
       "25%                NaN                 NaN                NaN   \n",
       "50%                NaN                 NaN                NaN   \n",
       "75%                NaN                 NaN                NaN   \n",
       "max                NaN                 NaN                NaN   \n",
       "\n",
       "                                   industry                function  \\\n",
       "count                                 12977                   11425   \n",
       "unique                                  131                      37   \n",
       "top     Information Technology and Services  Information Technology   \n",
       "freq                                   1734                    1749   \n",
       "mean                                    NaN                     NaN   \n",
       "std                                     NaN                     NaN   \n",
       "min                                     NaN                     NaN   \n",
       "25%                                     NaN                     NaN   \n",
       "50%                                     NaN                     NaN   \n",
       "75%                                     NaN                     NaN   \n",
       "max                                     NaN                     NaN   \n",
       "\n",
       "          fraudulent  \n",
       "count   17880.000000  \n",
       "unique           NaN  \n",
       "top              NaN  \n",
       "freq             NaN  \n",
       "mean        0.048434  \n",
       "std         0.214688  \n",
       "min         0.000000  \n",
       "25%         0.000000  \n",
       "50%         0.000000  \n",
       "75%         0.000000  \n",
       "max         1.000000  "
      ]
     },
     "execution_count": 4,
     "metadata": {},
     "output_type": "execute_result"
    }
   ],
   "source": [
    "df0.describe(include='all')"
   ]
  },
  {
   "attachments": {},
   "cell_type": "markdown",
   "id": "4001ef7e",
   "metadata": {},
   "source": [
    "- Here for fraudulent jobs been need to find some similarities with them so that such things that doesn't exist r exist very less in normal job descriptions so here first we will be separating as a first priority that is fraudulent message and non fraudulent messages and then we will compare it's location department salary range and some of its key components"
   ]
  },
  {
   "cell_type": "code",
   "execution_count": 191,
   "id": "495a1f1d",
   "metadata": {},
   "outputs": [
    {
     "data": {
      "image/png": "[encoded data removed]",
      "text/plain": [
       "<Figure size 640x480 with 1 Axes>"
      ]
     },
     "metadata": {},
     "output_type": "display_data"
    }
   ],
   "source": [
    "df_f = df0[df0['fraudulent'] == 1]  #fraudulent\n",
    "df_nf = df0[df0['fraudulent'] == 0]  # non fraudulent\n",
    "\n",
    "plt.title(' fraudulent vs non fraudulent')\n",
    "plt.pie([df_f.shape[0], df_nf.shape[0]], \n",
    "        labels=['fraudulent', 'non fraudulent'], \n",
    "        explode=(0, 0.2),\n",
    "       colors=['blue','red'])\n",
    "plt.show()"
   ]
  },
  {
   "cell_type": "markdown",
   "id": "5ce5d40e",
   "metadata": {},
   "source": [
    "## <U>1. Null values Fixing</u>"
   ]
  },
  {
   "cell_type": "code",
   "execution_count": 24,
   "id": "a9395b15",
   "metadata": {},
   "outputs": [
    {
     "data": {
      "text/plain": [
       "salary_range           15012\n",
       "department             11547\n",
       "required_education      8105\n",
       "benefits                7210\n",
       "required_experience     7050\n",
       "function                6455\n",
       "industry                4903\n",
       "employment_type         3471\n",
       "company_profile         3308\n",
       "requirements            2695\n",
       "location                 346\n",
       "description                1\n",
       "job_id                     0\n",
       "telecommuting              0\n",
       "has_questions              0\n",
       "has_company_logo           0\n",
       "title                      0\n",
       "fraudulent                 0\n",
       "dtype: int64"
      ]
     },
     "execution_count": 24,
     "metadata": {},
     "output_type": "execute_result"
    }
   ],
   "source": [
    "df0.isnull().sum().sort_values(ascending= False)"
   ]
  },
  {
   "cell_type": "code",
   "execution_count": 23,
   "id": "03875573",
   "metadata": {},
   "outputs": [
    {
     "data": {
      "text/plain": [
       "salary_range           83\n",
       "department             64\n",
       "required_education     45\n",
       "benefits               40\n",
       "required_experience    39\n",
       "function               36\n",
       "industry               27\n",
       "employment_type        19\n",
       "company_profile        18\n",
       "requirements           15\n",
       "location                1\n",
       "description             0\n",
       "job_id                  0\n",
       "telecommuting           0\n",
       "has_questions           0\n",
       "has_company_logo        0\n",
       "title                   0\n",
       "fraudulent              0\n",
       "dtype: int64"
      ]
     },
     "execution_count": 23,
     "metadata": {},
     "output_type": "execute_result"
    }
   ],
   "source": [
    "df0.isnull().sum().sort_values(ascending= False) * 100// len(df0)  #in persentage"
   ]
  },
  {
   "attachments": {},
   "cell_type": "markdown",
   "id": "e61361c6",
   "metadata": {},
   "source": [
    "1. We will start with fixing the null values here so here we have location value basically location v caught to wait in a better way so better to drop all the 300 rows and for department I could see that like some of the job titles does not have any specific departments so for the all the remaining null values we will give a department called unknown\n",
    "\n",
    "1. and for salary range and there are about only 3000 rows that are there but most of the salary rows are empty so which means salaries are not specified so maybe we can give that not specified which is level zero of salary range I could see the salary ranges of object type maybe this can be in a categorical data so which means law salary range or unknown salary range that we are about to fix it will be zero and then the above and low salary is of 1 and the mid salary 2 and then high salary 3 something like that\n",
    "\n",
    "1. it is better to draw those those which does not have any company profile description and requirements benefits because we can't add company descriptions specify it so better to drop it in this case\n",
    "\n",
    "1. In employee sahib there are only I think full time part time other so it is better to have this nan values to be other And record experience also to be not applicable\n",
    "\n",
    "1. In some cases I could see that required education s null but basically for every job description at least we need a bachelor's degree that is a basic thing so we will fill all this null values with bachelor's degree the very basic\n",
    "\n",
    "1. Industries and functions it is also something very irrespective TO particular industries so we can't fill this out so will remove this course which are all having it\n"
   ]
  },
  {
   "cell_type": "markdown",
   "id": "6af6a5fa",
   "metadata": {},
   "source": [
    "- <b>Basically I have a doubt here which is if some columns are empty the key requirement columns are empty then which we can also save card these job descriptions can be fraudulent so that what we will do is the data which we have separated F, NF we apply drop na to both of these data so that we can see how many datas are been dropped in how many percentage let's say if it is a fraudulent data set and has a size of about 800 in which 500 roads are Mt so that which we can say that with the probability of 60% if the rows are empty then it is friedland</b>\n"
   ]
  },
  {
   "cell_type": "code",
   "execution_count": 6,
   "id": "963668a9",
   "metadata": {},
   "outputs": [
    {
     "name": "stdout",
     "output_type": "stream",
     "text": [
      "before drop (866, 18)\n",
      "after drop (197, 18)\n"
     ]
    }
   ],
   "source": [
    "print('before drop', df_f.shape)\n",
    "df0_f = df_f.dropna(subset=['title','company_profile','description','requirements','employment_type','required_experience','required_education','industry','function'])\n",
    "print('after drop', df0_f.shape)"
   ]
  },
  {
   "attachments": {},
   "cell_type": "markdown",
   "id": "cd38339f",
   "metadata": {},
   "source": [
    "- <b>I dropped the non important columns so that these columns are mandatory for a job description basically so if we dont have these columns so we are assuming that start job description will be false so out of 866 we have only 197 rows reminding which means 22% or non fraudulent which means this concert works with an efficiency of 77.25 percentage if we dont have values in these particular columns we can say that pictures of redolent job description with the percentage of 77.25</b>\n"
   ]
  },
  {
   "cell_type": "code",
   "execution_count": 7,
   "id": "1c15eed2",
   "metadata": {},
   "outputs": [
    {
     "name": "stdout",
     "output_type": "stream",
     "text": [
      "before drop (17014, 18)\n",
      "after drop (5971, 18)\n"
     ]
    }
   ],
   "source": [
    "print('before drop', df_nf.shape)\n",
    "df0_nf = df_nf.dropna(subset=['title','company_profile','description','requirements','employment_type','required_experience','required_education','industry','function'])\n",
    "print('after drop', df0_nf.shape)"
   ]
  },
  {
   "cell_type": "markdown",
   "id": "529eb4ee",
   "metadata": {},
   "source": [
    "- <b>And for non fraudulent even the same condition applies so in here we can see that if we dont have when use in these columns it is said to be non-fraudulent jobs with the efficiency of 64.9 percentage</b><br><br>\n",
    "- <b>if its a fraudulent given that we have atleast one null value that is 77.25 percentag <br> if its a Non fraudulent given that we have atleast one null value that is 64.9 percentage</b>"
   ]
  },
  {
   "attachments": {},
   "cell_type": "markdown",
   "id": "2e4b0737",
   "metadata": {},
   "source": [
    "- <b>In this case we have many null values basically some rules have vast number of null values so there are only 2 outputs will be considering here either will be filling all the null values so that which can also lead in false prediction and even if we drop all those null values it shrinks all the data set from 17,000 to 3000 maybe so which is very hard to predict which are which cannot be more accurate and result so we need a particular column to be taken care more specifically whether in that values can be dropped or can be filled.</b>"
   ]
  },
  {
   "attachments": {},
   "cell_type": "markdown",
   "id": "079934f6",
   "metadata": {},
   "source": [
    "- For this let us consider which are all the columns are high priority requirement columns and which columns that does not impact on results so we will split the data with only columns which are mostly required"
   ]
  },
  {
   "cell_type": "markdown",
   "id": "90959f7d",
   "metadata": {},
   "source": [
    "- Important columns are title, department, company profile, description, requirement, employment type, required experience, industry and function so from this if we take out the data and then we will drop columns which are null then we will remind with the least number of rows in this column so department has 6333 rows so maybe we will remind end up with a data set having 6300 rose which is literally 40% of data restart the case then we will even drop the department column so that we can have maybe 10,000 rows"
   ]
  },
  {
   "cell_type": "markdown",
   "id": "806a8ad8",
   "metadata": {},
   "source": [
    "#### A. <u>Fixing null values for department</u>"
   ]
  },
  {
   "cell_type": "code",
   "execution_count": 172,
   "id": "9ab3d2b7",
   "metadata": {},
   "outputs": [
    {
     "data": {
      "text/plain": [
       "11547"
      ]
     },
     "execution_count": 172,
     "metadata": {},
     "output_type": "execute_result"
    }
   ],
   "source": [
    "df01 = df0[['department', 'function']]\n",
    "df01['department'].isnull().sum()   #number of null before fixing"
   ]
  },
  {
   "attachments": {},
   "cell_type": "markdown",
   "id": "6cd980d5",
   "metadata": {},
   "source": [
    "- I have found that like for column filling the column department we can use the column called function so in this function we have literally just 36% of datas are missing but when you compare with department 64% of the datas are missing so we can fill if this logic works like when comparing with department and function which are all existing like both function and department or existing when we compare with them values if it's matching case are very high then we can fill with if department is nan and function we have as something called administrative our department we can fill it with the appropriate function value so we can fill up to 32% of the data"
   ]
  },
  {
   "cell_type": "code",
   "execution_count": 173,
   "id": "89a34982",
   "metadata": {},
   "outputs": [
    {
     "data": {
      "text/plain": [
       "array(['Administrative', 'Advertising', 'Business Development',\n",
       "       'Consulting', 'Customer Service', 'Design', 'Education',\n",
       "       'Engineering', 'Finance', 'Human Resources',\n",
       "       'Information Technology', 'Legal', 'Management', 'Manufacturing',\n",
       "       'Marketing', 'Other', 'Product Management', 'Production',\n",
       "       'Project Management', 'Public Relations', 'Purchasing',\n",
       "       'Quality Assurance', 'Research', 'Sales', 'Supply Chain',\n",
       "       'Training'], dtype=object)"
      ]
     },
     "execution_count": 173,
     "metadata": {},
     "output_type": "execute_result"
    }
   ],
   "source": [
    "df02 = df01.drop_duplicates(keep='first')\n",
    "df03 = df02.dropna()\n",
    "df04 = np.intersect1d(df03['department'], df03['function'])\n",
    "df04"
   ]
  },
  {
   "cell_type": "code",
   "execution_count": 182,
   "id": "80476d14",
   "metadata": {},
   "outputs": [
    {
     "data": {
      "text/plain": [
       "4903"
      ]
     },
     "execution_count": 182,
     "metadata": {},
     "output_type": "execute_result"
    }
   ],
   "source": [
    "df01 = df01.fillna(value= '-')\n",
    "for i in range(0, len(df01['department'])):\n",
    "    if (df01['department'][i] == '-') and ((df01['function'][i] in df04) or (df01['function'][i]) ):\n",
    "        df01['department'][i] = df01['function'][i]\n",
    "\n",
    "for i in range(0, len(df01['department'])):\n",
    "    if (df01['department'][i] == '-'):\n",
    "        df01['department'][i] = None\n",
    "\n",
    "df01['department'].isnull().sum()   ##null values after fixing"
   ]
  },
  {
   "cell_type": "markdown",
   "id": "8e413f20",
   "metadata": {},
   "source": [
    "- From this weekend come to know that before updating the null values for column department we have about 11,547 values that are null but after fixing it according to this procedure so we have about like 4903 null values now so we have fixed the vote 6500 values in the department column\n"
   ]
  },
  {
   "cell_type": "code",
   "execution_count": 185,
   "id": "95812d58",
   "metadata": {},
   "outputs": [
    {
     "data": {
      "text/plain": [
       "salary_range           83\n",
       "required_education     45\n",
       "benefits               40\n",
       "required_experience    39\n",
       "function               36\n",
       "department             27\n",
       "industry               27\n",
       "employment_type        19\n",
       "company_profile        18\n",
       "requirements           15\n",
       "location                1\n",
       "description             0\n",
       "job_id                  0\n",
       "telecommuting           0\n",
       "has_questions           0\n",
       "has_company_logo        0\n",
       "title                   0\n",
       "fraudulent              0\n",
       "dtype: int64"
      ]
     },
     "execution_count": 185,
     "metadata": {},
     "output_type": "execute_result"
    }
   ],
   "source": [
    "df0['department'] = df01['department']\n",
    "df0.isnull().sum().sort_values(ascending= False) * 100// len(df0)  #in persentage"
   ]
  },
  {
   "attachments": {},
   "cell_type": "markdown",
   "id": "3972caaa",
   "metadata": {},
   "source": [
    "- <b>So from this we have decreased the null values of department column from <u>64% to 27%</u></b>"
   ]
  },
  {
   "cell_type": "markdown",
   "id": "20d15c25",
   "metadata": {},
   "source": [
    "#### B. <u>Fixing Null values for function</u>"
   ]
  },
  {
   "cell_type": "code",
   "execution_count": 186,
   "id": "36e6c3a3",
   "metadata": {},
   "outputs": [
    {
     "data": {
      "text/plain": [
       "6455"
      ]
     },
     "execution_count": 186,
     "metadata": {},
     "output_type": "execute_result"
    }
   ],
   "source": [
    "df01 = df0[['department', 'function']]\n",
    "df01['function'].isnull().sum()   #number of null before fixing"
   ]
  },
  {
   "cell_type": "code",
   "execution_count": 187,
   "id": "dd567910",
   "metadata": {},
   "outputs": [
    {
     "data": {
      "text/plain": [
       "array(['Accounting/Auditing', 'Administrative', 'Advertising',\n",
       "       'Art/Creative', 'Business Analyst', 'Business Development',\n",
       "       'Consulting', 'Customer Service', 'Data Analyst', 'Design',\n",
       "       'Distribution', 'Education', 'Engineering', 'Finance',\n",
       "       'Financial Analyst', 'General Business', 'Health Care Provider',\n",
       "       'Human Resources', 'Information Technology', 'Legal', 'Management',\n",
       "       'Manufacturing', 'Marketing', 'Other', 'Product Management',\n",
       "       'Production', 'Project Management', 'Public Relations',\n",
       "       'Purchasing', 'Quality Assurance', 'Research', 'Sales', 'Science',\n",
       "       'Strategy/Planning', 'Supply Chain', 'Training', 'Writing/Editing'],\n",
       "      dtype=object)"
      ]
     },
     "execution_count": 187,
     "metadata": {},
     "output_type": "execute_result"
    }
   ],
   "source": [
    "df02 = df01.drop_duplicates(keep='first')\n",
    "df03 = df02.dropna()\n",
    "df04 = np.intersect1d(df03['department'], df03['function'])\n",
    "df04"
   ]
  },
  {
   "cell_type": "code",
   "execution_count": 188,
   "id": "04480009",
   "metadata": {},
   "outputs": [
    {
     "data": {
      "text/plain": [
       "4903"
      ]
     },
     "execution_count": 188,
     "metadata": {},
     "output_type": "execute_result"
    }
   ],
   "source": [
    "#the back tracking case for functions are taken lly from department.\n",
    "df01 = df01.fillna(value= '-')\n",
    "for i in range(0, len(df01['function'])):\n",
    "    if (df01['function'][i] == '-') and ((df01['department'][i] in df04) or (df01['department'][i]) ):\n",
    "        df01['function'][i] = df01['department'][i]\n",
    "\n",
    "for i in range(0, len(df01['function'])):\n",
    "    if (df01['function'][i] == '-'):\n",
    "        df01['function'][i] = None\n",
    "\n",
    "df01['function'].isnull().sum()"
   ]
  },
  {
   "cell_type": "code",
   "execution_count": 189,
   "id": "2106bf69",
   "metadata": {},
   "outputs": [
    {
     "data": {
      "text/plain": [
       "salary_range           83\n",
       "required_education     45\n",
       "benefits               40\n",
       "required_experience    39\n",
       "department             27\n",
       "function               27\n",
       "industry               27\n",
       "employment_type        19\n",
       "company_profile        18\n",
       "requirements           15\n",
       "location                1\n",
       "description             0\n",
       "job_id                  0\n",
       "telecommuting           0\n",
       "has_questions           0\n",
       "has_company_logo        0\n",
       "title                   0\n",
       "fraudulent              0\n",
       "dtype: int64"
      ]
     },
     "execution_count": 189,
     "metadata": {},
     "output_type": "execute_result"
    }
   ],
   "source": [
    "df0['function'] = df01['function']\n",
    "df0.isnull().sum().sort_values(ascending= False) * 100// len(df0)  #in persentage"
   ]
  },
  {
   "cell_type": "markdown",
   "id": "62aacc25",
   "metadata": {},
   "source": [
    "- <b>By applying a similar procedure which is carried by department column null value from function column has been reduced to flow <u>36% to 27%</u></b>"
   ]
  },
  {
   "cell_type": "code",
   "execution_count": null,
   "id": "5c5bf993",
   "metadata": {},
   "outputs": [],
   "source": []
  }
 ],
 "metadata": {
  "kernelspec": {
   "display_name": "Python 3 (ipykernel)",
   "language": "python",
   "name": "python3"
  },
  "language_info": {
   "codemirror_mode": {
    "name": "ipython",
    "version": 3
   },
   "file_extension": ".py",
   "mimetype": "text/x-python",
   "name": "python",
   "nbconvert_exporter": "python",
   "pygments_lexer": "ipython3",
   "version": "3.11.2"
  }
 },
 "nbformat": 4,
 "nbformat_minor": 5
}
