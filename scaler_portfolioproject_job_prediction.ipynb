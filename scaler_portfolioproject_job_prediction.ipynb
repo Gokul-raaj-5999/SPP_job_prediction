{
 "cells": [
  {
   "cell_type": "code",
   "execution_count": 1,
   "id": "b425b369",
   "metadata": {},
   "outputs": [
    {
     "name": "stderr",
     "output_type": "stream",
     "text": [
      "[nltk_data] Error loading stopwords: <urlopen error [WinError 10060] A\n",
      "[nltk_data]     connection attempt failed because the connected party\n",
      "[nltk_data]     did not properly respond after a period of time, or\n",
      "[nltk_data]     established connection failed because connected host\n",
      "[nltk_data]     has failed to respond>\n",
      "[nltk_data] Error loading punkt: <urlopen error [WinError 10060] A\n",
      "[nltk_data]     connection attempt failed because the connected party\n",
      "[nltk_data]     did not properly respond after a period of time, or\n",
      "[nltk_data]     established connection failed because connected host\n",
      "[nltk_data]     has failed to respond>\n",
      "[nltk_data] Error loading wordnet: <urlopen error [WinError 10060] A\n",
      "[nltk_data]     connection attempt failed because the connected party\n",
      "[nltk_data]     did not properly respond after a period of time, or\n",
      "[nltk_data]     established connection failed because connected host\n",
      "[nltk_data]     has failed to respond>\n"
     ]
    },
    {
     "data": {
      "text/plain": [
       "False"
      ]
     },
     "execution_count": 1,
     "metadata": {},
     "output_type": "execute_result"
    }
   ],
   "source": [
    "import warnings\n",
    "warnings.filterwarnings('ignore')\n",
    "\n",
    "import pandas as pd\n",
    "import numpy as np\n",
    "import matplotlib.pyplot as plt\n",
    "import seaborn as sns\n",
    "import statistics as sts\n",
    "import math\n",
    "import re\n",
    "import operator\n",
    "\n",
    "\n",
    "#for Hypothesis testing\n",
    "from scipy.stats import binom, poisson, geom, norm, expon  # distribution  \n",
    "from scipy.stats import shapiro, normaltest, levene, kruskal  # nArmality test\n",
    "import statsmodels.api as sm                                  # qqplot\n",
    "from scipy.stats import pearsonr, spearmanr, chi2_contingency   # correlAtion test\n",
    "from statsmodels.tsa.stattools import adfuller, kpss # stAstanary test\n",
    "from statsmodels.stats.weightstats import ztest  #num hypothesis testing\n",
    "from scipy.stats import ttest_ind, ttest_rel, f_oneway, chi2   # parametric hypothisis testing\n",
    "\n",
    "\n",
    "# for NLTK\n",
    "import nltk\n",
    "from wordcloud import WordCloud, STOPWORDS\n",
    "from sklearn.metrics import accuracy_score, classification_report, confusion_matrix, f1_score\n",
    "from nltk.corpus import stopwords\n",
    "from nltk.tokenize import word_tokenize\n",
    "from nltk.stem import WordNetLemmatizer\n",
    "wnl = WordNetLemmatizer()\n",
    "nltk.download('stopwords')\n",
    "nltk.download('punkt')\n",
    "nltk.download('wordnet')"
   ]
  },
  {
   "cell_type": "code",
   "execution_count": 2,
   "id": "5efbbce8",
   "metadata": {},
   "outputs": [
    {
     "data": {
      "text/html": [
       "<div>\n",
       "<style scoped>\n",
       "    .dataframe tbody tr th:only-of-type {\n",
       "        vertical-align: middle;\n",
       "    }\n",
       "\n",
       "    .dataframe tbody tr th {\n",
       "        vertical-align: top;\n",
       "    }\n",
       "\n",
       "    .dataframe thead th {\n",
       "        text-align: right;\n",
       "    }\n",
       "</style>\n",
       "<table border=\"1\" class=\"dataframe\">\n",
       "  <thead>\n",
       "    <tr style=\"text-align: right;\">\n",
       "      <th></th>\n",
       "      <th>job_id</th>\n",
       "      <th>title</th>\n",
       "      <th>location</th>\n",
       "      <th>department</th>\n",
       "      <th>salary_range</th>\n",
       "      <th>company_profile</th>\n",
       "      <th>description</th>\n",
       "      <th>requirements</th>\n",
       "      <th>benefits</th>\n",
       "      <th>telecommuting</th>\n",
       "      <th>has_company_logo</th>\n",
       "      <th>has_questions</th>\n",
       "      <th>employment_type</th>\n",
       "      <th>required_experience</th>\n",
       "      <th>required_education</th>\n",
       "      <th>industry</th>\n",
       "      <th>function</th>\n",
       "      <th>fraudulent</th>\n",
       "    </tr>\n",
       "  </thead>\n",
       "  <tbody>\n",
       "    <tr>\n",
       "      <th>0</th>\n",
       "      <td>1</td>\n",
       "      <td>Marketing Intern</td>\n",
       "      <td>US, NY, New York</td>\n",
       "      <td>Marketing</td>\n",
       "      <td>NaN</td>\n",
       "      <td>We're Food52, and we've created a groundbreaki...</td>\n",
       "      <td>Food52, a fast-growing, James Beard Award-winn...</td>\n",
       "      <td>Experience with content management systems a m...</td>\n",
       "      <td>NaN</td>\n",
       "      <td>0</td>\n",
       "      <td>1</td>\n",
       "      <td>0</td>\n",
       "      <td>Other</td>\n",
       "      <td>Internship</td>\n",
       "      <td>NaN</td>\n",
       "      <td>NaN</td>\n",
       "      <td>Marketing</td>\n",
       "      <td>0</td>\n",
       "    </tr>\n",
       "    <tr>\n",
       "      <th>1</th>\n",
       "      <td>2</td>\n",
       "      <td>Customer Service - Cloud Video Production</td>\n",
       "      <td>NZ, , Auckland</td>\n",
       "      <td>Success</td>\n",
       "      <td>NaN</td>\n",
       "      <td>90 Seconds, the worlds Cloud Video Production ...</td>\n",
       "      <td>Organised - Focused - Vibrant - Awesome!Do you...</td>\n",
       "      <td>What we expect from you:Your key responsibilit...</td>\n",
       "      <td>What you will get from usThrough being part of...</td>\n",
       "      <td>0</td>\n",
       "      <td>1</td>\n",
       "      <td>0</td>\n",
       "      <td>Full-time</td>\n",
       "      <td>Not Applicable</td>\n",
       "      <td>NaN</td>\n",
       "      <td>Marketing and Advertising</td>\n",
       "      <td>Customer Service</td>\n",
       "      <td>0</td>\n",
       "    </tr>\n",
       "    <tr>\n",
       "      <th>2</th>\n",
       "      <td>3</td>\n",
       "      <td>Commissioning Machinery Assistant (CMA)</td>\n",
       "      <td>US, IA, Wever</td>\n",
       "      <td>NaN</td>\n",
       "      <td>NaN</td>\n",
       "      <td>Valor Services provides Workforce Solutions th...</td>\n",
       "      <td>Our client, located in Houston, is actively se...</td>\n",
       "      <td>Implement pre-commissioning and commissioning ...</td>\n",
       "      <td>NaN</td>\n",
       "      <td>0</td>\n",
       "      <td>1</td>\n",
       "      <td>0</td>\n",
       "      <td>NaN</td>\n",
       "      <td>NaN</td>\n",
       "      <td>NaN</td>\n",
       "      <td>NaN</td>\n",
       "      <td>NaN</td>\n",
       "      <td>0</td>\n",
       "    </tr>\n",
       "    <tr>\n",
       "      <th>3</th>\n",
       "      <td>4</td>\n",
       "      <td>Account Executive - Washington DC</td>\n",
       "      <td>US, DC, Washington</td>\n",
       "      <td>Sales</td>\n",
       "      <td>NaN</td>\n",
       "      <td>Our passion for improving quality of life thro...</td>\n",
       "      <td>THE COMPANY: ESRI – Environmental Systems Rese...</td>\n",
       "      <td>EDUCATION: Bachelor’s or Master’s in GIS, busi...</td>\n",
       "      <td>Our culture is anything but corporate—we have ...</td>\n",
       "      <td>0</td>\n",
       "      <td>1</td>\n",
       "      <td>0</td>\n",
       "      <td>Full-time</td>\n",
       "      <td>Mid-Senior level</td>\n",
       "      <td>Bachelor's Degree</td>\n",
       "      <td>Computer Software</td>\n",
       "      <td>Sales</td>\n",
       "      <td>0</td>\n",
       "    </tr>\n",
       "    <tr>\n",
       "      <th>4</th>\n",
       "      <td>5</td>\n",
       "      <td>Bill Review Manager</td>\n",
       "      <td>US, FL, Fort Worth</td>\n",
       "      <td>NaN</td>\n",
       "      <td>NaN</td>\n",
       "      <td>SpotSource Solutions LLC is a Global Human Cap...</td>\n",
       "      <td>JOB TITLE: Itemization Review ManagerLOCATION:...</td>\n",
       "      <td>QUALIFICATIONS:RN license in the State of Texa...</td>\n",
       "      <td>Full Benefits Offered</td>\n",
       "      <td>0</td>\n",
       "      <td>1</td>\n",
       "      <td>1</td>\n",
       "      <td>Full-time</td>\n",
       "      <td>Mid-Senior level</td>\n",
       "      <td>Bachelor's Degree</td>\n",
       "      <td>Hospital &amp; Health Care</td>\n",
       "      <td>Health Care Provider</td>\n",
       "      <td>0</td>\n",
       "    </tr>\n",
       "  </tbody>\n",
       "</table>\n",
       "</div>"
      ],
      "text/plain": [
       "   job_id                                      title            location  \\\n",
       "0       1                           Marketing Intern    US, NY, New York   \n",
       "1       2  Customer Service - Cloud Video Production      NZ, , Auckland   \n",
       "2       3    Commissioning Machinery Assistant (CMA)       US, IA, Wever   \n",
       "3       4          Account Executive - Washington DC  US, DC, Washington   \n",
       "4       5                        Bill Review Manager  US, FL, Fort Worth   \n",
       "\n",
       "  department salary_range                                    company_profile  \\\n",
       "0  Marketing          NaN  We're Food52, and we've created a groundbreaki...   \n",
       "1    Success          NaN  90 Seconds, the worlds Cloud Video Production ...   \n",
       "2        NaN          NaN  Valor Services provides Workforce Solutions th...   \n",
       "3      Sales          NaN  Our passion for improving quality of life thro...   \n",
       "4        NaN          NaN  SpotSource Solutions LLC is a Global Human Cap...   \n",
       "\n",
       "                                         description  \\\n",
       "0  Food52, a fast-growing, James Beard Award-winn...   \n",
       "1  Organised - Focused - Vibrant - Awesome!Do you...   \n",
       "2  Our client, located in Houston, is actively se...   \n",
       "3  THE COMPANY: ESRI – Environmental Systems Rese...   \n",
       "4  JOB TITLE: Itemization Review ManagerLOCATION:...   \n",
       "\n",
       "                                        requirements  \\\n",
       "0  Experience with content management systems a m...   \n",
       "1  What we expect from you:Your key responsibilit...   \n",
       "2  Implement pre-commissioning and commissioning ...   \n",
       "3  EDUCATION: Bachelor’s or Master’s in GIS, busi...   \n",
       "4  QUALIFICATIONS:RN license in the State of Texa...   \n",
       "\n",
       "                                            benefits  telecommuting  \\\n",
       "0                                                NaN              0   \n",
       "1  What you will get from usThrough being part of...              0   \n",
       "2                                                NaN              0   \n",
       "3  Our culture is anything but corporate—we have ...              0   \n",
       "4                              Full Benefits Offered              0   \n",
       "\n",
       "   has_company_logo  has_questions employment_type required_experience  \\\n",
       "0                 1              0           Other          Internship   \n",
       "1                 1              0       Full-time      Not Applicable   \n",
       "2                 1              0             NaN                 NaN   \n",
       "3                 1              0       Full-time    Mid-Senior level   \n",
       "4                 1              1       Full-time    Mid-Senior level   \n",
       "\n",
       "  required_education                   industry              function  \\\n",
       "0                NaN                        NaN             Marketing   \n",
       "1                NaN  Marketing and Advertising      Customer Service   \n",
       "2                NaN                        NaN                   NaN   \n",
       "3  Bachelor's Degree          Computer Software                 Sales   \n",
       "4  Bachelor's Degree     Hospital & Health Care  Health Care Provider   \n",
       "\n",
       "   fraudulent  \n",
       "0           0  \n",
       "1           0  \n",
       "2           0  \n",
       "3           0  \n",
       "4           0  "
      ]
     },
     "execution_count": 2,
     "metadata": {},
     "output_type": "execute_result"
    }
   ],
   "source": [
    "data = pd.read_csv(\"fake_job_postings_dataset.csv\")\n",
    "data.head()"
   ]
  },
  {
   "cell_type": "markdown",
   "id": "5cf72def",
   "metadata": {},
   "source": [
    "1. <b>Here we will be giving job description so that we can find which job is accurate and which are all fake jobs so that the user can easily identify and can apply to the actual jobs and truthful jobs that are being posted  we use basic EDA For this job description project</b>\n",
    "\n",
    "1. May be here some of the columns are object d type and some of the columns are in 64 type so which means we have only 2 categories so that are object that is string and integer respectively\n",
    "\n",
    "1. job ID is similar to serial number so we don't have any big kind of impact on this\n",
    "\n",
    "1. title is something very intrusive and location also maybe department and salary range in most cases we see that salary range this not a number and then we have company profile description and requirement and benefits which are of a big strings mostly they need a very large regular expression kind of thing to detailed analysis \n",
    "\n",
    "1. company profile with is literally telling about the companies background and description is telling about the job description so which you will be working on and the requirement is which are all the basic things that you need to get a job so baby this 3 columns are very more important\n",
    "\n",
    "1. And then we come back with benefits telecommunication company logo so basically company logo doesn't play any important role here has questions even though doesn't comes enough very good manner \n",
    "\n",
    "1. employee type may be so we have here a categorical kind of data and then required experience it is also some kind of categorical data required education is housework categorical data industry and function that comes under a kind of string kind of thing so we have variety of unique values here in resultant fault tolerant\n",
    "\n",
    "1. so here we are about to find which kind of description matches or that is in queue commonly there in all the fault tolerance true that is 1 so if fraudulent is zero which means job descriptions is true and if it is one it is false so that that specific job description is said to be false so in this case we need to find out the relationship between all the false job descriptions may be and then which are all the factors that are influencing which adding an advantage to become an fraudulent job\n",
    "\n",
    "1. <b>So for supporting this will be running some kind of hypothesis testing maybe correlation or independent test for dependency test between fraudulent and with mainly on employment type required experience required education industry function salary range title department and location so which are all like very much dependent on like with both each other so we will call we can create and come to a conclusion</b>\n",
    "\n",
    "1. <b>and from company profile description and requirement so these are basically string kind of things so we need enough TK so the higher end to analyse this with a relation of fraudulent but that is being more higher now so will do basic regular expression d on which are all the common terms that are mainly found in fraudulent cases</b>"
   ]
  },
  {
   "cell_type": "code",
   "execution_count": 3,
   "id": "459e07e5",
   "metadata": {},
   "outputs": [
    {
     "name": "stdout",
     "output_type": "stream",
     "text": [
      "<class 'pandas.core.frame.DataFrame'>\n",
      "RangeIndex: 17880 entries, 0 to 17879\n",
      "Data columns (total 18 columns):\n",
      " #   Column               Non-Null Count  Dtype \n",
      "---  ------               --------------  ----- \n",
      " 0   job_id               17880 non-null  int64 \n",
      " 1   title                17880 non-null  object\n",
      " 2   location             17534 non-null  object\n",
      " 3   department           6333 non-null   object\n",
      " 4   salary_range         2868 non-null   object\n",
      " 5   company_profile      14572 non-null  object\n",
      " 6   description          17879 non-null  object\n",
      " 7   requirements         15185 non-null  object\n",
      " 8   benefits             10670 non-null  object\n",
      " 9   telecommuting        17880 non-null  int64 \n",
      " 10  has_company_logo     17880 non-null  int64 \n",
      " 11  has_questions        17880 non-null  int64 \n",
      " 12  employment_type      14409 non-null  object\n",
      " 13  required_experience  10830 non-null  object\n",
      " 14  required_education   9775 non-null   object\n",
      " 15  industry             12977 non-null  object\n",
      " 16  function             11425 non-null  object\n",
      " 17  fraudulent           17880 non-null  int64 \n",
      "dtypes: int64(5), object(13)\n",
      "memory usage: 2.5+ MB\n"
     ]
    }
   ],
   "source": [
    "df0 = data.copy()\n",
    "df0.info()"
   ]
  },
  {
   "cell_type": "markdown",
   "id": "6c75b904",
   "metadata": {},
   "source": [
    "- So we have some null values here may be we need to take care of all the columns we have about 18 columns in which 7 columns that have all the values present in it and remaining 10 columns as many missing values so that has to be taking care very carefully!"
   ]
  },
  {
   "cell_type": "code",
   "execution_count": 4,
   "id": "bf48c8a9",
   "metadata": {},
   "outputs": [
    {
     "data": {
      "text/html": [
       "<div>\n",
       "<style scoped>\n",
       "    .dataframe tbody tr th:only-of-type {\n",
       "        vertical-align: middle;\n",
       "    }\n",
       "\n",
       "    .dataframe tbody tr th {\n",
       "        vertical-align: top;\n",
       "    }\n",
       "\n",
       "    .dataframe thead th {\n",
       "        text-align: right;\n",
       "    }\n",
       "</style>\n",
       "<table border=\"1\" class=\"dataframe\">\n",
       "  <thead>\n",
       "    <tr style=\"text-align: right;\">\n",
       "      <th></th>\n",
       "      <th>job_id</th>\n",
       "      <th>title</th>\n",
       "      <th>location</th>\n",
       "      <th>department</th>\n",
       "      <th>salary_range</th>\n",
       "      <th>company_profile</th>\n",
       "      <th>description</th>\n",
       "      <th>requirements</th>\n",
       "      <th>benefits</th>\n",
       "      <th>telecommuting</th>\n",
       "      <th>has_company_logo</th>\n",
       "      <th>has_questions</th>\n",
       "      <th>employment_type</th>\n",
       "      <th>required_experience</th>\n",
       "      <th>required_education</th>\n",
       "      <th>industry</th>\n",
       "      <th>function</th>\n",
       "      <th>fraudulent</th>\n",
       "    </tr>\n",
       "  </thead>\n",
       "  <tbody>\n",
       "    <tr>\n",
       "      <th>count</th>\n",
       "      <td>17880.000000</td>\n",
       "      <td>17880</td>\n",
       "      <td>17534</td>\n",
       "      <td>6333</td>\n",
       "      <td>2868</td>\n",
       "      <td>14572</td>\n",
       "      <td>17879</td>\n",
       "      <td>15185</td>\n",
       "      <td>10670</td>\n",
       "      <td>17880.000000</td>\n",
       "      <td>17880.000000</td>\n",
       "      <td>17880.000000</td>\n",
       "      <td>14409</td>\n",
       "      <td>10830</td>\n",
       "      <td>9775</td>\n",
       "      <td>12977</td>\n",
       "      <td>11425</td>\n",
       "      <td>17880.000000</td>\n",
       "    </tr>\n",
       "    <tr>\n",
       "      <th>unique</th>\n",
       "      <td>NaN</td>\n",
       "      <td>11231</td>\n",
       "      <td>3105</td>\n",
       "      <td>1337</td>\n",
       "      <td>874</td>\n",
       "      <td>1709</td>\n",
       "      <td>14801</td>\n",
       "      <td>11968</td>\n",
       "      <td>6205</td>\n",
       "      <td>NaN</td>\n",
       "      <td>NaN</td>\n",
       "      <td>NaN</td>\n",
       "      <td>5</td>\n",
       "      <td>7</td>\n",
       "      <td>13</td>\n",
       "      <td>131</td>\n",
       "      <td>37</td>\n",
       "      <td>NaN</td>\n",
       "    </tr>\n",
       "    <tr>\n",
       "      <th>top</th>\n",
       "      <td>NaN</td>\n",
       "      <td>English Teacher Abroad</td>\n",
       "      <td>GB, LND, London</td>\n",
       "      <td>Sales</td>\n",
       "      <td>0-0</td>\n",
       "      <td>We help teachers get safe &amp;amp; secure jobs ab...</td>\n",
       "      <td>Play with kids, get paid for it Love travel? J...</td>\n",
       "      <td>University degree required. TEFL / TESOL / CEL...</td>\n",
       "      <td>See job description</td>\n",
       "      <td>NaN</td>\n",
       "      <td>NaN</td>\n",
       "      <td>NaN</td>\n",
       "      <td>Full-time</td>\n",
       "      <td>Mid-Senior level</td>\n",
       "      <td>Bachelor's Degree</td>\n",
       "      <td>Information Technology and Services</td>\n",
       "      <td>Information Technology</td>\n",
       "      <td>NaN</td>\n",
       "    </tr>\n",
       "    <tr>\n",
       "      <th>freq</th>\n",
       "      <td>NaN</td>\n",
       "      <td>311</td>\n",
       "      <td>718</td>\n",
       "      <td>551</td>\n",
       "      <td>142</td>\n",
       "      <td>726</td>\n",
       "      <td>379</td>\n",
       "      <td>410</td>\n",
       "      <td>726</td>\n",
       "      <td>NaN</td>\n",
       "      <td>NaN</td>\n",
       "      <td>NaN</td>\n",
       "      <td>11620</td>\n",
       "      <td>3809</td>\n",
       "      <td>5145</td>\n",
       "      <td>1734</td>\n",
       "      <td>1749</td>\n",
       "      <td>NaN</td>\n",
       "    </tr>\n",
       "    <tr>\n",
       "      <th>mean</th>\n",
       "      <td>8940.500000</td>\n",
       "      <td>NaN</td>\n",
       "      <td>NaN</td>\n",
       "      <td>NaN</td>\n",
       "      <td>NaN</td>\n",
       "      <td>NaN</td>\n",
       "      <td>NaN</td>\n",
       "      <td>NaN</td>\n",
       "      <td>NaN</td>\n",
       "      <td>0.042897</td>\n",
       "      <td>0.795302</td>\n",
       "      <td>0.491723</td>\n",
       "      <td>NaN</td>\n",
       "      <td>NaN</td>\n",
       "      <td>NaN</td>\n",
       "      <td>NaN</td>\n",
       "      <td>NaN</td>\n",
       "      <td>0.048434</td>\n",
       "    </tr>\n",
       "    <tr>\n",
       "      <th>std</th>\n",
       "      <td>5161.655742</td>\n",
       "      <td>NaN</td>\n",
       "      <td>NaN</td>\n",
       "      <td>NaN</td>\n",
       "      <td>NaN</td>\n",
       "      <td>NaN</td>\n",
       "      <td>NaN</td>\n",
       "      <td>NaN</td>\n",
       "      <td>NaN</td>\n",
       "      <td>0.202631</td>\n",
       "      <td>0.403492</td>\n",
       "      <td>0.499945</td>\n",
       "      <td>NaN</td>\n",
       "      <td>NaN</td>\n",
       "      <td>NaN</td>\n",
       "      <td>NaN</td>\n",
       "      <td>NaN</td>\n",
       "      <td>0.214688</td>\n",
       "    </tr>\n",
       "    <tr>\n",
       "      <th>min</th>\n",
       "      <td>1.000000</td>\n",
       "      <td>NaN</td>\n",
       "      <td>NaN</td>\n",
       "      <td>NaN</td>\n",
       "      <td>NaN</td>\n",
       "      <td>NaN</td>\n",
       "      <td>NaN</td>\n",
       "      <td>NaN</td>\n",
       "      <td>NaN</td>\n",
       "      <td>0.000000</td>\n",
       "      <td>0.000000</td>\n",
       "      <td>0.000000</td>\n",
       "      <td>NaN</td>\n",
       "      <td>NaN</td>\n",
       "      <td>NaN</td>\n",
       "      <td>NaN</td>\n",
       "      <td>NaN</td>\n",
       "      <td>0.000000</td>\n",
       "    </tr>\n",
       "    <tr>\n",
       "      <th>25%</th>\n",
       "      <td>4470.750000</td>\n",
       "      <td>NaN</td>\n",
       "      <td>NaN</td>\n",
       "      <td>NaN</td>\n",
       "      <td>NaN</td>\n",
       "      <td>NaN</td>\n",
       "      <td>NaN</td>\n",
       "      <td>NaN</td>\n",
       "      <td>NaN</td>\n",
       "      <td>0.000000</td>\n",
       "      <td>1.000000</td>\n",
       "      <td>0.000000</td>\n",
       "      <td>NaN</td>\n",
       "      <td>NaN</td>\n",
       "      <td>NaN</td>\n",
       "      <td>NaN</td>\n",
       "      <td>NaN</td>\n",
       "      <td>0.000000</td>\n",
       "    </tr>\n",
       "    <tr>\n",
       "      <th>50%</th>\n",
       "      <td>8940.500000</td>\n",
       "      <td>NaN</td>\n",
       "      <td>NaN</td>\n",
       "      <td>NaN</td>\n",
       "      <td>NaN</td>\n",
       "      <td>NaN</td>\n",
       "      <td>NaN</td>\n",
       "      <td>NaN</td>\n",
       "      <td>NaN</td>\n",
       "      <td>0.000000</td>\n",
       "      <td>1.000000</td>\n",
       "      <td>0.000000</td>\n",
       "      <td>NaN</td>\n",
       "      <td>NaN</td>\n",
       "      <td>NaN</td>\n",
       "      <td>NaN</td>\n",
       "      <td>NaN</td>\n",
       "      <td>0.000000</td>\n",
       "    </tr>\n",
       "    <tr>\n",
       "      <th>75%</th>\n",
       "      <td>13410.250000</td>\n",
       "      <td>NaN</td>\n",
       "      <td>NaN</td>\n",
       "      <td>NaN</td>\n",
       "      <td>NaN</td>\n",
       "      <td>NaN</td>\n",
       "      <td>NaN</td>\n",
       "      <td>NaN</td>\n",
       "      <td>NaN</td>\n",
       "      <td>0.000000</td>\n",
       "      <td>1.000000</td>\n",
       "      <td>1.000000</td>\n",
       "      <td>NaN</td>\n",
       "      <td>NaN</td>\n",
       "      <td>NaN</td>\n",
       "      <td>NaN</td>\n",
       "      <td>NaN</td>\n",
       "      <td>0.000000</td>\n",
       "    </tr>\n",
       "    <tr>\n",
       "      <th>max</th>\n",
       "      <td>17880.000000</td>\n",
       "      <td>NaN</td>\n",
       "      <td>NaN</td>\n",
       "      <td>NaN</td>\n",
       "      <td>NaN</td>\n",
       "      <td>NaN</td>\n",
       "      <td>NaN</td>\n",
       "      <td>NaN</td>\n",
       "      <td>NaN</td>\n",
       "      <td>1.000000</td>\n",
       "      <td>1.000000</td>\n",
       "      <td>1.000000</td>\n",
       "      <td>NaN</td>\n",
       "      <td>NaN</td>\n",
       "      <td>NaN</td>\n",
       "      <td>NaN</td>\n",
       "      <td>NaN</td>\n",
       "      <td>1.000000</td>\n",
       "    </tr>\n",
       "  </tbody>\n",
       "</table>\n",
       "</div>"
      ],
      "text/plain": [
       "              job_id                    title         location department  \\\n",
       "count   17880.000000                    17880            17534       6333   \n",
       "unique           NaN                    11231             3105       1337   \n",
       "top              NaN  English Teacher Abroad   GB, LND, London      Sales   \n",
       "freq             NaN                      311              718        551   \n",
       "mean     8940.500000                      NaN              NaN        NaN   \n",
       "std      5161.655742                      NaN              NaN        NaN   \n",
       "min         1.000000                      NaN              NaN        NaN   \n",
       "25%      4470.750000                      NaN              NaN        NaN   \n",
       "50%      8940.500000                      NaN              NaN        NaN   \n",
       "75%     13410.250000                      NaN              NaN        NaN   \n",
       "max     17880.000000                      NaN              NaN        NaN   \n",
       "\n",
       "       salary_range                                    company_profile  \\\n",
       "count          2868                                              14572   \n",
       "unique          874                                               1709   \n",
       "top             0-0  We help teachers get safe &amp; secure jobs ab...   \n",
       "freq            142                                                726   \n",
       "mean            NaN                                                NaN   \n",
       "std             NaN                                                NaN   \n",
       "min             NaN                                                NaN   \n",
       "25%             NaN                                                NaN   \n",
       "50%             NaN                                                NaN   \n",
       "75%             NaN                                                NaN   \n",
       "max             NaN                                                NaN   \n",
       "\n",
       "                                              description  \\\n",
       "count                                               17879   \n",
       "unique                                              14801   \n",
       "top     Play with kids, get paid for it Love travel? J...   \n",
       "freq                                                  379   \n",
       "mean                                                  NaN   \n",
       "std                                                   NaN   \n",
       "min                                                   NaN   \n",
       "25%                                                   NaN   \n",
       "50%                                                   NaN   \n",
       "75%                                                   NaN   \n",
       "max                                                   NaN   \n",
       "\n",
       "                                             requirements  \\\n",
       "count                                               15185   \n",
       "unique                                              11968   \n",
       "top     University degree required. TEFL / TESOL / CEL...   \n",
       "freq                                                  410   \n",
       "mean                                                  NaN   \n",
       "std                                                   NaN   \n",
       "min                                                   NaN   \n",
       "25%                                                   NaN   \n",
       "50%                                                   NaN   \n",
       "75%                                                   NaN   \n",
       "max                                                   NaN   \n",
       "\n",
       "                   benefits  telecommuting  has_company_logo  has_questions  \\\n",
       "count                 10670   17880.000000      17880.000000   17880.000000   \n",
       "unique                 6205            NaN               NaN            NaN   \n",
       "top     See job description            NaN               NaN            NaN   \n",
       "freq                    726            NaN               NaN            NaN   \n",
       "mean                    NaN       0.042897          0.795302       0.491723   \n",
       "std                     NaN       0.202631          0.403492       0.499945   \n",
       "min                     NaN       0.000000          0.000000       0.000000   \n",
       "25%                     NaN       0.000000          1.000000       0.000000   \n",
       "50%                     NaN       0.000000          1.000000       0.000000   \n",
       "75%                     NaN       0.000000          1.000000       1.000000   \n",
       "max                     NaN       1.000000          1.000000       1.000000   \n",
       "\n",
       "       employment_type required_experience required_education  \\\n",
       "count            14409               10830               9775   \n",
       "unique               5                   7                 13   \n",
       "top          Full-time    Mid-Senior level  Bachelor's Degree   \n",
       "freq             11620                3809               5145   \n",
       "mean               NaN                 NaN                NaN   \n",
       "std                NaN                 NaN                NaN   \n",
       "min                NaN                 NaN                NaN   \n",
       "25%                NaN                 NaN                NaN   \n",
       "50%                NaN                 NaN                NaN   \n",
       "75%                NaN                 NaN                NaN   \n",
       "max                NaN                 NaN                NaN   \n",
       "\n",
       "                                   industry                function  \\\n",
       "count                                 12977                   11425   \n",
       "unique                                  131                      37   \n",
       "top     Information Technology and Services  Information Technology   \n",
       "freq                                   1734                    1749   \n",
       "mean                                    NaN                     NaN   \n",
       "std                                     NaN                     NaN   \n",
       "min                                     NaN                     NaN   \n",
       "25%                                     NaN                     NaN   \n",
       "50%                                     NaN                     NaN   \n",
       "75%                                     NaN                     NaN   \n",
       "max                                     NaN                     NaN   \n",
       "\n",
       "          fraudulent  \n",
       "count   17880.000000  \n",
       "unique           NaN  \n",
       "top              NaN  \n",
       "freq             NaN  \n",
       "mean        0.048434  \n",
       "std         0.214688  \n",
       "min         0.000000  \n",
       "25%         0.000000  \n",
       "50%         0.000000  \n",
       "75%         0.000000  \n",
       "max         1.000000  "
      ]
     },
     "execution_count": 4,
     "metadata": {},
     "output_type": "execute_result"
    }
   ],
   "source": [
    "df0.describe(include='all')"
   ]
  },
  {
   "cell_type": "markdown",
   "id": "6be5b088",
   "metadata": {},
   "source": [
    "- Here for fraudulent jobs been need to find some similarities with them so that such things that doesn't exist r exist very less in normal job descriptions so here first we will be separating as a first priority that is fraudulent message and non fraudulent messages and then we will compare it's location department salary range and some of its key components"
   ]
  },
  {
   "cell_type": "code",
   "execution_count": 5,
   "id": "94b3edfc",
   "metadata": {},
   "outputs": [
    {
     "data": {
      "image/png": "[encoded data removed]",
      "text/plain": [
       "<Figure size 640x480 with 1 Axes>"
      ]
     },
     "metadata": {},
     "output_type": "display_data"
    }
   ],
   "source": [
    "df_f = df0[df0['fraudulent'] == 1]  #fraudulent\n",
    "df_nf = df0[df0['fraudulent'] == 0]  # non fraudulent\n",
    "\n",
    "plt.title(' fraudulent vs non fraudulent')\n",
    "plt.pie([df_f.shape[0], df_nf.shape[0]], \n",
    "        labels=['fraudulent', 'non fraudulent'], \n",
    "        explode=(0, 0.2),\n",
    "        autopct='%1.2f%%',\n",
    "       colors=['blue','red'])\n",
    "plt.show()"
   ]
  },
  {
   "cell_type": "markdown",
   "id": "9ff1152b",
   "metadata": {},
   "source": [
    "##"
   ]
  },
  {
   "cell_type": "markdown",
   "id": "810ce622",
   "metadata": {},
   "source": [
    "## <U>1. Null values Fixing</u>"
   ]
  },
  {
   "cell_type": "code",
   "execution_count": 6,
   "id": "afb3f136",
   "metadata": {},
   "outputs": [
    {
     "data": {
      "text/plain": [
       "salary_range           15012\n",
       "department             11547\n",
       "required_education      8105\n",
       "benefits                7210\n",
       "required_experience     7050\n",
       "function                6455\n",
       "industry                4903\n",
       "employment_type         3471\n",
       "company_profile         3308\n",
       "requirements            2695\n",
       "location                 346\n",
       "description                1\n",
       "job_id                     0\n",
       "telecommuting              0\n",
       "has_questions              0\n",
       "has_company_logo           0\n",
       "title                      0\n",
       "fraudulent                 0\n",
       "dtype: int64"
      ]
     },
     "execution_count": 6,
     "metadata": {},
     "output_type": "execute_result"
    }
   ],
   "source": [
    "df0.isnull().sum().sort_values(ascending= False)"
   ]
  },
  {
   "cell_type": "code",
   "execution_count": 7,
   "id": "85b75a19",
   "metadata": {},
   "outputs": [
    {
     "data": {
      "text/plain": [
       "salary_range           83\n",
       "department             64\n",
       "required_education     45\n",
       "benefits               40\n",
       "required_experience    39\n",
       "function               36\n",
       "industry               27\n",
       "employment_type        19\n",
       "company_profile        18\n",
       "requirements           15\n",
       "location                1\n",
       "description             0\n",
       "job_id                  0\n",
       "telecommuting           0\n",
       "has_questions           0\n",
       "has_company_logo        0\n",
       "title                   0\n",
       "fraudulent              0\n",
       "dtype: int64"
      ]
     },
     "execution_count": 7,
     "metadata": {},
     "output_type": "execute_result"
    }
   ],
   "source": [
    "df0.isnull().sum().sort_values(ascending= False) * 100// len(df0)  #in persentage"
   ]
  },
  {
   "cell_type": "markdown",
   "id": "69983168",
   "metadata": {},
   "source": [
    "1. We will start with fixing the null values here so here we have location value basically location v caught to wait in a better way so better to drop all the 300 rows and for department I could see that like some of the job titles does not have any specific departments so for the all the remaining null values we will give a department called unknown\n",
    "\n",
    "1. and for salary range and there are about only 3000 rows that are there but most of the salary rows are empty so which means salaries are not specified so maybe we can give that not specified which is level zero of salary range I could see the salary ranges of object type maybe this can be in a categorical data so which means law salary range or unknown salary range that we are about to fix it will be zero and then the above and low salary is of 1 and the mid salary 2 and then high salary 3 something like that\n",
    "\n",
    "1. it is better to draw those those which does not have any company profile description and requirements benefits because we can't add company descriptions specify it so better to drop it in this case\n",
    "\n",
    "1. In employee sahib there are only I think full time part time other so it is better to have this nan values to be other And record experience also to be not applicable\n",
    "\n",
    "1. In some cases I could see that required education s null but basically for every job description at least we need a bachelor's degree that is a basic thing so we will fill all this null values with bachelor's degree the very basic\n",
    "\n",
    "1. Industries and functions it is also something very irrespective TO particular industries so we can't fill this out so will remove this course which are all having it\n"
   ]
  },
  {
   "cell_type": "markdown",
   "id": "4159366d",
   "metadata": {},
   "source": [
    "- <b>Basically I have a doubt here which is if some columns are empty the key requirement columns are empty then which we can also save card these job descriptions can be fraudulent so that what we will do is the data which we have separated F, NF we apply drop na to both of these data so that we can see how many datas are been dropped in how many percentage let's say if it is a fraudulent data set and has a size of about 800 in which 500 roads are Mt so that which we can say that with the probability of 60% if the rows are empty then it is friedland</b>\n"
   ]
  },
  {
   "cell_type": "code",
   "execution_count": 8,
   "id": "43555da3",
   "metadata": {},
   "outputs": [
    {
     "name": "stdout",
     "output_type": "stream",
     "text": [
      "before drop (866, 18)\n",
      "after drop (197, 18)\n"
     ]
    }
   ],
   "source": [
    "print('before drop', df_f.shape)\n",
    "df0_f = df_f.dropna(subset=['title','company_profile','description','requirements','employment_type','required_experience','required_education','industry','function'])\n",
    "print('after drop', df0_f.shape)"
   ]
  },
  {
   "cell_type": "markdown",
   "id": "fcccd5ee",
   "metadata": {},
   "source": [
    "- <b>I dropped the non important columns so that these columns are mandatory for a job description basically so if we dont have these columns so we are assuming that start job description will be false so out of 866 we have only 197 rows reminding which means 22% or non fraudulent which means this concert works with an efficiency of 77.25 percentage if we dont have values in these particular columns we can say that pictures of redolent job description with the percentage of 77.25</b>\n"
   ]
  },
  {
   "cell_type": "code",
   "execution_count": 9,
   "id": "de579195",
   "metadata": {},
   "outputs": [
    {
     "name": "stdout",
     "output_type": "stream",
     "text": [
      "before drop (17014, 18)\n",
      "after drop (5971, 18)\n"
     ]
    }
   ],
   "source": [
    "print('before drop', df_nf.shape)\n",
    "df0_nf = df_nf.dropna(subset=['title','company_profile','description','requirements','employment_type','required_experience','required_education','industry','function'])\n",
    "print('after drop', df0_nf.shape)"
   ]
  },
  {
   "cell_type": "markdown",
   "id": "4a6bd4af",
   "metadata": {},
   "source": [
    "- <b>And for non fraudulent even the same condition applies so in here we can see that if we dont have when use in these columns it is said to be non-fraudulent jobs with the efficiency of 64.9 percentage</b><br><br>\n",
    "- <b>if its a fraudulent given that we have atleast one null value that is 77.25 percentag <br> if its a Non fraudulent given that we have atleast one null value that is 64.9 percentage</b>"
   ]
  },
  {
   "cell_type": "markdown",
   "id": "eb7bca6c",
   "metadata": {},
   "source": [
    "- <b>In this case we have many null values basically some rules have vast number of null values so there are only 2 outputs will be considering here either will be filling all the null values so that which can also lead in false prediction and even if we drop all those null values it shrinks all the data set from 17,000 to 3000 maybe so which is very hard to predict which are which cannot be more accurate and result so we need a particular column to be taken care more specifically whether in that values can be dropped or can be filled.</b>"
   ]
  },
  {
   "cell_type": "markdown",
   "id": "28a38fc6",
   "metadata": {},
   "source": [
    "- For this let us consider which are all the columns are high priority requirement columns and which columns that does not impact on results so we will split the data with only columns which are mostly required"
   ]
  },
  {
   "cell_type": "markdown",
   "id": "c7e2de85",
   "metadata": {},
   "source": [
    "- Important columns are title, department, company profile, description, requirement, employment type, required experience, industry and function so from this if we take out the data and then we will drop columns which are null then we will remind with the least number of rows in this column so department has 6333 rows so maybe we will remind end up with a data set having 6300 rose which is literally 40% of data restart the case then we will even drop the department column so that we can have maybe 10,000 rows"
   ]
  },
  {
   "cell_type": "markdown",
   "id": "e3a1a025",
   "metadata": {},
   "source": [
    "#### A. <u>Fixing null values for department</u>"
   ]
  },
  {
   "cell_type": "code",
   "execution_count": 10,
   "id": "fa7ed5a7",
   "metadata": {},
   "outputs": [
    {
     "data": {
      "text/plain": [
       "11547"
      ]
     },
     "execution_count": 10,
     "metadata": {},
     "output_type": "execute_result"
    }
   ],
   "source": [
    "df01 = df0[['department', 'function']]\n",
    "df01['department'].isnull().sum()   #number of null before fixing"
   ]
  },
  {
   "cell_type": "markdown",
   "id": "361c077e",
   "metadata": {},
   "source": [
    "- I have found that like for column filling the column department we can use the column called function so in this function we have literally just 36% of datas are missing but when you compare with department 64% of the datas are missing so we can fill if this logic works like when comparing with department and function which are all existing like both function and department or existing when we compare with them values if it's matching case are very high then we can fill with if department is nan and function we have as something called administrative our department we can fill it with the appropriate function value so we can fill up to 32% of the data"
   ]
  },
  {
   "cell_type": "code",
   "execution_count": 11,
   "id": "f4d7a200",
   "metadata": {},
   "outputs": [
    {
     "data": {
      "text/plain": [
       "array(['Administrative', 'Advertising', 'Business Development',\n",
       "       'Consulting', 'Customer Service', 'Design', 'Education',\n",
       "       'Engineering', 'Finance', 'Human Resources',\n",
       "       'Information Technology', 'Legal', 'Management', 'Manufacturing',\n",
       "       'Marketing', 'Other', 'Product Management', 'Production',\n",
       "       'Project Management', 'Public Relations', 'Purchasing',\n",
       "       'Quality Assurance', 'Research', 'Sales', 'Supply Chain',\n",
       "       'Training'], dtype=object)"
      ]
     },
     "execution_count": 11,
     "metadata": {},
     "output_type": "execute_result"
    }
   ],
   "source": [
    "df02 = df01.drop_duplicates(keep='first')\n",
    "df03 = df02.dropna()\n",
    "df04 = np.intersect1d(df03['department'], df03['function'])\n",
    "df04"
   ]
  },
  {
   "cell_type": "code",
   "execution_count": 12,
   "id": "5d1fa358",
   "metadata": {},
   "outputs": [
    {
     "name": "stdout",
     "output_type": "stream",
     "text": [
      "matching count 8342 \n",
      "non matching count 4635 \n",
      "filled count 11547\n"
     ]
    },
    {
     "data": {
      "text/plain": [
       "4903"
      ]
     },
     "execution_count": 12,
     "metadata": {},
     "output_type": "execute_result"
    }
   ],
   "source": [
    "df01 = df01.fillna(value= '-')\n",
    "matching_count = 0\n",
    "non_matching_case = 0\n",
    "filled_count = 0\n",
    "\n",
    "for i in range(0, len(df01['department'])):\n",
    "    if (df01['department'][i] == '-') and ((df01['function'][i] in df04) or (df01['function'][i]) ):\n",
    "        df01['department'][i] = df01['function'][i]\n",
    "        filled_count += 1\n",
    "    if (df01['department'][i] != '-') and (df01['department'][i] == df01['function'][i] ):\n",
    "        matching_count += 1\n",
    "    if (df01['department'][i] != '-') and (df01['department'][i] != df01['function'][i] ):\n",
    "        non_matching_case += 1\n",
    "\n",
    "for i in range(0, len(df01['department'])):\n",
    "    if (df01['department'][i] == '-'):\n",
    "        df01['department'][i] = None\n",
    "\n",
    "print('matching count',matching_count,\n",
    "'\\nnon matching count',non_matching_case,\n",
    "'\\nfilled count',filled_count)\n",
    "df01['department'].isnull().sum()   ##null values after fixing"
   ]
  },
  {
   "cell_type": "markdown",
   "id": "c65d629a",
   "metadata": {},
   "source": [
    "- From this weekend come to know that before updating the null values for column department we have about 11,547 values that are null but after fixing it according to this procedure so we have about like 4903 null values now so we have fixed the vote 6500 values in the department column\n"
   ]
  },
  {
   "cell_type": "code",
   "execution_count": 13,
   "id": "84668c3a",
   "metadata": {},
   "outputs": [
    {
     "data": {
      "text/plain": [
       "salary_range           83\n",
       "required_education     45\n",
       "benefits               40\n",
       "required_experience    39\n",
       "function               36\n",
       "department             27\n",
       "industry               27\n",
       "employment_type        19\n",
       "company_profile        18\n",
       "requirements           15\n",
       "location                1\n",
       "description             0\n",
       "job_id                  0\n",
       "telecommuting           0\n",
       "has_questions           0\n",
       "has_company_logo        0\n",
       "title                   0\n",
       "fraudulent              0\n",
       "dtype: int64"
      ]
     },
     "execution_count": 13,
     "metadata": {},
     "output_type": "execute_result"
    }
   ],
   "source": [
    "df0['department'] = df01['department']\n",
    "df0.isnull().sum().sort_values(ascending= False) * 100// len(df0)  #in persentage"
   ]
  },
  {
   "cell_type": "markdown",
   "id": "a95dbaaf",
   "metadata": {},
   "source": [
    "- <b>So from this we have decreased the null values of department column from <u>64% to 27%</u></b>"
   ]
  },
  {
   "cell_type": "markdown",
   "id": "7a7a73c1",
   "metadata": {},
   "source": [
    "#### B. <u>Fixing Null values for function</u>"
   ]
  },
  {
   "cell_type": "code",
   "execution_count": 14,
   "id": "b7ecd87c",
   "metadata": {},
   "outputs": [
    {
     "data": {
      "text/plain": [
       "6455"
      ]
     },
     "execution_count": 14,
     "metadata": {},
     "output_type": "execute_result"
    }
   ],
   "source": [
    "df01 = df0[['department', 'function']]\n",
    "df01['function'].isnull().sum()   #number of null before fixing"
   ]
  },
  {
   "cell_type": "code",
   "execution_count": 15,
   "id": "800f3d4e",
   "metadata": {},
   "outputs": [
    {
     "data": {
      "text/plain": [
       "array(['Accounting/Auditing', 'Administrative', 'Advertising',\n",
       "       'Art/Creative', 'Business Analyst', 'Business Development',\n",
       "       'Consulting', 'Customer Service', 'Data Analyst', 'Design',\n",
       "       'Distribution', 'Education', 'Engineering', 'Finance',\n",
       "       'Financial Analyst', 'General Business', 'Health Care Provider',\n",
       "       'Human Resources', 'Information Technology', 'Legal', 'Management',\n",
       "       'Manufacturing', 'Marketing', 'Other', 'Product Management',\n",
       "       'Production', 'Project Management', 'Public Relations',\n",
       "       'Purchasing', 'Quality Assurance', 'Research', 'Sales', 'Science',\n",
       "       'Strategy/Planning', 'Supply Chain', 'Training', 'Writing/Editing'],\n",
       "      dtype=object)"
      ]
     },
     "execution_count": 15,
     "metadata": {},
     "output_type": "execute_result"
    }
   ],
   "source": [
    "df02 = df01.drop_duplicates(keep='first')\n",
    "df03 = df02.dropna()\n",
    "df04 = np.intersect1d(df03['department'], df03['function'])\n",
    "df04"
   ]
  },
  {
   "cell_type": "code",
   "execution_count": 16,
   "id": "e9071591",
   "metadata": {},
   "outputs": [
    {
     "data": {
      "text/plain": [
       "4903"
      ]
     },
     "execution_count": 16,
     "metadata": {},
     "output_type": "execute_result"
    }
   ],
   "source": [
    "#the back tracking case for functions are taken lly from department.\n",
    "df01 = df01.fillna(value= '-')\n",
    "for i in range(0, len(df01['function'])):\n",
    "    if (df01['function'][i] == '-') and ((df01['department'][i] in df04) or (df01['department'][i]) ):\n",
    "        df01['function'][i] = df01['department'][i]\n",
    "\n",
    "for i in range(0, len(df01['function'])):\n",
    "    if (df01['function'][i] == '-'):\n",
    "        df01['function'][i] = None\n",
    "\n",
    "df01['function'].isnull().sum()"
   ]
  },
  {
   "cell_type": "code",
   "execution_count": 17,
   "id": "6ed014d4",
   "metadata": {},
   "outputs": [
    {
     "data": {
      "text/plain": [
       "salary_range           83\n",
       "required_education     45\n",
       "benefits               40\n",
       "required_experience    39\n",
       "department             27\n",
       "function               27\n",
       "industry               27\n",
       "employment_type        19\n",
       "company_profile        18\n",
       "requirements           15\n",
       "location                1\n",
       "description             0\n",
       "job_id                  0\n",
       "telecommuting           0\n",
       "has_questions           0\n",
       "has_company_logo        0\n",
       "title                   0\n",
       "fraudulent              0\n",
       "dtype: int64"
      ]
     },
     "execution_count": 17,
     "metadata": {},
     "output_type": "execute_result"
    }
   ],
   "source": [
    "df0['function'] = df01['function']\n",
    "df0.isnull().sum().sort_values(ascending= False) * 100// len(df0)  #in persentage"
   ]
  },
  {
   "cell_type": "markdown",
   "id": "f4881c11",
   "metadata": {},
   "source": [
    "- <b>By applying a similar procedure which is carried by department column null value from function column has been reduced to flow <u>36% to 27%</u></b>"
   ]
  },
  {
   "cell_type": "markdown",
   "id": "b8d1a85a",
   "metadata": {},
   "source": [
    "- We also decided that if both the columns department and function has a null value in it so will find out like how many percentage of data are leading to fraudulent and non fraudulent"
   ]
  },
  {
   "cell_type": "code",
   "execution_count": 18,
   "id": "9bb0e892",
   "metadata": {},
   "outputs": [
    {
     "name": "stdout",
     "output_type": "stream",
     "text": [
      "given that both col department and function are Null and its a fraudulent 257 -> 5.24 %\n",
      "given that both col department and function are Null and its a Non fraudulent 4646 -> 94.76 %\n"
     ]
    }
   ],
   "source": [
    "df05 = df0[(df0['department'].isnull() == True) & (df0['function'].isnull() == True)]\n",
    "count_fraud = len(df05[df05['fraudulent'] == 1])\n",
    "print('given that both col department and function are Null and its a fraudulent',count_fraud,'->', round(count_fraud * 100/len(df05), 2),'%')\n",
    "count_nonfraud = len(df05[df05['fraudulent'] == 0])\n",
    "print('given that both col department and function are Null and its a Non fraudulent',count_nonfraud,'->',round(count_nonfraud * 100/len(df05),2),'%')"
   ]
  },
  {
   "cell_type": "markdown",
   "id": "653c3813",
   "metadata": {},
   "source": [
    "- Even though we have a very small number of percentage if both the columns are not if it is a fraudulent but when we compare with total number of fraudulent messages we have about only 800 so in which 257 are contributing in this department and function, if both are null so we can see that, from apart from other depending columns this<b> 2 columns contribute about 30% in total fraudulent description</b>"
   ]
  },
  {
   "cell_type": "markdown",
   "id": "e732a4f2",
   "metadata": {},
   "source": [
    "#### C. <u>Fixing Null values for required_education and employment_type</u>"
   ]
  },
  {
   "cell_type": "markdown",
   "id": "664bc8be",
   "metadata": {},
   "source": [
    "- I found one kind of thing which is similar with required experience and employment type so employment type benefits intern or entry level it is basically of bachelors required education when it is a senior level or mid senior level they are asking for bachelors degree masters degree and so on something like that so even with employment type required education is like word so in this required education has 45% of null values and when you compare with employment type at the address only of 19% so we can correlate and fix the null values"
   ]
  },
  {
   "cell_type": "code",
   "execution_count": 19,
   "id": "dc58e8ce",
   "metadata": {},
   "outputs": [
    {
     "data": {
      "text/plain": [
       "array([nan, \"Bachelor's Degree\", \"Master's Degree\",\n",
       "       'High School or equivalent', 'Unspecified',\n",
       "       'Some College Coursework Completed', 'Vocational', 'Certification',\n",
       "       'Associate Degree', 'Professional', 'Doctorate',\n",
       "       'Some High School Coursework', 'Vocational - Degree',\n",
       "       'Vocational - HS Diploma'], dtype=object)"
      ]
     },
     "execution_count": 19,
     "metadata": {},
     "output_type": "execute_result"
    }
   ],
   "source": [
    "df06 = df0[['required_education', 'employment_type']]\n",
    "df06 = df06.fillna(value= '-')\n",
    "df0['required_education'].unique()"
   ]
  },
  {
   "cell_type": "code",
   "execution_count": 20,
   "id": "c927eb32",
   "metadata": {},
   "outputs": [
    {
     "data": {
      "text/html": [
       "<div>\n",
       "<style scoped>\n",
       "    .dataframe tbody tr th:only-of-type {\n",
       "        vertical-align: middle;\n",
       "    }\n",
       "\n",
       "    .dataframe tbody tr th {\n",
       "        vertical-align: top;\n",
       "    }\n",
       "\n",
       "    .dataframe thead th {\n",
       "        text-align: right;\n",
       "    }\n",
       "</style>\n",
       "<table border=\"1\" class=\"dataframe\">\n",
       "  <thead>\n",
       "    <tr style=\"text-align: right;\">\n",
       "      <th></th>\n",
       "      <th>Bachelor's Degree</th>\n",
       "      <th>Master's Degree</th>\n",
       "      <th>High School or equivalent</th>\n",
       "      <th>Unspecified</th>\n",
       "      <th>Some College Coursework Completed</th>\n",
       "      <th>Vocational</th>\n",
       "      <th>Certification</th>\n",
       "      <th>Associate Degree</th>\n",
       "      <th>Professional</th>\n",
       "      <th>Doctorate</th>\n",
       "      <th>Some High School Coursework</th>\n",
       "      <th>Vocational - Degree</th>\n",
       "      <th>Vocational - HS Diploma</th>\n",
       "    </tr>\n",
       "  </thead>\n",
       "  <tbody>\n",
       "    <tr>\n",
       "      <th>Full-time</th>\n",
       "      <td>4029</td>\n",
       "      <td>363</td>\n",
       "      <td>1528</td>\n",
       "      <td>1114</td>\n",
       "      <td>45</td>\n",
       "      <td>34</td>\n",
       "      <td>115</td>\n",
       "      <td>230</td>\n",
       "      <td>55.0</td>\n",
       "      <td>26.0</td>\n",
       "      <td>4.0</td>\n",
       "      <td>4.0</td>\n",
       "      <td>9.0</td>\n",
       "    </tr>\n",
       "    <tr>\n",
       "      <th>Contract</th>\n",
       "      <td>935</td>\n",
       "      <td>21</td>\n",
       "      <td>45</td>\n",
       "      <td>94</td>\n",
       "      <td>8</td>\n",
       "      <td>2</td>\n",
       "      <td>23</td>\n",
       "      <td>9</td>\n",
       "      <td>14.0</td>\n",
       "      <td>NaN</td>\n",
       "      <td>NaN</td>\n",
       "      <td>NaN</td>\n",
       "      <td>NaN</td>\n",
       "    </tr>\n",
       "    <tr>\n",
       "      <th>Other</th>\n",
       "      <td>37</td>\n",
       "      <td>4</td>\n",
       "      <td>37</td>\n",
       "      <td>36</td>\n",
       "      <td>12</td>\n",
       "      <td>2</td>\n",
       "      <td>3</td>\n",
       "      <td>2</td>\n",
       "      <td>NaN</td>\n",
       "      <td>NaN</td>\n",
       "      <td>NaN</td>\n",
       "      <td>NaN</td>\n",
       "      <td>NaN</td>\n",
       "    </tr>\n",
       "    <tr>\n",
       "      <th>Temporary</th>\n",
       "      <td>38</td>\n",
       "      <td>5</td>\n",
       "      <td>29</td>\n",
       "      <td>58</td>\n",
       "      <td>9</td>\n",
       "      <td>3</td>\n",
       "      <td>8</td>\n",
       "      <td>3</td>\n",
       "      <td>NaN</td>\n",
       "      <td>NaN</td>\n",
       "      <td>NaN</td>\n",
       "      <td>1.0</td>\n",
       "      <td>NaN</td>\n",
       "    </tr>\n",
       "    <tr>\n",
       "      <th>Part-time</th>\n",
       "      <td>66</td>\n",
       "      <td>10</td>\n",
       "      <td>309</td>\n",
       "      <td>76</td>\n",
       "      <td>23</td>\n",
       "      <td>6</td>\n",
       "      <td>11</td>\n",
       "      <td>28</td>\n",
       "      <td>5.0</td>\n",
       "      <td>NaN</td>\n",
       "      <td>2.0</td>\n",
       "      <td>1.0</td>\n",
       "      <td>NaN</td>\n",
       "    </tr>\n",
       "  </tbody>\n",
       "</table>\n",
       "</div>"
      ],
      "text/plain": [
       "           Bachelor's Degree  Master's Degree  High School or equivalent  \\\n",
       "Full-time               4029              363                       1528   \n",
       "Contract                 935               21                         45   \n",
       "Other                     37                4                         37   \n",
       "Temporary                 38                5                         29   \n",
       "Part-time                 66               10                        309   \n",
       "\n",
       "           Unspecified  Some College Coursework Completed  Vocational  \\\n",
       "Full-time         1114                                 45          34   \n",
       "Contract            94                                  8           2   \n",
       "Other               36                                 12           2   \n",
       "Temporary           58                                  9           3   \n",
       "Part-time           76                                 23           6   \n",
       "\n",
       "           Certification  Associate Degree  Professional  Doctorate  \\\n",
       "Full-time            115               230          55.0       26.0   \n",
       "Contract              23                 9          14.0        NaN   \n",
       "Other                  3                 2           NaN        NaN   \n",
       "Temporary              8                 3           NaN        NaN   \n",
       "Part-time             11                28           5.0        NaN   \n",
       "\n",
       "           Some High School Coursework  Vocational - Degree  \\\n",
       "Full-time                          4.0                  4.0   \n",
       "Contract                           NaN                  NaN   \n",
       "Other                              NaN                  NaN   \n",
       "Temporary                          NaN                  1.0   \n",
       "Part-time                          2.0                  1.0   \n",
       "\n",
       "           Vocational - HS Diploma  \n",
       "Full-time                      9.0  \n",
       "Contract                       NaN  \n",
       "Other                          NaN  \n",
       "Temporary                      NaN  \n",
       "Part-time                      NaN  "
      ]
     },
     "execution_count": 20,
     "metadata": {},
     "output_type": "execute_result"
    }
   ],
   "source": [
    "dic_reqexp = {  \"Bachelor's Degree\": {}, \"Master's Degree\": {},'High School or equivalent': {},\n",
    "                'Unspecified': {},'Some College Coursework Completed': {},'Vocational': {}, \n",
    "                'Certification': {},'Associate Degree': {}, 'Professional': {},'Doctorate': {},\n",
    "              'Some High School Coursework': {}, 'Vocational - Degree': {},'Vocational - HS Diploma': {}\n",
    "             }\n",
    "for i in range(0, len(df06['required_education'])):\n",
    "    if (df06['required_education'][i] != '-') and (df06['employment_type'][i] != '-'):\n",
    "        if df06['employment_type'][i] in dic_reqexp[df06['required_education'][i]]:\n",
    "            dic_reqexp[df06['required_education'][i]][df06['employment_type'][i]] += 1\n",
    "        else:\n",
    "            dic_reqexp[df06['required_education'][i]][df06['employment_type'][i]] = 1\n",
    "            \n",
    "df07 = pd.DataFrame(dic_reqexp)\n",
    "df07"
   ]
  },
  {
   "cell_type": "markdown",
   "id": "35b08dd2",
   "metadata": {},
   "source": [
    "- From this we come to know that for full time work experience we need bachelor's degree and then for contract we can use the same bachelor's degree and for others it is optional whether we can use bachelor's degree or high or school equivalent so we are feeling null values from education add nalus with me employment type in both the scenarios in vice versa"
   ]
  },
  {
   "cell_type": "code",
   "execution_count": 21,
   "id": "898b4a1a",
   "metadata": {},
   "outputs": [],
   "source": [
    "dic_comp = (df07.T).to_dict()\n",
    "# null value fixing for required_education same as employment_type\n",
    "def func(name):\n",
    "    dic_min = dic_comp[name]\n",
    "    sorted_dic = sorted(dic_min.items(), key=operator.itemgetter(1),reverse=True)\n",
    "    return sorted_dic[0][0]\n",
    "\n",
    "matching_count = 0\n",
    "non_matching_case = 0\n",
    "filled_count = 0\n",
    "for i in range(0, len(df06['required_education'])):\n",
    "    if df06['employment_type'][i] != '-':\n",
    "        if df06['required_education'][i] == '-':\n",
    "            df06['required_education'][i] = func(df06['employment_type'][i])\n",
    "            filled_count += 1\n",
    "        elif df06['required_education'][i] != '-' and (df06['required_education'][i] == func(df06['employment_type'][i])):\n",
    "            matching_count += 1\n",
    "        else:\n",
    "            non_matching_case += 1\n",
    "            \n",
    "            "
   ]
  },
  {
   "cell_type": "code",
   "execution_count": 22,
   "id": "e0bfa453",
   "metadata": {},
   "outputs": [
    {
     "name": "stdout",
     "output_type": "stream",
     "text": [
      "matching count 5368 \n",
      "non matching count 4163 \n",
      "filled count 4878\n"
     ]
    }
   ],
   "source": [
    "print('matching count',matching_count,\n",
    "      '\\nnon matching count',non_matching_case,\n",
    "      '\\nfilled count',filled_count)"
   ]
  },
  {
   "cell_type": "code",
   "execution_count": 23,
   "id": "2cb9df29",
   "metadata": {},
   "outputs": [],
   "source": [
    "# null value fixing for employment_type same as required_education\n",
    "dic_comp = dic_reqexp   \n",
    "\n",
    "def func(name):\n",
    "    dic_min = dic_reqexp[name]\n",
    "    sorted_dic = sorted(dic_min.items(), key=operator.itemgetter(1),reverse=True)\n",
    "    return sorted_dic[0][0]\n",
    "        \n",
    "matching_count = 0\n",
    "non_matching_case = 0\n",
    "filled_count = 0\n",
    "for i in range(0, len(df06['employment_type'])):\n",
    "    if df06['required_education'][i] != '-':\n",
    "        if df06['employment_type'][i] == '-':\n",
    "            df06['employment_type'][i] = func(df06['required_education'][i])\n",
    "            filled_count += 1\n",
    "        elif df06['employment_type'][i] != '-' and (df06['employment_type'][i] == func(df06['required_education'][i])):\n",
    "            matching_count += 1\n",
    "        else:\n",
    "            non_matching_case += 1"
   ]
  },
  {
   "cell_type": "code",
   "execution_count": 24,
   "id": "317fc813",
   "metadata": {},
   "outputs": [
    {
     "name": "stdout",
     "output_type": "stream",
     "text": [
      "matching count 11620 \n",
      "non matching count 2789 \n",
      "filled count 244\n"
     ]
    }
   ],
   "source": [
    "print('matching count',matching_count,\n",
    "      '\\nnon matching count',non_matching_case,\n",
    "      '\\nfilled count',filled_count)"
   ]
  },
  {
   "cell_type": "code",
   "execution_count": 25,
   "id": "3454404c",
   "metadata": {},
   "outputs": [
    {
     "data": {
      "text/plain": [
       "required_education    18\n",
       "employment_type       18\n",
       "dtype: int64"
      ]
     },
     "execution_count": 25,
     "metadata": {},
     "output_type": "execute_result"
    }
   ],
   "source": [
    "for i in range(0, len(df06['employment_type'])):\n",
    "    if (df06['employment_type'][i] == '-'):\n",
    "        df06['employment_type'][i] = None\n",
    "        df06['required_education'][i] = None\n",
    "df06.isnull().sum().sort_values(ascending= False) * 100// len(df06)"
   ]
  },
  {
   "cell_type": "code",
   "execution_count": 26,
   "id": "84b1063f",
   "metadata": {},
   "outputs": [
    {
     "data": {
      "text/plain": [
       "salary_range           83\n",
       "benefits               40\n",
       "required_experience    39\n",
       "department             27\n",
       "function               27\n",
       "industry               27\n",
       "company_profile        18\n",
       "required_education     18\n",
       "employment_type        18\n",
       "requirements           15\n",
       "location                1\n",
       "description             0\n",
       "job_id                  0\n",
       "telecommuting           0\n",
       "has_questions           0\n",
       "has_company_logo        0\n",
       "title                   0\n",
       "fraudulent              0\n",
       "dtype: int64"
      ]
     },
     "execution_count": 26,
     "metadata": {},
     "output_type": "execute_result"
    }
   ],
   "source": [
    "df0['employment_type'] = df06['employment_type']\n",
    "df0['required_education'] = df06['required_education']\n",
    "df0.isnull().sum().sort_values(ascending= False) * 100// len(df0)"
   ]
  },
  {
   "cell_type": "code",
   "execution_count": 27,
   "id": "bc24ef8d",
   "metadata": {},
   "outputs": [
    {
     "name": "stdout",
     "output_type": "stream",
     "text": [
      "given that both col required_education and employment_type are Null and its a fraudulent 220 -> 6.82 %\n",
      "given that both col required_education and employment_type are Null and its a Non fraudulent 3007 -> 93.18 %\n"
     ]
    }
   ],
   "source": [
    "df07 = df0[(df0['required_education'].isnull() == True) & (df0['employment_type'].isnull() == True)]\n",
    "count_fraud = len(df07[df07['fraudulent'] == 1])\n",
    "print('given that both col required_education and employment_type are Null and its a fraudulent',count_fraud,'->', round(count_fraud * 100/len(df07), 2),'%')\n",
    "count_nonfraud = len(df07[df07['fraudulent'] == 0])\n",
    "print('given that both col required_education and employment_type are Null and its a Non fraudulent',count_nonfraud,'->',round(count_nonfraud * 100/len(df07),2),'%')"
   ]
  },
  {
   "cell_type": "markdown",
   "id": "edf9fde0",
   "metadata": {},
   "source": [
    "#### D.<u>Fixing Null values for required_experience</u>"
   ]
  },
  {
   "cell_type": "code",
   "execution_count": 28,
   "id": "9281a2f3",
   "metadata": {},
   "outputs": [
    {
     "data": {
      "text/html": [
       "<div>\n",
       "<style scoped>\n",
       "    .dataframe tbody tr th:only-of-type {\n",
       "        vertical-align: middle;\n",
       "    }\n",
       "\n",
       "    .dataframe tbody tr th {\n",
       "        vertical-align: top;\n",
       "    }\n",
       "\n",
       "    .dataframe thead tr th {\n",
       "        text-align: left;\n",
       "    }\n",
       "\n",
       "    .dataframe thead tr:last-of-type th {\n",
       "        text-align: right;\n",
       "    }\n",
       "</style>\n",
       "<table border=\"1\" class=\"dataframe\">\n",
       "  <thead>\n",
       "    <tr>\n",
       "      <th></th>\n",
       "      <th colspan=\"21\" halign=\"left\">tot_count</th>\n",
       "    </tr>\n",
       "    <tr>\n",
       "      <th>employment_type</th>\n",
       "      <th colspan=\"9\" halign=\"left\">Contract</th>\n",
       "      <th>Full-time</th>\n",
       "      <th>...</th>\n",
       "      <th>Part-time</th>\n",
       "      <th colspan=\"9\" halign=\"left\">Temporary</th>\n",
       "    </tr>\n",
       "    <tr>\n",
       "      <th>required_education</th>\n",
       "      <th>Associate Degree</th>\n",
       "      <th>Bachelor's Degree</th>\n",
       "      <th>Certification</th>\n",
       "      <th>High School or equivalent</th>\n",
       "      <th>Master's Degree</th>\n",
       "      <th>Professional</th>\n",
       "      <th>Unspecified</th>\n",
       "      <th>Some College Coursework Completed</th>\n",
       "      <th>Vocational</th>\n",
       "      <th>Associate Degree</th>\n",
       "      <th>...</th>\n",
       "      <th>Vocational - Degree</th>\n",
       "      <th>Associate Degree</th>\n",
       "      <th>Bachelor's Degree</th>\n",
       "      <th>High School or equivalent</th>\n",
       "      <th>Some College Coursework Completed</th>\n",
       "      <th>Unspecified</th>\n",
       "      <th>Master's Degree</th>\n",
       "      <th>Certification</th>\n",
       "      <th>Vocational</th>\n",
       "      <th>Vocational - Degree</th>\n",
       "    </tr>\n",
       "    <tr>\n",
       "      <th>required_experience</th>\n",
       "      <th></th>\n",
       "      <th></th>\n",
       "      <th></th>\n",
       "      <th></th>\n",
       "      <th></th>\n",
       "      <th></th>\n",
       "      <th></th>\n",
       "      <th></th>\n",
       "      <th></th>\n",
       "      <th></th>\n",
       "      <th></th>\n",
       "      <th></th>\n",
       "      <th></th>\n",
       "      <th></th>\n",
       "      <th></th>\n",
       "      <th></th>\n",
       "      <th></th>\n",
       "      <th></th>\n",
       "      <th></th>\n",
       "      <th></th>\n",
       "      <th></th>\n",
       "    </tr>\n",
       "  </thead>\n",
       "  <tbody>\n",
       "    <tr>\n",
       "      <th>Associate</th>\n",
       "      <td>2.0</td>\n",
       "      <td>75.0</td>\n",
       "      <td>5.0</td>\n",
       "      <td>9.0</td>\n",
       "      <td>3.0</td>\n",
       "      <td>3.0</td>\n",
       "      <td>17.0</td>\n",
       "      <td>NaN</td>\n",
       "      <td>NaN</td>\n",
       "      <td>122.0</td>\n",
       "      <td>...</td>\n",
       "      <td>NaN</td>\n",
       "      <td>1.0</td>\n",
       "      <td>2.0</td>\n",
       "      <td>3.0</td>\n",
       "      <td>3.0</td>\n",
       "      <td>36.0</td>\n",
       "      <td>NaN</td>\n",
       "      <td>NaN</td>\n",
       "      <td>NaN</td>\n",
       "      <td>NaN</td>\n",
       "    </tr>\n",
       "    <tr>\n",
       "      <th>Director</th>\n",
       "      <td>NaN</td>\n",
       "      <td>3.0</td>\n",
       "      <td>NaN</td>\n",
       "      <td>NaN</td>\n",
       "      <td>1.0</td>\n",
       "      <td>1.0</td>\n",
       "      <td>1.0</td>\n",
       "      <td>NaN</td>\n",
       "      <td>NaN</td>\n",
       "      <td>8.0</td>\n",
       "      <td>...</td>\n",
       "      <td>NaN</td>\n",
       "      <td>NaN</td>\n",
       "      <td>NaN</td>\n",
       "      <td>NaN</td>\n",
       "      <td>NaN</td>\n",
       "      <td>NaN</td>\n",
       "      <td>NaN</td>\n",
       "      <td>NaN</td>\n",
       "      <td>NaN</td>\n",
       "      <td>NaN</td>\n",
       "    </tr>\n",
       "    <tr>\n",
       "      <th>Entry level</th>\n",
       "      <td>NaN</td>\n",
       "      <td>220.0</td>\n",
       "      <td>NaN</td>\n",
       "      <td>14.0</td>\n",
       "      <td>1.0</td>\n",
       "      <td>1.0</td>\n",
       "      <td>10.0</td>\n",
       "      <td>5.0</td>\n",
       "      <td>NaN</td>\n",
       "      <td>49.0</td>\n",
       "      <td>...</td>\n",
       "      <td>NaN</td>\n",
       "      <td>1.0</td>\n",
       "      <td>9.0</td>\n",
       "      <td>17.0</td>\n",
       "      <td>1.0</td>\n",
       "      <td>11.0</td>\n",
       "      <td>1.0</td>\n",
       "      <td>NaN</td>\n",
       "      <td>NaN</td>\n",
       "      <td>NaN</td>\n",
       "    </tr>\n",
       "    <tr>\n",
       "      <th>Executive</th>\n",
       "      <td>NaN</td>\n",
       "      <td>8.0</td>\n",
       "      <td>NaN</td>\n",
       "      <td>NaN</td>\n",
       "      <td>2.0</td>\n",
       "      <td>NaN</td>\n",
       "      <td>NaN</td>\n",
       "      <td>NaN</td>\n",
       "      <td>NaN</td>\n",
       "      <td>1.0</td>\n",
       "      <td>...</td>\n",
       "      <td>NaN</td>\n",
       "      <td>NaN</td>\n",
       "      <td>NaN</td>\n",
       "      <td>NaN</td>\n",
       "      <td>NaN</td>\n",
       "      <td>NaN</td>\n",
       "      <td>NaN</td>\n",
       "      <td>NaN</td>\n",
       "      <td>NaN</td>\n",
       "      <td>NaN</td>\n",
       "    </tr>\n",
       "    <tr>\n",
       "      <th>Internship</th>\n",
       "      <td>NaN</td>\n",
       "      <td>15.0</td>\n",
       "      <td>NaN</td>\n",
       "      <td>1.0</td>\n",
       "      <td>NaN</td>\n",
       "      <td>1.0</td>\n",
       "      <td>3.0</td>\n",
       "      <td>2.0</td>\n",
       "      <td>NaN</td>\n",
       "      <td>3.0</td>\n",
       "      <td>...</td>\n",
       "      <td>NaN</td>\n",
       "      <td>NaN</td>\n",
       "      <td>17.0</td>\n",
       "      <td>4.0</td>\n",
       "      <td>4.0</td>\n",
       "      <td>29.0</td>\n",
       "      <td>4.0</td>\n",
       "      <td>1.0</td>\n",
       "      <td>1.0</td>\n",
       "      <td>NaN</td>\n",
       "    </tr>\n",
       "    <tr>\n",
       "      <th>Mid-Senior level</th>\n",
       "      <td>5.0</td>\n",
       "      <td>225.0</td>\n",
       "      <td>3.0</td>\n",
       "      <td>1.0</td>\n",
       "      <td>13.0</td>\n",
       "      <td>4.0</td>\n",
       "      <td>34.0</td>\n",
       "      <td>NaN</td>\n",
       "      <td>1.0</td>\n",
       "      <td>34.0</td>\n",
       "      <td>...</td>\n",
       "      <td>1.0</td>\n",
       "      <td>1.0</td>\n",
       "      <td>1.0</td>\n",
       "      <td>1.0</td>\n",
       "      <td>NaN</td>\n",
       "      <td>8.0</td>\n",
       "      <td>NaN</td>\n",
       "      <td>NaN</td>\n",
       "      <td>1.0</td>\n",
       "      <td>1.0</td>\n",
       "    </tr>\n",
       "    <tr>\n",
       "      <th>Not Applicable</th>\n",
       "      <td>NaN</td>\n",
       "      <td>21.0</td>\n",
       "      <td>13.0</td>\n",
       "      <td>15.0</td>\n",
       "      <td>NaN</td>\n",
       "      <td>4.0</td>\n",
       "      <td>25.0</td>\n",
       "      <td>1.0</td>\n",
       "      <td>1.0</td>\n",
       "      <td>1.0</td>\n",
       "      <td>...</td>\n",
       "      <td>NaN</td>\n",
       "      <td>NaN</td>\n",
       "      <td>2.0</td>\n",
       "      <td>2.0</td>\n",
       "      <td>NaN</td>\n",
       "      <td>14.0</td>\n",
       "      <td>NaN</td>\n",
       "      <td>3.0</td>\n",
       "      <td>NaN</td>\n",
       "      <td>NaN</td>\n",
       "    </tr>\n",
       "  </tbody>\n",
       "</table>\n",
       "<p>7 rows × 50 columns</p>\n",
       "</div>"
      ],
      "text/plain": [
       "                           tot_count                                  \\\n",
       "employment_type             Contract                                   \n",
       "required_education  Associate Degree Bachelor's Degree Certification   \n",
       "required_experience                                                    \n",
       "Associate                        2.0              75.0           5.0   \n",
       "Director                         NaN               3.0           NaN   \n",
       "Entry level                      NaN             220.0           NaN   \n",
       "Executive                        NaN               8.0           NaN   \n",
       "Internship                       NaN              15.0           NaN   \n",
       "Mid-Senior level                 5.0             225.0           3.0   \n",
       "Not Applicable                   NaN              21.0          13.0   \n",
       "\n",
       "                                                                            \\\n",
       "employment_type                                                              \n",
       "required_education  High School or equivalent Master's Degree Professional   \n",
       "required_experience                                                          \n",
       "Associate                                 9.0             3.0          3.0   \n",
       "Director                                  NaN             1.0          1.0   \n",
       "Entry level                              14.0             1.0          1.0   \n",
       "Executive                                 NaN             2.0          NaN   \n",
       "Internship                                1.0             NaN          1.0   \n",
       "Mid-Senior level                          1.0            13.0          4.0   \n",
       "Not Applicable                           15.0             NaN          4.0   \n",
       "\n",
       "                                                                              \\\n",
       "employment_type                                                                \n",
       "required_education  Unspecified Some College Coursework Completed Vocational   \n",
       "required_experience                                                            \n",
       "Associate                  17.0                               NaN        NaN   \n",
       "Director                    1.0                               NaN        NaN   \n",
       "Entry level                10.0                               5.0        NaN   \n",
       "Executive                   NaN                               NaN        NaN   \n",
       "Internship                  3.0                               2.0        NaN   \n",
       "Mid-Senior level           34.0                               NaN        1.0   \n",
       "Not Applicable             25.0                               1.0        1.0   \n",
       "\n",
       "                                      ...                      \\\n",
       "employment_type            Full-time  ...           Part-time   \n",
       "required_education  Associate Degree  ... Vocational - Degree   \n",
       "required_experience                   ...                       \n",
       "Associate                      122.0  ...                 NaN   \n",
       "Director                         8.0  ...                 NaN   \n",
       "Entry level                     49.0  ...                 NaN   \n",
       "Executive                        1.0  ...                 NaN   \n",
       "Internship                       3.0  ...                 NaN   \n",
       "Mid-Senior level                34.0  ...                 1.0   \n",
       "Not Applicable                   1.0  ...                 NaN   \n",
       "\n",
       "                                                        \\\n",
       "employment_type            Temporary                     \n",
       "required_education  Associate Degree Bachelor's Degree   \n",
       "required_experience                                      \n",
       "Associate                        1.0               2.0   \n",
       "Director                         NaN               NaN   \n",
       "Entry level                      1.0               9.0   \n",
       "Executive                        NaN               NaN   \n",
       "Internship                       NaN              17.0   \n",
       "Mid-Senior level                 1.0               1.0   \n",
       "Not Applicable                   NaN               2.0   \n",
       "\n",
       "                                               \\\n",
       "employment_type                                 \n",
       "required_education  High School or equivalent   \n",
       "required_experience                             \n",
       "Associate                                 3.0   \n",
       "Director                                  NaN   \n",
       "Entry level                              17.0   \n",
       "Executive                                 NaN   \n",
       "Internship                                4.0   \n",
       "Mid-Senior level                          1.0   \n",
       "Not Applicable                            2.0   \n",
       "\n",
       "                                                                   \\\n",
       "employment_type                                                     \n",
       "required_education  Some College Coursework Completed Unspecified   \n",
       "required_experience                                                 \n",
       "Associate                                         3.0        36.0   \n",
       "Director                                          NaN         NaN   \n",
       "Entry level                                       1.0        11.0   \n",
       "Executive                                         NaN         NaN   \n",
       "Internship                                        4.0        29.0   \n",
       "Mid-Senior level                                  NaN         8.0   \n",
       "Not Applicable                                    NaN        14.0   \n",
       "\n",
       "                                                              \\\n",
       "employment_type                                                \n",
       "required_education  Master's Degree Certification Vocational   \n",
       "required_experience                                            \n",
       "Associate                       NaN           NaN        NaN   \n",
       "Director                        NaN           NaN        NaN   \n",
       "Entry level                     1.0           NaN        NaN   \n",
       "Executive                       NaN           NaN        NaN   \n",
       "Internship                      4.0           1.0        1.0   \n",
       "Mid-Senior level                NaN           NaN        1.0   \n",
       "Not Applicable                  NaN           3.0        NaN   \n",
       "\n",
       "                                         \n",
       "employment_type                          \n",
       "required_education  Vocational - Degree  \n",
       "required_experience                      \n",
       "Associate                           NaN  \n",
       "Director                            NaN  \n",
       "Entry level                         NaN  \n",
       "Executive                           NaN  \n",
       "Internship                          NaN  \n",
       "Mid-Senior level                    1.0  \n",
       "Not Applicable                      NaN  \n",
       "\n",
       "[7 rows x 50 columns]"
      ]
     },
     "execution_count": 28,
     "metadata": {},
     "output_type": "execute_result"
    }
   ],
   "source": [
    "df08 = df0[['employment_type', 'required_experience' ,'required_education']]\n",
    "df09 = df08.groupby(by=['employment_type','required_experience','required_education']).agg({'required_education': 'count'})\n",
    "df09 = df09.rename(columns={'required_education':'tot_count'})\n",
    "df09 = df09.reset_index()\n",
    "df10 = df09.pivot(index='required_experience', \n",
    "                  columns=['employment_type','required_education'], \n",
    "                  values=['tot_count'])\n",
    "df10"
   ]
  },
  {
   "cell_type": "code",
   "execution_count": 29,
   "id": "4a16dea4",
   "metadata": {},
   "outputs": [
    {
     "name": "stdout",
     "output_type": "stream",
     "text": [
      "matching count 5130 \n",
      "non matching count 5644 \n",
      "filled count 3879\n"
     ]
    }
   ],
   "source": [
    "df11 = df08.fillna(value='-')\n",
    "\n",
    "def m_function(ser):\n",
    "    m_dic = ser.to_dict()\n",
    "    return (max(zip(m_dic.values(), m_dic.keys()))[1])\n",
    "    \n",
    "matching_count = 0\n",
    "non_matching_count = 0\n",
    "filled_count = 0\n",
    "for i in range(0, len(df08['required_experience'])):\n",
    "    if df11['employment_type'][i] != '-' and df11['required_education'][i] != '-':\n",
    "        m_ind = tuple(['tot_count', str(df08['employment_type'][i]), str(df08['required_education'][i])] )\n",
    "        fill_value = m_function(df10[m_ind])\n",
    "        if df11['required_experience'][i] == '-':\n",
    "            df11['required_experience'][i] = fill_value\n",
    "            filled_count += 1\n",
    "        elif df11['required_experience'][i] != '-' and fill_value == df11['required_experience'][i]:\n",
    "            matching_count += 1\n",
    "        elif df11['required_experience'][i] != '-' and fill_value != df11['required_experience'][i]:\n",
    "            non_matching_count += 1\n",
    "            \n",
    "            \n",
    "print('matching count',matching_count,\n",
    "      '\\nnon matching count',non_matching_count,\n",
    "      '\\nfilled count',filled_count)"
   ]
  },
  {
   "cell_type": "markdown",
   "id": "bb15f9f5",
   "metadata": {},
   "source": [
    "- So from this we come to know that there are about 50-50 of matching cases and matching cases so we filled about 3879 rows here"
   ]
  },
  {
   "cell_type": "code",
   "execution_count": 30,
   "id": "a005314e",
   "metadata": {},
   "outputs": [
    {
     "data": {
      "text/plain": [
       "salary_range           83\n",
       "benefits               40\n",
       "department             27\n",
       "function               27\n",
       "industry               27\n",
       "company_profile        18\n",
       "required_education     18\n",
       "employment_type        18\n",
       "required_experience    17\n",
       "requirements           15\n",
       "location                1\n",
       "description             0\n",
       "job_id                  0\n",
       "telecommuting           0\n",
       "has_questions           0\n",
       "has_company_logo        0\n",
       "title                   0\n",
       "fraudulent              0\n",
       "dtype: int64"
      ]
     },
     "execution_count": 30,
     "metadata": {},
     "output_type": "execute_result"
    }
   ],
   "source": [
    "for i in range(0, len(df11['required_experience'])):\n",
    "    if (df11['required_experience'][i] == '-'):\n",
    "        df11['required_experience'][i] = None\n",
    "        \n",
    "df0['required_experience'] = df11['required_experience']\n",
    "df0.isnull().sum().sort_values(ascending= False) * 100// len(df0)"
   ]
  },
  {
   "cell_type": "markdown",
   "id": "6919b1ee",
   "metadata": {},
   "source": [
    "- So from this we see that required experience null values has been reduced from <b><u>39% to 17%</u></b>"
   ]
  },
  {
   "cell_type": "code",
   "execution_count": 31,
   "id": "d90d231b",
   "metadata": {},
   "outputs": [
    {
     "name": "stdout",
     "output_type": "stream",
     "text": [
      "given that \n",
      "required_education, employment_type and required_experience are Null and its a fraudulent 219 -> 6.91 %\n",
      "required_education, employment_type and required_experience are Null and its a Non fraudulent 2952 -> 93.09 %\n"
     ]
    }
   ],
   "source": [
    "df12 = df0[(df0['required_education'].isnull() == True) & (df0['employment_type'].isnull() == True) & (df0['required_experience'].isnull() == True)]\n",
    "count_fraud = len(df12[df12['fraudulent'] == 1])\n",
    "print('given that \\nrequired_education, employment_type and required_experience are Null and its a fraudulent',count_fraud,'->', round(count_fraud * 100/len(df12), 2),'%')\n",
    "count_nonfraud = len(df12[df12['fraudulent'] == 0])\n",
    "print('required_education, employment_type and required_experience are Null and its a Non fraudulent',count_nonfraud,'->',round(count_nonfraud * 100/len(df12),2),'%')"
   ]
  },
  {
   "cell_type": "markdown",
   "id": "0fcc7a50",
   "metadata": {},
   "source": [
    "#### E. Fixing Null values for <u>salary_range</u>"
   ]
  },
  {
   "cell_type": "code",
   "execution_count": 32,
   "id": "95c8a304",
   "metadata": {},
   "outputs": [
    {
     "data": {
      "text/html": [
       "<div>\n",
       "<style scoped>\n",
       "    .dataframe tbody tr th:only-of-type {\n",
       "        vertical-align: middle;\n",
       "    }\n",
       "\n",
       "    .dataframe tbody tr th {\n",
       "        vertical-align: top;\n",
       "    }\n",
       "\n",
       "    .dataframe thead th {\n",
       "        text-align: right;\n",
       "    }\n",
       "</style>\n",
       "<table border=\"1\" class=\"dataframe\">\n",
       "  <thead>\n",
       "    <tr style=\"text-align: right;\">\n",
       "      <th></th>\n",
       "      <th>salary_range</th>\n",
       "      <th>department</th>\n",
       "      <th>employment_type</th>\n",
       "      <th>required_experience</th>\n",
       "      <th>required_education</th>\n",
       "    </tr>\n",
       "  </thead>\n",
       "  <tbody>\n",
       "    <tr>\n",
       "      <th>0</th>\n",
       "      <td>-</td>\n",
       "      <td>Marketing</td>\n",
       "      <td>Other</td>\n",
       "      <td>Internship</td>\n",
       "      <td>Bachelor's Degree</td>\n",
       "    </tr>\n",
       "    <tr>\n",
       "      <th>1</th>\n",
       "      <td>-</td>\n",
       "      <td>Success</td>\n",
       "      <td>Full-time</td>\n",
       "      <td>Not Applicable</td>\n",
       "      <td>Bachelor's Degree</td>\n",
       "    </tr>\n",
       "    <tr>\n",
       "      <th>2</th>\n",
       "      <td>-</td>\n",
       "      <td>None</td>\n",
       "      <td>None</td>\n",
       "      <td>None</td>\n",
       "      <td>None</td>\n",
       "    </tr>\n",
       "    <tr>\n",
       "      <th>3</th>\n",
       "      <td>-</td>\n",
       "      <td>Sales</td>\n",
       "      <td>Full-time</td>\n",
       "      <td>Mid-Senior level</td>\n",
       "      <td>Bachelor's Degree</td>\n",
       "    </tr>\n",
       "    <tr>\n",
       "      <th>4</th>\n",
       "      <td>-</td>\n",
       "      <td>Health Care Provider</td>\n",
       "      <td>Full-time</td>\n",
       "      <td>Mid-Senior level</td>\n",
       "      <td>Bachelor's Degree</td>\n",
       "    </tr>\n",
       "    <tr>\n",
       "      <th>...</th>\n",
       "      <td>...</td>\n",
       "      <td>...</td>\n",
       "      <td>...</td>\n",
       "      <td>...</td>\n",
       "      <td>...</td>\n",
       "    </tr>\n",
       "    <tr>\n",
       "      <th>17875</th>\n",
       "      <td>-</td>\n",
       "      <td>Sales</td>\n",
       "      <td>Full-time</td>\n",
       "      <td>Mid-Senior level</td>\n",
       "      <td>Bachelor's Degree</td>\n",
       "    </tr>\n",
       "    <tr>\n",
       "      <th>17876</th>\n",
       "      <td>-</td>\n",
       "      <td>Accounting</td>\n",
       "      <td>Full-time</td>\n",
       "      <td>Mid-Senior level</td>\n",
       "      <td>Bachelor's Degree</td>\n",
       "    </tr>\n",
       "    <tr>\n",
       "      <th>17877</th>\n",
       "      <td>-</td>\n",
       "      <td>None</td>\n",
       "      <td>Full-time</td>\n",
       "      <td>Mid-Senior level</td>\n",
       "      <td>Bachelor's Degree</td>\n",
       "    </tr>\n",
       "    <tr>\n",
       "      <th>17878</th>\n",
       "      <td>-</td>\n",
       "      <td>Design</td>\n",
       "      <td>Contract</td>\n",
       "      <td>Not Applicable</td>\n",
       "      <td>Professional</td>\n",
       "    </tr>\n",
       "    <tr>\n",
       "      <th>17879</th>\n",
       "      <td>-</td>\n",
       "      <td>Engineering</td>\n",
       "      <td>Full-time</td>\n",
       "      <td>Mid-Senior level</td>\n",
       "      <td>Bachelor's Degree</td>\n",
       "    </tr>\n",
       "  </tbody>\n",
       "</table>\n",
       "<p>17880 rows × 5 columns</p>\n",
       "</div>"
      ],
      "text/plain": [
       "      salary_range            department employment_type required_experience  \\\n",
       "0                -             Marketing           Other          Internship   \n",
       "1                -               Success       Full-time      Not Applicable   \n",
       "2                -                  None            None                None   \n",
       "3                -                 Sales       Full-time    Mid-Senior level   \n",
       "4                -  Health Care Provider       Full-time    Mid-Senior level   \n",
       "...            ...                   ...             ...                 ...   \n",
       "17875            -                 Sales       Full-time    Mid-Senior level   \n",
       "17876            -            Accounting       Full-time    Mid-Senior level   \n",
       "17877            -                  None       Full-time    Mid-Senior level   \n",
       "17878            -                Design        Contract      Not Applicable   \n",
       "17879            -           Engineering       Full-time    Mid-Senior level   \n",
       "\n",
       "      required_education  \n",
       "0      Bachelor's Degree  \n",
       "1      Bachelor's Degree  \n",
       "2                   None  \n",
       "3      Bachelor's Degree  \n",
       "4      Bachelor's Degree  \n",
       "...                  ...  \n",
       "17875  Bachelor's Degree  \n",
       "17876  Bachelor's Degree  \n",
       "17877  Bachelor's Degree  \n",
       "17878       Professional  \n",
       "17879  Bachelor's Degree  \n",
       "\n",
       "[17880 rows x 5 columns]"
      ]
     },
     "execution_count": 32,
     "metadata": {},
     "output_type": "execute_result"
    }
   ],
   "source": [
    "df13 = df0[['salary_range', 'department', 'employment_type', 'required_experience', 'required_education']]\n",
    "\n",
    "def func(val):\n",
    "    if '-' in str(val):\n",
    "        a, b = str(val).split('-')\n",
    "    else:\n",
    "        return '-'\n",
    "    try:\n",
    "        return int(b)\n",
    "    except:\n",
    "        return int(a)\n",
    "    \n",
    "df13['salary_range'] = df13['salary_range'].apply(lambda x: func(x))\n",
    "df14 = df13.reset_index().drop(labels=['index'], axis= 1)\n",
    "df14"
   ]
  },
  {
   "cell_type": "markdown",
   "id": "4fcf38f1",
   "metadata": {},
   "source": [
    "#### E - 1. Normalizing data  - <u>Salary_range</u>"
   ]
  },
  {
   "cell_type": "code",
   "execution_count": 33,
   "id": "75cf6326",
   "metadata": {},
   "outputs": [
    {
     "data": {
      "text/html": [
       "<div>\n",
       "<style scoped>\n",
       "    .dataframe tbody tr th:only-of-type {\n",
       "        vertical-align: middle;\n",
       "    }\n",
       "\n",
       "    .dataframe tbody tr th {\n",
       "        vertical-align: top;\n",
       "    }\n",
       "\n",
       "    .dataframe thead th {\n",
       "        text-align: right;\n",
       "    }\n",
       "</style>\n",
       "<table border=\"1\" class=\"dataframe\">\n",
       "  <thead>\n",
       "    <tr style=\"text-align: right;\">\n",
       "      <th></th>\n",
       "      <th>salary_range</th>\n",
       "      <th>department</th>\n",
       "      <th>employment_type</th>\n",
       "      <th>required_experience</th>\n",
       "      <th>required_education</th>\n",
       "    </tr>\n",
       "  </thead>\n",
       "  <tbody>\n",
       "    <tr>\n",
       "      <th>0</th>\n",
       "      <td>None</td>\n",
       "      <td>Marketing</td>\n",
       "      <td>Other</td>\n",
       "      <td>Internship</td>\n",
       "      <td>Bachelor's Degree</td>\n",
       "    </tr>\n",
       "    <tr>\n",
       "      <th>1</th>\n",
       "      <td>None</td>\n",
       "      <td>Success</td>\n",
       "      <td>Full-time</td>\n",
       "      <td>Not Applicable</td>\n",
       "      <td>Bachelor's Degree</td>\n",
       "    </tr>\n",
       "    <tr>\n",
       "      <th>2</th>\n",
       "      <td>None</td>\n",
       "      <td>None</td>\n",
       "      <td>None</td>\n",
       "      <td>None</td>\n",
       "      <td>None</td>\n",
       "    </tr>\n",
       "    <tr>\n",
       "      <th>3</th>\n",
       "      <td>None</td>\n",
       "      <td>Sales</td>\n",
       "      <td>Full-time</td>\n",
       "      <td>Mid-Senior level</td>\n",
       "      <td>Bachelor's Degree</td>\n",
       "    </tr>\n",
       "    <tr>\n",
       "      <th>4</th>\n",
       "      <td>None</td>\n",
       "      <td>Health Care Provider</td>\n",
       "      <td>Full-time</td>\n",
       "      <td>Mid-Senior level</td>\n",
       "      <td>Bachelor's Degree</td>\n",
       "    </tr>\n",
       "    <tr>\n",
       "      <th>...</th>\n",
       "      <td>...</td>\n",
       "      <td>...</td>\n",
       "      <td>...</td>\n",
       "      <td>...</td>\n",
       "      <td>...</td>\n",
       "    </tr>\n",
       "    <tr>\n",
       "      <th>17875</th>\n",
       "      <td>None</td>\n",
       "      <td>Sales</td>\n",
       "      <td>Full-time</td>\n",
       "      <td>Mid-Senior level</td>\n",
       "      <td>Bachelor's Degree</td>\n",
       "    </tr>\n",
       "    <tr>\n",
       "      <th>17876</th>\n",
       "      <td>None</td>\n",
       "      <td>Accounting</td>\n",
       "      <td>Full-time</td>\n",
       "      <td>Mid-Senior level</td>\n",
       "      <td>Bachelor's Degree</td>\n",
       "    </tr>\n",
       "    <tr>\n",
       "      <th>17877</th>\n",
       "      <td>None</td>\n",
       "      <td>None</td>\n",
       "      <td>Full-time</td>\n",
       "      <td>Mid-Senior level</td>\n",
       "      <td>Bachelor's Degree</td>\n",
       "    </tr>\n",
       "    <tr>\n",
       "      <th>17878</th>\n",
       "      <td>None</td>\n",
       "      <td>Design</td>\n",
       "      <td>Contract</td>\n",
       "      <td>Not Applicable</td>\n",
       "      <td>Professional</td>\n",
       "    </tr>\n",
       "    <tr>\n",
       "      <th>17879</th>\n",
       "      <td>None</td>\n",
       "      <td>Engineering</td>\n",
       "      <td>Full-time</td>\n",
       "      <td>Mid-Senior level</td>\n",
       "      <td>Bachelor's Degree</td>\n",
       "    </tr>\n",
       "  </tbody>\n",
       "</table>\n",
       "<p>17880 rows × 5 columns</p>\n",
       "</div>"
      ],
      "text/plain": [
       "      salary_range            department employment_type required_experience  \\\n",
       "0             None             Marketing           Other          Internship   \n",
       "1             None               Success       Full-time      Not Applicable   \n",
       "2             None                  None            None                None   \n",
       "3             None                 Sales       Full-time    Mid-Senior level   \n",
       "4             None  Health Care Provider       Full-time    Mid-Senior level   \n",
       "...            ...                   ...             ...                 ...   \n",
       "17875         None                 Sales       Full-time    Mid-Senior level   \n",
       "17876         None            Accounting       Full-time    Mid-Senior level   \n",
       "17877         None                  None       Full-time    Mid-Senior level   \n",
       "17878         None                Design        Contract      Not Applicable   \n",
       "17879         None           Engineering       Full-time    Mid-Senior level   \n",
       "\n",
       "      required_education  \n",
       "0      Bachelor's Degree  \n",
       "1      Bachelor's Degree  \n",
       "2                   None  \n",
       "3      Bachelor's Degree  \n",
       "4      Bachelor's Degree  \n",
       "...                  ...  \n",
       "17875  Bachelor's Degree  \n",
       "17876  Bachelor's Degree  \n",
       "17877  Bachelor's Degree  \n",
       "17878       Professional  \n",
       "17879  Bachelor's Degree  \n",
       "\n",
       "[17880 rows x 5 columns]"
      ]
     },
     "execution_count": 33,
     "metadata": {},
     "output_type": "execute_result"
    }
   ],
   "source": [
    "for i in range(0, len(df14['salary_range'])):\n",
    "    if df14['salary_range'][i] == '-':\n",
    "        continue\n",
    "    if df14['salary_range'][i] < 2500:\n",
    "        df14['salary_range'][i] = 2500\n",
    "    elif df14['salary_range'][i] >= 2500 and df14['salary_range'][i] < 5000:\n",
    "        df14['salary_range'][i] = 5000\n",
    "    elif df14['salary_range'][i] >= 5000 and df14['salary_range'][i] < 7500:\n",
    "        df14['salary_range'][i] = 7500\n",
    "    elif df14['salary_range'][i] >= 7500 and df14['salary_range'][i] < 10000:\n",
    "        df14['salary_range'][i] = 10000\n",
    "    elif df14['salary_range'][i] >= 10000 and df14['salary_range'][i] < 12500:\n",
    "        df14['salary_range'][i] = 12500\n",
    "    elif df14['salary_range'][i] >= 12500 and df14['salary_range'][i] < 15000:\n",
    "        df14['salary_range'][i] = 15000\n",
    "    else:\n",
    "        df14['salary_range'][i] = 17500\n",
    "        \n",
    "        \n",
    "for i in range(0, len(df14['salary_range'])):\n",
    "    if df14['salary_range'][i] == '-':\n",
    "        df14['salary_range'][i] = None\n",
    "        \n",
    "df144 = df14.copy()\n",
    "df144"
   ]
  },
  {
   "cell_type": "code",
   "execution_count": 34,
   "id": "bd60c45e",
   "metadata": {},
   "outputs": [
    {
     "data": {
      "text/html": [
       "<div>\n",
       "<style scoped>\n",
       "    .dataframe tbody tr th:only-of-type {\n",
       "        vertical-align: middle;\n",
       "    }\n",
       "\n",
       "    .dataframe tbody tr th {\n",
       "        vertical-align: top;\n",
       "    }\n",
       "\n",
       "    .dataframe thead tr th {\n",
       "        text-align: left;\n",
       "    }\n",
       "\n",
       "    .dataframe thead tr:last-of-type th {\n",
       "        text-align: right;\n",
       "    }\n",
       "</style>\n",
       "<table border=\"1\" class=\"dataframe\">\n",
       "  <thead>\n",
       "    <tr>\n",
       "      <th></th>\n",
       "      <th colspan=\"21\" halign=\"left\">tot_count</th>\n",
       "    </tr>\n",
       "    <tr>\n",
       "      <th>department</th>\n",
       "      <th>Account Management</th>\n",
       "      <th>Accounting</th>\n",
       "      <th colspan=\"8\" halign=\"left\">Accounting/Auditing</th>\n",
       "      <th>...</th>\n",
       "      <th>java,.net and web technologies</th>\n",
       "      <th>marketing</th>\n",
       "      <th>retail</th>\n",
       "      <th colspan=\"3\" halign=\"left\">sales</th>\n",
       "      <th>service</th>\n",
       "      <th colspan=\"3\" halign=\"left\">tech</th>\n",
       "    </tr>\n",
       "    <tr>\n",
       "      <th>employment_type</th>\n",
       "      <th>Contract</th>\n",
       "      <th>Full-time</th>\n",
       "      <th colspan=\"3\" halign=\"left\">Contract</th>\n",
       "      <th colspan=\"5\" halign=\"left\">Full-time</th>\n",
       "      <th>...</th>\n",
       "      <th>Full-time</th>\n",
       "      <th>Full-time</th>\n",
       "      <th>Full-time</th>\n",
       "      <th>Contract</th>\n",
       "      <th colspan=\"2\" halign=\"left\">Full-time</th>\n",
       "      <th>Full-time</th>\n",
       "      <th colspan=\"3\" halign=\"left\">Full-time</th>\n",
       "    </tr>\n",
       "    <tr>\n",
       "      <th>required_experience</th>\n",
       "      <th>Mid-Senior level</th>\n",
       "      <th>Mid-Senior level</th>\n",
       "      <th>Internship</th>\n",
       "      <th>Mid-Senior level</th>\n",
       "      <th>Not Applicable</th>\n",
       "      <th>Associate</th>\n",
       "      <th colspan=\"3\" halign=\"left\">Entry level</th>\n",
       "      <th>Mid-Senior level</th>\n",
       "      <th>...</th>\n",
       "      <th>Not Applicable</th>\n",
       "      <th>Mid-Senior level</th>\n",
       "      <th>Not Applicable</th>\n",
       "      <th>Associate</th>\n",
       "      <th>Associate</th>\n",
       "      <th>Not Applicable</th>\n",
       "      <th>Mid-Senior level</th>\n",
       "      <th>Associate</th>\n",
       "      <th colspan=\"2\" halign=\"left\">Mid-Senior level</th>\n",
       "    </tr>\n",
       "    <tr>\n",
       "      <th>required_education</th>\n",
       "      <th>Unspecified</th>\n",
       "      <th>Unspecified</th>\n",
       "      <th>Bachelor's Degree</th>\n",
       "      <th>Bachelor's Degree</th>\n",
       "      <th>Bachelor's Degree</th>\n",
       "      <th>Bachelor's Degree</th>\n",
       "      <th>Associate Degree</th>\n",
       "      <th>Bachelor's Degree</th>\n",
       "      <th>High School or equivalent</th>\n",
       "      <th>Bachelor's Degree</th>\n",
       "      <th>...</th>\n",
       "      <th>Bachelor's Degree</th>\n",
       "      <th>Bachelor's Degree</th>\n",
       "      <th>Unspecified</th>\n",
       "      <th>High School or equivalent</th>\n",
       "      <th>High School or equivalent</th>\n",
       "      <th>High School or equivalent</th>\n",
       "      <th>Vocational</th>\n",
       "      <th>Bachelor's Degree</th>\n",
       "      <th>Bachelor's Degree</th>\n",
       "      <th>Master's Degree</th>\n",
       "    </tr>\n",
       "    <tr>\n",
       "      <th>salary_range</th>\n",
       "      <th></th>\n",
       "      <th></th>\n",
       "      <th></th>\n",
       "      <th></th>\n",
       "      <th></th>\n",
       "      <th></th>\n",
       "      <th></th>\n",
       "      <th></th>\n",
       "      <th></th>\n",
       "      <th></th>\n",
       "      <th></th>\n",
       "      <th></th>\n",
       "      <th></th>\n",
       "      <th></th>\n",
       "      <th></th>\n",
       "      <th></th>\n",
       "      <th></th>\n",
       "      <th></th>\n",
       "      <th></th>\n",
       "      <th></th>\n",
       "      <th></th>\n",
       "    </tr>\n",
       "  </thead>\n",
       "  <tbody>\n",
       "    <tr>\n",
       "      <th>2500</th>\n",
       "      <td>1.0</td>\n",
       "      <td>1.0</td>\n",
       "      <td>1.0</td>\n",
       "      <td>1.0</td>\n",
       "      <td>1.0</td>\n",
       "      <td>1.0</td>\n",
       "      <td>1.0</td>\n",
       "      <td>1.0</td>\n",
       "      <td>1.0</td>\n",
       "      <td>2.0</td>\n",
       "      <td>...</td>\n",
       "      <td>NaN</td>\n",
       "      <td>NaN</td>\n",
       "      <td>NaN</td>\n",
       "      <td>NaN</td>\n",
       "      <td>NaN</td>\n",
       "      <td>NaN</td>\n",
       "      <td>NaN</td>\n",
       "      <td>NaN</td>\n",
       "      <td>NaN</td>\n",
       "      <td>NaN</td>\n",
       "    </tr>\n",
       "    <tr>\n",
       "      <th>5000</th>\n",
       "      <td>NaN</td>\n",
       "      <td>NaN</td>\n",
       "      <td>NaN</td>\n",
       "      <td>NaN</td>\n",
       "      <td>NaN</td>\n",
       "      <td>NaN</td>\n",
       "      <td>NaN</td>\n",
       "      <td>NaN</td>\n",
       "      <td>NaN</td>\n",
       "      <td>NaN</td>\n",
       "      <td>...</td>\n",
       "      <td>NaN</td>\n",
       "      <td>NaN</td>\n",
       "      <td>NaN</td>\n",
       "      <td>NaN</td>\n",
       "      <td>NaN</td>\n",
       "      <td>NaN</td>\n",
       "      <td>NaN</td>\n",
       "      <td>NaN</td>\n",
       "      <td>NaN</td>\n",
       "      <td>NaN</td>\n",
       "    </tr>\n",
       "    <tr>\n",
       "      <th>7500</th>\n",
       "      <td>NaN</td>\n",
       "      <td>NaN</td>\n",
       "      <td>NaN</td>\n",
       "      <td>NaN</td>\n",
       "      <td>NaN</td>\n",
       "      <td>NaN</td>\n",
       "      <td>NaN</td>\n",
       "      <td>NaN</td>\n",
       "      <td>NaN</td>\n",
       "      <td>NaN</td>\n",
       "      <td>...</td>\n",
       "      <td>NaN</td>\n",
       "      <td>NaN</td>\n",
       "      <td>NaN</td>\n",
       "      <td>NaN</td>\n",
       "      <td>NaN</td>\n",
       "      <td>NaN</td>\n",
       "      <td>NaN</td>\n",
       "      <td>NaN</td>\n",
       "      <td>NaN</td>\n",
       "      <td>NaN</td>\n",
       "    </tr>\n",
       "    <tr>\n",
       "      <th>10000</th>\n",
       "      <td>NaN</td>\n",
       "      <td>NaN</td>\n",
       "      <td>NaN</td>\n",
       "      <td>NaN</td>\n",
       "      <td>NaN</td>\n",
       "      <td>NaN</td>\n",
       "      <td>NaN</td>\n",
       "      <td>NaN</td>\n",
       "      <td>NaN</td>\n",
       "      <td>NaN</td>\n",
       "      <td>...</td>\n",
       "      <td>NaN</td>\n",
       "      <td>NaN</td>\n",
       "      <td>NaN</td>\n",
       "      <td>NaN</td>\n",
       "      <td>NaN</td>\n",
       "      <td>NaN</td>\n",
       "      <td>NaN</td>\n",
       "      <td>NaN</td>\n",
       "      <td>NaN</td>\n",
       "      <td>NaN</td>\n",
       "    </tr>\n",
       "    <tr>\n",
       "      <th>12500</th>\n",
       "      <td>NaN</td>\n",
       "      <td>NaN</td>\n",
       "      <td>NaN</td>\n",
       "      <td>NaN</td>\n",
       "      <td>NaN</td>\n",
       "      <td>NaN</td>\n",
       "      <td>NaN</td>\n",
       "      <td>NaN</td>\n",
       "      <td>NaN</td>\n",
       "      <td>NaN</td>\n",
       "      <td>...</td>\n",
       "      <td>NaN</td>\n",
       "      <td>NaN</td>\n",
       "      <td>NaN</td>\n",
       "      <td>NaN</td>\n",
       "      <td>NaN</td>\n",
       "      <td>NaN</td>\n",
       "      <td>NaN</td>\n",
       "      <td>NaN</td>\n",
       "      <td>NaN</td>\n",
       "      <td>NaN</td>\n",
       "    </tr>\n",
       "    <tr>\n",
       "      <th>15000</th>\n",
       "      <td>NaN</td>\n",
       "      <td>NaN</td>\n",
       "      <td>NaN</td>\n",
       "      <td>NaN</td>\n",
       "      <td>NaN</td>\n",
       "      <td>NaN</td>\n",
       "      <td>NaN</td>\n",
       "      <td>1.0</td>\n",
       "      <td>NaN</td>\n",
       "      <td>NaN</td>\n",
       "      <td>...</td>\n",
       "      <td>NaN</td>\n",
       "      <td>NaN</td>\n",
       "      <td>NaN</td>\n",
       "      <td>NaN</td>\n",
       "      <td>NaN</td>\n",
       "      <td>NaN</td>\n",
       "      <td>NaN</td>\n",
       "      <td>NaN</td>\n",
       "      <td>NaN</td>\n",
       "      <td>NaN</td>\n",
       "    </tr>\n",
       "    <tr>\n",
       "      <th>17500</th>\n",
       "      <td>NaN</td>\n",
       "      <td>NaN</td>\n",
       "      <td>NaN</td>\n",
       "      <td>NaN</td>\n",
       "      <td>NaN</td>\n",
       "      <td>3.0</td>\n",
       "      <td>NaN</td>\n",
       "      <td>2.0</td>\n",
       "      <td>2.0</td>\n",
       "      <td>6.0</td>\n",
       "      <td>...</td>\n",
       "      <td>1.0</td>\n",
       "      <td>1.0</td>\n",
       "      <td>1.0</td>\n",
       "      <td>1.0</td>\n",
       "      <td>1.0</td>\n",
       "      <td>1.0</td>\n",
       "      <td>1.0</td>\n",
       "      <td>4.0</td>\n",
       "      <td>4.0</td>\n",
       "      <td>3.0</td>\n",
       "    </tr>\n",
       "  </tbody>\n",
       "</table>\n",
       "<p>7 rows × 1073 columns</p>\n",
       "</div>"
      ],
      "text/plain": [
       "                             tot_count                                       \\\n",
       "department          Account Management       Accounting Accounting/Auditing   \n",
       "employment_type               Contract        Full-time            Contract   \n",
       "required_experience   Mid-Senior level Mid-Senior level          Internship   \n",
       "required_education         Unspecified      Unspecified   Bachelor's Degree   \n",
       "salary_range                                                                  \n",
       "2500                               1.0              1.0                 1.0   \n",
       "5000                               NaN              NaN                 NaN   \n",
       "7500                               NaN              NaN                 NaN   \n",
       "10000                              NaN              NaN                 NaN   \n",
       "12500                              NaN              NaN                 NaN   \n",
       "15000                              NaN              NaN                 NaN   \n",
       "17500                              NaN              NaN                 NaN   \n",
       "\n",
       "                                                                           \\\n",
       "department                                                                  \n",
       "employment_type                                                 Full-time   \n",
       "required_experience  Mid-Senior level    Not Applicable         Associate   \n",
       "required_education  Bachelor's Degree Bachelor's Degree Bachelor's Degree   \n",
       "salary_range                                                                \n",
       "2500                              1.0               1.0               1.0   \n",
       "5000                              NaN               NaN               NaN   \n",
       "7500                              NaN               NaN               NaN   \n",
       "10000                             NaN               NaN               NaN   \n",
       "12500                             NaN               NaN               NaN   \n",
       "15000                             NaN               NaN               NaN   \n",
       "17500                             NaN               NaN               3.0   \n",
       "\n",
       "                                                        \\\n",
       "department                                               \n",
       "employment_type                                          \n",
       "required_experience      Entry level                     \n",
       "required_education  Associate Degree Bachelor's Degree   \n",
       "salary_range                                             \n",
       "2500                             1.0               1.0   \n",
       "5000                             NaN               NaN   \n",
       "7500                             NaN               NaN   \n",
       "10000                            NaN               NaN   \n",
       "12500                            NaN               NaN   \n",
       "15000                            NaN               1.0   \n",
       "17500                            NaN               2.0   \n",
       "\n",
       "                                                                 ...  \\\n",
       "department                                                       ...   \n",
       "employment_type                                                  ...   \n",
       "required_experience                            Mid-Senior level  ...   \n",
       "required_education  High School or equivalent Bachelor's Degree  ...   \n",
       "salary_range                                                     ...   \n",
       "2500                                      1.0               2.0  ...   \n",
       "5000                                      NaN               NaN  ...   \n",
       "7500                                      NaN               NaN  ...   \n",
       "10000                                     NaN               NaN  ...   \n",
       "12500                                     NaN               NaN  ...   \n",
       "15000                                     NaN               NaN  ...   \n",
       "17500                                     2.0               6.0  ...   \n",
       "\n",
       "                                                                      \\\n",
       "department          java,.net and web technologies         marketing   \n",
       "employment_type                          Full-time         Full-time   \n",
       "required_experience                 Not Applicable  Mid-Senior level   \n",
       "required_education               Bachelor's Degree Bachelor's Degree   \n",
       "salary_range                                                           \n",
       "2500                                           NaN               NaN   \n",
       "5000                                           NaN               NaN   \n",
       "7500                                           NaN               NaN   \n",
       "10000                                          NaN               NaN   \n",
       "12500                                          NaN               NaN   \n",
       "15000                                          NaN               NaN   \n",
       "17500                                          1.0               1.0   \n",
       "\n",
       "                                                              \\\n",
       "department                  retail                     sales   \n",
       "employment_type          Full-time                  Contract   \n",
       "required_experience Not Applicable                 Associate   \n",
       "required_education     Unspecified High School or equivalent   \n",
       "salary_range                                                   \n",
       "2500                           NaN                       NaN   \n",
       "5000                           NaN                       NaN   \n",
       "7500                           NaN                       NaN   \n",
       "10000                          NaN                       NaN   \n",
       "12500                          NaN                       NaN   \n",
       "15000                          NaN                       NaN   \n",
       "17500                          1.0                       1.0   \n",
       "\n",
       "                                                                         \\\n",
       "department                                                                \n",
       "employment_type                     Full-time                             \n",
       "required_experience                 Associate            Not Applicable   \n",
       "required_education  High School or equivalent High School or equivalent   \n",
       "salary_range                                                              \n",
       "2500                                      NaN                       NaN   \n",
       "5000                                      NaN                       NaN   \n",
       "7500                                      NaN                       NaN   \n",
       "10000                                     NaN                       NaN   \n",
       "12500                                     NaN                       NaN   \n",
       "15000                                     NaN                       NaN   \n",
       "17500                                     1.0                       1.0   \n",
       "\n",
       "                                                                          \\\n",
       "department                   service              tech                     \n",
       "employment_type            Full-time         Full-time                     \n",
       "required_experience Mid-Senior level         Associate  Mid-Senior level   \n",
       "required_education        Vocational Bachelor's Degree Bachelor's Degree   \n",
       "salary_range                                                               \n",
       "2500                             NaN               NaN               NaN   \n",
       "5000                             NaN               NaN               NaN   \n",
       "7500                             NaN               NaN               NaN   \n",
       "10000                            NaN               NaN               NaN   \n",
       "12500                            NaN               NaN               NaN   \n",
       "15000                            NaN               NaN               NaN   \n",
       "17500                            1.0               4.0               4.0   \n",
       "\n",
       "                                     \n",
       "department                           \n",
       "employment_type                      \n",
       "required_experience                  \n",
       "required_education  Master's Degree  \n",
       "salary_range                         \n",
       "2500                            NaN  \n",
       "5000                            NaN  \n",
       "7500                            NaN  \n",
       "10000                           NaN  \n",
       "12500                           NaN  \n",
       "15000                           NaN  \n",
       "17500                           3.0  \n",
       "\n",
       "[7 rows x 1073 columns]"
      ]
     },
     "execution_count": 34,
     "metadata": {},
     "output_type": "execute_result"
    }
   ],
   "source": [
    "df14 = df14.dropna()\n",
    "df15 = df14.groupby(by=['salary_range', 'department', 'employment_type', 'required_experience', 'required_education']).agg({'required_education': 'count'})\n",
    "\n",
    "df15 = df15.rename(columns={'required_education':'tot_count'})\n",
    "\n",
    "df15 = df15.reset_index()\n",
    "df16 = df15.pivot(index='salary_range', \n",
    "                  columns=['department', 'employment_type','required_experience', 'required_education'], \n",
    "                  values=['tot_count'])\n",
    "df16"
   ]
  },
  {
   "cell_type": "code",
   "execution_count": 35,
   "id": "40078609",
   "metadata": {},
   "outputs": [
    {
     "name": "stdout",
     "output_type": "stream",
     "text": [
      "matching count 953 \n",
      "non matching count 1700 \n",
      "filled count 8990\n"
     ]
    }
   ],
   "source": [
    "df131 = df144.fillna('-')\n",
    "\n",
    "matching_count = 0\n",
    "non_matching_count = 0\n",
    "filled_count = 0\n",
    "\n",
    "def m_function(ser):\n",
    "    m_dic = ser.to_dict()\n",
    "    return (max(zip(m_dic.values(), m_dic.keys()))[1])\n",
    "\n",
    "for i in range(0, len(df131['salary_range'])):\n",
    "    if df131['department'][i] != '-' and df131['employment_type'][i] != '-' and df131['required_experience'][i] != '-' and df131['required_education'][i] != '-':\n",
    "        m_ind = tuple(['tot_count', str(df131['department'][i]), str(df131['employment_type'][i]), str(df131['required_experience'][i]), str(df131['required_education'][i])])\n",
    "        if m_ind in df16:\n",
    "            fill_value = m_function(df16[m_ind])\n",
    "            if df131['salary_range'][i] == '-':\n",
    "                df131['salary_range'][i] = int(fill_value)\n",
    "                filled_count += 1\n",
    "            elif df131['salary_range'][i] != '-' and fill_value == df131['salary_range'][i]:\n",
    "                matching_count += 1\n",
    "            elif df131['salary_range'][i] != '-' and fill_value != int(df131['salary_range'][i]):\n",
    "                non_matching_count += 1\n",
    "        else:\n",
    "            if df131['salary_range'][i] == '-':\n",
    "                df131['salary_range'][i] = 0\n",
    "                filled_count += 1\n",
    "            \n",
    "            \n",
    "print('matching count',matching_count,\n",
    "      '\\nnon matching count',non_matching_count,\n",
    "      '\\nfilled count',filled_count)\n",
    "\n",
    "\n",
    "# ['salary_range', 'department', 'employment_type', 'required_experience', 'required_education']"
   ]
  },
  {
   "cell_type": "markdown",
   "id": "32f85d4f",
   "metadata": {},
   "source": [
    "- For salary range we required a specific condition something like if the multi index values are present in that required dictionary which means we predicted some values right so if that entire tuple is present in the original data frame so we can fill it with an accuracy let's say 1/3 accuracy and the remaining thing if our tuple is not present in that data frame which means we can also fill those datas rather we dont have any specific condition to fill it so we fill that values with zero and the remaining with null\n"
   ]
  },
  {
   "cell_type": "code",
   "execution_count": 36,
   "id": "b0ff1e5a",
   "metadata": {},
   "outputs": [
    {
     "data": {
      "text/plain": [
       "-        6023\n",
       "17500    5195\n",
       "2500     3292\n",
       "0        3268\n",
       "5000       42\n",
       "12500      22\n",
       "15000      18\n",
       "7500       17\n",
       "10000       3\n",
       "Name: salary_range, dtype: int64"
      ]
     },
     "execution_count": 36,
     "metadata": {},
     "output_type": "execute_result"
    }
   ],
   "source": [
    "df131['salary_range'].value_counts()"
   ]
  },
  {
   "cell_type": "code",
   "execution_count": 37,
   "id": "01ba6dbb",
   "metadata": {},
   "outputs": [
    {
     "data": {
      "text/plain": [
       "benefits               40\n",
       "salary_range           33\n",
       "department             27\n",
       "function               27\n",
       "industry               27\n",
       "company_profile        18\n",
       "required_education     18\n",
       "employment_type        18\n",
       "required_experience    17\n",
       "requirements           15\n",
       "location                1\n",
       "description             0\n",
       "job_id                  0\n",
       "telecommuting           0\n",
       "has_questions           0\n",
       "has_company_logo        0\n",
       "title                   0\n",
       "fraudulent              0\n",
       "dtype: int64"
      ]
     },
     "execution_count": 37,
     "metadata": {},
     "output_type": "execute_result"
    }
   ],
   "source": [
    "for i in range(0, len(df131['salary_range'])):\n",
    "    if (df131['salary_range'][i] == '-'):\n",
    "        df131['salary_range'][i] = None\n",
    "        \n",
    "df0['salary_range'] = df131['salary_range']\n",
    "df0.isnull().sum().sort_values(ascending= False) * 100// len(df0)"
   ]
  },
  {
   "attachments": {},
   "cell_type": "markdown",
   "id": "cac99999",
   "metadata": {},
   "source": [
    "- from this we come to know that we have decreased salary_range null values from <b><u>83% to 33%</u></b>\n"
   ]
  },
  {
   "cell_type": "code",
   "execution_count": 38,
   "id": "ee5ab648",
   "metadata": {},
   "outputs": [
    {
     "name": "stdout",
     "output_type": "stream",
     "text": [
      "given that \n",
      "salary_range,department,employment_type,required_experience,required_education are Null and its a fraudulent 127 -> 6.83 %\n",
      "salary_range,department,employment_type,required_experience,required_education are Null and its a Nonfraudulent 1733 -> 93.17 %\n"
     ]
    }
   ],
   "source": [
    "# ['salary_range', 'department', 'employment_type', 'required_experience', 'required_education']\n",
    "\n",
    "df17 = df0[(df0['salary_range'].isnull() == True) & \n",
    "           (df0['department'].isnull() == True) & \n",
    "           (df0['employment_type'].isnull() == True) & \n",
    "           (df0['required_experience'].isnull() == True) & \n",
    "           (df0['required_education'].isnull() == True)]\n",
    "\n",
    "count_fraud = len(df17[df17['fraudulent'] == 1])\n",
    "print('given that \\nsalary_range,department,employment_type,required_experience,required_education are Null and its a fraudulent',count_fraud,'->', round(count_fraud * 100/len(df17), 2),'%')\n",
    "count_nonfraud = len(df17[df17['fraudulent'] == 0])\n",
    "print('salary_range,department,employment_type,required_experience,required_education are Null and its a Nonfraudulent',count_nonfraud,'->',round(count_nonfraud * 100/len(df17),2),'%')"
   ]
  },
  {
   "cell_type": "markdown",
   "id": "e77825e9",
   "metadata": {},
   "source": [
    "#### F. Null values fixing for <u>benefits</u>"
   ]
  },
  {
   "cell_type": "code",
   "execution_count": 39,
   "id": "f31ff7ae",
   "metadata": {},
   "outputs": [],
   "source": [
    "filling_string = str(df0['benefits'].value_counts().mode())\n",
    "df0['benefits'] = df0['benefits'].fillna(filling_string)"
   ]
  },
  {
   "cell_type": "markdown",
   "id": "eadccb9f",
   "metadata": {},
   "source": [
    "- will fill all the null values with the mode value of benefits."
   ]
  },
  {
   "cell_type": "markdown",
   "id": "2381dcb5",
   "metadata": {},
   "source": [
    "#### G. Filling All Nan values with Unknown."
   ]
  },
  {
   "attachments": {},
   "cell_type": "markdown",
   "id": "bccff10c",
   "metadata": {},
   "source": [
    "- <b>This is the best like we can do from all the cases for fixing null values for the remaining null values we can take the mode of repeating data and then we can fill the null values with the mode of the data</b>"
   ]
  },
  {
   "cell_type": "code",
   "execution_count": 40,
   "id": "eeea4076",
   "metadata": {},
   "outputs": [],
   "source": [
    "df0['salary_range'].fillna('unknown_salary', inplace=True)\n",
    "df0['department'].fillna('unknown_department', inplace=True)\n",
    "df0['benefits'].fillna('unknown_benefits', inplace=True)\n",
    "df0['function'].fillna('unknown_function', inplace=True)\n",
    "df0['industry'].fillna('unknown_industry', inplace=True)\n",
    "df0['company_profile'].fillna('unknown_company_profile', inplace=True)\n",
    "df0['employment_type'].fillna('unknown_employment_type', inplace=True)\n",
    "df0['required_education'].fillna('unknown_required_education', inplace=True)\n",
    "df0['required_experience'].fillna('unknown_required_experience', inplace=True)\n",
    "df0['requirements'].fillna('unknown_requirements', inplace=True)\n",
    "df0['location'].fillna('unknown_location', inplace=True)"
   ]
  },
  {
   "cell_type": "code",
   "execution_count": 41,
   "id": "5d61609f",
   "metadata": {},
   "outputs": [
    {
     "data": {
      "text/plain": [
       "description            0\n",
       "job_id                 0\n",
       "has_company_logo       0\n",
       "function               0\n",
       "industry               0\n",
       "required_education     0\n",
       "required_experience    0\n",
       "employment_type        0\n",
       "has_questions          0\n",
       "telecommuting          0\n",
       "title                  0\n",
       "benefits               0\n",
       "requirements           0\n",
       "company_profile        0\n",
       "salary_range           0\n",
       "department             0\n",
       "location               0\n",
       "fraudulent             0\n",
       "dtype: int64"
      ]
     },
     "execution_count": 41,
     "metadata": {},
     "output_type": "execute_result"
    }
   ],
   "source": [
    "df0.isnull().sum().sort_values(ascending= False) * 100// len(df0)"
   ]
  },
  {
   "cell_type": "markdown",
   "id": "b1e2813b",
   "metadata": {},
   "source": [
    "##"
   ]
  },
  {
   "cell_type": "markdown",
   "id": "7fd12581",
   "metadata": {},
   "source": [
    "## 2. <u>Finding Correlation b/w fraudulent vs Non_fraudulent</u>"
   ]
  },
  {
   "cell_type": "markdown",
   "id": "e2baff68",
   "metadata": {},
   "source": [
    "#### A. for <u>company_profile</u>"
   ]
  },
  {
   "cell_type": "code",
   "execution_count": 42,
   "id": "3cff36fa",
   "metadata": {},
   "outputs": [
    {
     "data": {
      "text/html": [
       "<div>\n",
       "<style scoped>\n",
       "    .dataframe tbody tr th:only-of-type {\n",
       "        vertical-align: middle;\n",
       "    }\n",
       "\n",
       "    .dataframe tbody tr th {\n",
       "        vertical-align: top;\n",
       "    }\n",
       "\n",
       "    .dataframe thead th {\n",
       "        text-align: right;\n",
       "    }\n",
       "</style>\n",
       "<table border=\"1\" class=\"dataframe\">\n",
       "  <thead>\n",
       "    <tr style=\"text-align: right;\">\n",
       "      <th></th>\n",
       "      <th>company_profile</th>\n",
       "      <th>fraudulent</th>\n",
       "    </tr>\n",
       "  </thead>\n",
       "  <tbody>\n",
       "    <tr>\n",
       "      <th>0</th>\n",
       "      <td>We re Food52 and we ve created a groundbreakin...</td>\n",
       "      <td>0</td>\n",
       "    </tr>\n",
       "    <tr>\n",
       "      <th>1</th>\n",
       "      <td>90 Seconds the worlds Cloud Video Production S...</td>\n",
       "      <td>0</td>\n",
       "    </tr>\n",
       "    <tr>\n",
       "      <th>2</th>\n",
       "      <td>Valor Services provides Workforce Solutions th...</td>\n",
       "      <td>0</td>\n",
       "    </tr>\n",
       "    <tr>\n",
       "      <th>3</th>\n",
       "      <td>Our passion for improving quality of life thro...</td>\n",
       "      <td>0</td>\n",
       "    </tr>\n",
       "    <tr>\n",
       "      <th>4</th>\n",
       "      <td>SpotSource Solutions LLC is a Global Human Cap...</td>\n",
       "      <td>0</td>\n",
       "    </tr>\n",
       "    <tr>\n",
       "      <th>...</th>\n",
       "      <td>...</td>\n",
       "      <td>...</td>\n",
       "    </tr>\n",
       "    <tr>\n",
       "      <th>17875</th>\n",
       "      <td>Vend is looking for some awesome new talent to...</td>\n",
       "      <td>0</td>\n",
       "    </tr>\n",
       "    <tr>\n",
       "      <th>17876</th>\n",
       "      <td>WebLinc is the e-commerce platform and service...</td>\n",
       "      <td>0</td>\n",
       "    </tr>\n",
       "    <tr>\n",
       "      <th>17877</th>\n",
       "      <td>We Provide Full Time Permanent Positions for m...</td>\n",
       "      <td>0</td>\n",
       "    </tr>\n",
       "    <tr>\n",
       "      <th>17878</th>\n",
       "      <td>unknown_company_profile</td>\n",
       "      <td>0</td>\n",
       "    </tr>\n",
       "    <tr>\n",
       "      <th>17879</th>\n",
       "      <td>Vend is looking for some awesome new talent to...</td>\n",
       "      <td>0</td>\n",
       "    </tr>\n",
       "  </tbody>\n",
       "</table>\n",
       "<p>17880 rows × 2 columns</p>\n",
       "</div>"
      ],
      "text/plain": [
       "                                         company_profile  fraudulent\n",
       "0      We re Food52 and we ve created a groundbreakin...           0\n",
       "1      90 Seconds the worlds Cloud Video Production S...           0\n",
       "2      Valor Services provides Workforce Solutions th...           0\n",
       "3      Our passion for improving quality of life thro...           0\n",
       "4      SpotSource Solutions LLC is a Global Human Cap...           0\n",
       "...                                                  ...         ...\n",
       "17875  Vend is looking for some awesome new talent to...           0\n",
       "17876  WebLinc is the e-commerce platform and service...           0\n",
       "17877  We Provide Full Time Permanent Positions for m...           0\n",
       "17878                            unknown_company_profile           0\n",
       "17879  Vend is looking for some awesome new talent to...           0\n",
       "\n",
       "[17880 rows x 2 columns]"
      ]
     },
     "execution_count": 42,
     "metadata": {},
     "output_type": "execute_result"
    }
   ],
   "source": [
    "df20 = df0[['company_profile', 'fraudulent']]\n",
    "df20['company_profile'] = df20['company_profile'].apply(lambda x: re.findall(\"[A-Za-z0-9-_]*\", x))\n",
    "df20['company_profile'] = df20['company_profile'].apply(lambda x: ' '.join([i for i in x if len(i.strip()) != 0]) )\n",
    "df200 = df20.copy()\n",
    "df20"
   ]
  },
  {
   "cell_type": "code",
   "execution_count": 43,
   "id": "c821762d",
   "metadata": {},
   "outputs": [
    {
     "data": {
      "text/html": [
       "<div>\n",
       "<style scoped>\n",
       "    .dataframe tbody tr th:only-of-type {\n",
       "        vertical-align: middle;\n",
       "    }\n",
       "\n",
       "    .dataframe tbody tr th {\n",
       "        vertical-align: top;\n",
       "    }\n",
       "\n",
       "    .dataframe thead th {\n",
       "        text-align: right;\n",
       "    }\n",
       "</style>\n",
       "<table border=\"1\" class=\"dataframe\">\n",
       "  <thead>\n",
       "    <tr style=\"text-align: right;\">\n",
       "      <th></th>\n",
       "      <th>company_profile</th>\n",
       "      <th>fraudulent</th>\n",
       "    </tr>\n",
       "  </thead>\n",
       "  <tbody>\n",
       "    <tr>\n",
       "      <th>0</th>\n",
       "      <td>[Food52, created, groundbreaking, award-winnin...</td>\n",
       "      <td>0</td>\n",
       "    </tr>\n",
       "    <tr>\n",
       "      <th>1</th>\n",
       "      <td>[90, Seconds, world, Cloud, Video, Production,...</td>\n",
       "      <td>0</td>\n",
       "    </tr>\n",
       "    <tr>\n",
       "      <th>2</th>\n",
       "      <td>[Valor, Services, provides, Workforce, Solutio...</td>\n",
       "      <td>0</td>\n",
       "    </tr>\n",
       "    <tr>\n",
       "      <th>3</th>\n",
       "      <td>[passion, improving, quality, life, geography,...</td>\n",
       "      <td>0</td>\n",
       "    </tr>\n",
       "    <tr>\n",
       "      <th>4</th>\n",
       "      <td>[SpotSource, Solutions, LLC, Global, Human, Ca...</td>\n",
       "      <td>0</td>\n",
       "    </tr>\n",
       "    <tr>\n",
       "      <th>...</th>\n",
       "      <td>...</td>\n",
       "      <td>...</td>\n",
       "    </tr>\n",
       "    <tr>\n",
       "      <th>17875</th>\n",
       "      <td>[Vend, looking, awesome, new, talent, come, jo...</td>\n",
       "      <td>0</td>\n",
       "    </tr>\n",
       "    <tr>\n",
       "      <th>17876</th>\n",
       "      <td>[WebLinc, e-commerce, platform, service, provi...</td>\n",
       "      <td>0</td>\n",
       "    </tr>\n",
       "    <tr>\n",
       "      <th>17877</th>\n",
       "      <td>[Provide, Full, Time, Permanent, Positions, ma...</td>\n",
       "      <td>0</td>\n",
       "    </tr>\n",
       "    <tr>\n",
       "      <th>17878</th>\n",
       "      <td>[unknown_company_profile]</td>\n",
       "      <td>0</td>\n",
       "    </tr>\n",
       "    <tr>\n",
       "      <th>17879</th>\n",
       "      <td>[Vend, looking, awesome, new, talent, come, jo...</td>\n",
       "      <td>0</td>\n",
       "    </tr>\n",
       "  </tbody>\n",
       "</table>\n",
       "<p>17880 rows × 2 columns</p>\n",
       "</div>"
      ],
      "text/plain": [
       "                                         company_profile  fraudulent\n",
       "0      [Food52, created, groundbreaking, award-winnin...           0\n",
       "1      [90, Seconds, world, Cloud, Video, Production,...           0\n",
       "2      [Valor, Services, provides, Workforce, Solutio...           0\n",
       "3      [passion, improving, quality, life, geography,...           0\n",
       "4      [SpotSource, Solutions, LLC, Global, Human, Ca...           0\n",
       "...                                                  ...         ...\n",
       "17875  [Vend, looking, awesome, new, talent, come, jo...           0\n",
       "17876  [WebLinc, e-commerce, platform, service, provi...           0\n",
       "17877  [Provide, Full, Time, Permanent, Positions, ma...           0\n",
       "17878                          [unknown_company_profile]           0\n",
       "17879  [Vend, looking, awesome, new, talent, come, jo...           0\n",
       "\n",
       "[17880 rows x 2 columns]"
      ]
     },
     "execution_count": 43,
     "metadata": {},
     "output_type": "execute_result"
    }
   ],
   "source": [
    "for i in range(0, len(df20['company_profile'])):\n",
    "    ex_text = df20['company_profile'][i]\n",
    "    \n",
    "    stop_words = stopwords.words('english') #removing stopwords\n",
    "    word_tokens = word_tokenize(ex_text)   #spliting them into a list\n",
    "    \n",
    "    filtered_text = [wnl.lemmatize(x) for x in word_tokens if not x.lower() in stop_words]\n",
    "    df20['company_profile'][i] = filtered_text\n",
    "    \n",
    "    \n",
    "df20"
   ]
  },
  {
   "cell_type": "markdown",
   "id": "a89d8142",
   "metadata": {},
   "source": [
    "- We have done this nlp analysis and for stop words removing and  tokenization for all the company profile so and we got a result and then now we will split this data into 2 categories fraud data non fraud data so in fraud data will calculate that how many words are getting collide with each other on how many words are occurring the most number of times let's say in company profile this word unknown company profile so that to be a fraud is very high and then if say next word say not required something like that so the probability of getting this word in that company profile so we will lead to fraud data with some kind of percentage\n"
   ]
  },
  {
   "cell_type": "code",
   "execution_count": 44,
   "id": "ce6ba45e",
   "metadata": {},
   "outputs": [],
   "source": [
    "df21 = df20[df20['fraudulent'] == 1]['company_profile'].reset_index().drop(labels='index', axis=1)\n",
    "\n",
    "matching_max_dic = {}\n",
    "\n",
    "for lst in df21['company_profile']:\n",
    "    for ele in lst:\n",
    "        if ele in matching_max_dic:\n",
    "            matching_max_dic[ele] += 1\n",
    "        else:\n",
    "            matching_max_dic[ele] = 1\n",
    "            "
   ]
  },
  {
   "attachments": {
    "image.png": {
     "image/png": "[encoded data removed]"
    }
   },
   "cell_type": "markdown",
   "id": "5d4da5d2",
   "metadata": {},
   "source": [
    "- From this we come to know that we also have some urn phone number and email ID that are not in a proper order may be like those are encrypted something like that make a proper email ID should be in .com and then phone number should be in numerics but I see that this dictionary which we are having all these URLs are like url_and some encrypted values and even this is same for number and everything so that is not our case So what you will do will use regex to convert this all ur phone number and email ID to single 3 single words URL email and phone number so that we can get all those forms or lets say these you are like improper URL, improper email and improper phone number and then we will have their count as well\n",
    "![image.png](attachment:image.png)"
   ]
  },
  {
   "cell_type": "code",
   "execution_count": 45,
   "id": "52a4edc8",
   "metadata": {},
   "outputs": [
    {
     "data": {
      "text/html": [
       "<div>\n",
       "<style scoped>\n",
       "    .dataframe tbody tr th:only-of-type {\n",
       "        vertical-align: middle;\n",
       "    }\n",
       "\n",
       "    .dataframe tbody tr th {\n",
       "        vertical-align: top;\n",
       "    }\n",
       "\n",
       "    .dataframe thead th {\n",
       "        text-align: right;\n",
       "    }\n",
       "</style>\n",
       "<table border=\"1\" class=\"dataframe\">\n",
       "  <thead>\n",
       "    <tr style=\"text-align: right;\">\n",
       "      <th></th>\n",
       "      <th>company_profile</th>\n",
       "      <th>fraudulent</th>\n",
       "    </tr>\n",
       "  </thead>\n",
       "  <tbody>\n",
       "    <tr>\n",
       "      <th>0</th>\n",
       "      <td>[Food52, created, groundbreaking, award-winnin...</td>\n",
       "      <td>0</td>\n",
       "    </tr>\n",
       "    <tr>\n",
       "      <th>1</th>\n",
       "      <td>[90, Seconds, world, Cloud, Video, Production,...</td>\n",
       "      <td>0</td>\n",
       "    </tr>\n",
       "    <tr>\n",
       "      <th>2</th>\n",
       "      <td>[Valor, Services, provides, Workforce, Solutio...</td>\n",
       "      <td>0</td>\n",
       "    </tr>\n",
       "    <tr>\n",
       "      <th>3</th>\n",
       "      <td>[passion, improving, quality, life, geography,...</td>\n",
       "      <td>0</td>\n",
       "    </tr>\n",
       "    <tr>\n",
       "      <th>4</th>\n",
       "      <td>[SpotSource, Solutions, LLC, Global, Human, Ca...</td>\n",
       "      <td>0</td>\n",
       "    </tr>\n",
       "    <tr>\n",
       "      <th>...</th>\n",
       "      <td>...</td>\n",
       "      <td>...</td>\n",
       "    </tr>\n",
       "    <tr>\n",
       "      <th>17875</th>\n",
       "      <td>[Vend, looking, awesome, new, talent, come, jo...</td>\n",
       "      <td>0</td>\n",
       "    </tr>\n",
       "    <tr>\n",
       "      <th>17876</th>\n",
       "      <td>[WebLinc, e-commerce, platform, service, provi...</td>\n",
       "      <td>0</td>\n",
       "    </tr>\n",
       "    <tr>\n",
       "      <th>17877</th>\n",
       "      <td>[Provide, Full, Time, Permanent, Positions, ma...</td>\n",
       "      <td>0</td>\n",
       "    </tr>\n",
       "    <tr>\n",
       "      <th>17878</th>\n",
       "      <td>[unknown_company_profile]</td>\n",
       "      <td>0</td>\n",
       "    </tr>\n",
       "    <tr>\n",
       "      <th>17879</th>\n",
       "      <td>[Vend, looking, awesome, new, talent, come, jo...</td>\n",
       "      <td>0</td>\n",
       "    </tr>\n",
       "  </tbody>\n",
       "</table>\n",
       "<p>17880 rows × 2 columns</p>\n",
       "</div>"
      ],
      "text/plain": [
       "                                         company_profile  fraudulent\n",
       "0      [Food52, created, groundbreaking, award-winnin...           0\n",
       "1      [90, Seconds, world, Cloud, Video, Production,...           0\n",
       "2      [Valor, Services, provides, Workforce, Solutio...           0\n",
       "3      [passion, improving, quality, life, geography,...           0\n",
       "4      [SpotSource, Solutions, LLC, Global, Human, Ca...           0\n",
       "...                                                  ...         ...\n",
       "17875  [Vend, looking, awesome, new, talent, come, jo...           0\n",
       "17876  [WebLinc, e-commerce, platform, service, provi...           0\n",
       "17877  [Provide, Full, Time, Permanent, Positions, ma...           0\n",
       "17878                          [unknown_company_profile]           0\n",
       "17879  [Vend, looking, awesome, new, talent, come, jo...           0\n",
       "\n",
       "[17880 rows x 2 columns]"
      ]
     },
     "execution_count": 45,
     "metadata": {},
     "output_type": "execute_result"
    }
   ],
   "source": [
    "df200['company_profile'] = df200['company_profile'].apply(lambda x: re.sub('URL_[a-zA-z0-9]*', 'INVALID_URL', x)  )\n",
    "df200['company_profile'] = df200['company_profile'].apply(lambda x: re.sub('EMAIL_[a-zA-z0-9]*', 'INVALID_EMAIL', x)  )\n",
    "df200['company_profile'] = df200['company_profile'].apply(lambda x: re.sub('PHONE_[a-zA-z0-9]*', 'INVALID_PHONE', x)  )\n",
    "\n",
    "for i in range(0, len(df200['company_profile'])):\n",
    "    ex_text = df200['company_profile'][i]\n",
    "    \n",
    "    stop_words = stopwords.words('english') #removing stopwords\n",
    "    word_tokens = word_tokenize(ex_text)   #spliting them into a list\n",
    "    \n",
    "    filtered_text = [wnl.lemmatize(x) for x in word_tokens if not x.lower() in stop_words]\n",
    "    df200['company_profile'][i] = filtered_text\n",
    "    \n",
    "    \n",
    "df200"
   ]
  },
  {
   "cell_type": "code",
   "execution_count": 46,
   "id": "38d7970b",
   "metadata": {},
   "outputs": [],
   "source": [
    "df201 = df200[df200['fraudulent'] == 1]['company_profile'].reset_index().drop(labels='index', axis=1)\n",
    "\n",
    "matching_max_dic = {}\n",
    "\n",
    "for lst in df201['company_profile']:\n",
    "    for ele in lst:\n",
    "        if ele in matching_max_dic:\n",
    "            matching_max_dic[ele] += 1\n",
    "        else:\n",
    "            matching_max_dic[ele] = 1\n",
    "            \n",
    "key_company_profile = {k:v for (k,v) in matching_max_dic.items()}"
   ]
  },
  {
   "cell_type": "markdown",
   "id": "bdd0c7ea",
   "metadata": {},
   "source": [
    " - So from this we have changed that invalid email ID phone number and URL to its proper text so from this there are many occurrence of standard values something like unknown company profile is occurring for 587 times and candidate is occurring for 195 times these are the keywords that our great which are very much responsible for a company profile to be a fraud company profile so this count stays with business like how many weighted keywords can be take some some case say like if it is more than 100 you can take all those keywords some say like if it is 50 you can take all those keywords so as of now we will keep 50 as a band and then we will take all the keywords that are occurring more than 50 times\n"
   ]
  },
  {
   "cell_type": "code",
   "execution_count": 47,
   "id": "1cb0b172",
   "metadata": {},
   "outputs": [],
   "source": [
    "df201 = df200[df200['fraudulent'] == 0]['company_profile'].reset_index().drop(labels='index', axis=1)\n",
    "\n",
    "matching_max_dic = {}\n",
    "\n",
    "for lst in df201['company_profile']:\n",
    "    for ele in lst:\n",
    "        if ele in matching_max_dic:\n",
    "            matching_max_dic[ele] += 1\n",
    "        else:\n",
    "            matching_max_dic[ele] = 1\n",
    "            \n",
    "Nonkey_company_profile = {k:v for (k,v) in matching_max_dic.items() if v > 100}"
   ]
  },
  {
   "cell_type": "markdown",
   "id": "cf29350e",
   "metadata": {},
   "source": [
    "#### B. for <u>description</u>"
   ]
  },
  {
   "cell_type": "code",
   "execution_count": 48,
   "id": "09eef7f9",
   "metadata": {},
   "outputs": [
    {
     "data": {
      "text/plain": [
       "'COMPANY OVERVIEW:ChimeNet is a data networking service provider offering innovative information technology (IT) solutions and 24/7/365 support for businesses where data transfer and security cannot be compromised. ChimeNet delivers unsurpassed security, reliability, and cost effectiveness to its healthcare, education, municipal, and other business clients who need to share content-sensitive information, access the Internet securely, and deploy state of the art networking equipment. ChimeNet’s co-location facility supports customer disaster recovery and business continuity planning.By designing, delivering, monitoring, and managing turnkey network security solutions, ChimeNet meets the evolving needs of every client.\\xa0 Please go to #URL_e96213b2a38d1186e849460108b9f4f963605c5b0c938d7254e53e405572bd36# for more information.JOB SUMMARY:The Manager, Network Engineering will manage and lead our small team of Network Engineers and serve as the technical subject matter expert.\\xa0 The Manager will oversee those involved in the development, design, implementation, test, and maintenance of ChimeNet solutions based on client’s business and technology needs, and ensure we are delivering solutions that provide client/partner satisfaction, meet business requirements, and conform to industry best practices.\\xa0 The Manager will direct the planning and implementation of long term strategic solutions as part of the CHA Business Plan.Provides technical leadership and direction, reviews architecture and design and recommends change and improvement where needed.\\xa0 Works with engineers to implement solutions; ensures technical standards and architecture designs are followed.\\xa0Uses knowledge of LAN/WAN systems to help design and install all internal (ChimeNet) and external (customer) based networks.Establishes and implements “best-practice” engineering design/implementation standards as well as departmental policies and procedures.\\xa0 Develops conceptual architecture, flowcharts, and diagrams to illustrate sequence of steps and describe logical operations.\\xa0 Analyzes, recommends, and evaluates new hardware, software, and products.Manages and prioritizes team’s workload to meet specified due dates. Sets goals for the team that are aligned with business and department objectives.Mentors team members with latest trends and best practices in network technologies.Provides regular status reports, escalates issues with delivery dates, cost, or deliverables at risk.Engages with customers as needed to resolve connectivity or performance issues at individual customer sites.\\xa0 Works with engineers to modify design based on obstacles encountered in implementation.Ensures project deliverables match client expectations by proactively communicating with client/project engineer.\\xa0 Engages project beneficiaries, including users, client management, and others, to incorporate rapidly changing requirements.\\xa0 Participates in client interactions to ensure customer satisfaction.Works with sales team as primary pre-sales technical resource with existing and potential clients.\\xa0 Facilitates strong client/partner relationships; identifies and positions opportunities outside scope of current engagements.EOE'"
      ]
     },
     "execution_count": 48,
     "metadata": {},
     "output_type": "execute_result"
    }
   ],
   "source": [
    "df30 = df0[['description', 'fraudulent']]\n",
    "df30['description'][192] # keep this verifiying that the url is sometimes not starting with https but always has URL_ in it"
   ]
  },
  {
   "cell_type": "code",
   "execution_count": 49,
   "id": "7ea52665",
   "metadata": {},
   "outputs": [],
   "source": [
    "df30['description'] = df30['description'].apply(lambda x: re.findall(\"[A-Za-z0-9]*\", str(x)))\n",
    "df30['description'] = df30['description'].apply(lambda x: ' '.join([i for i in x if len(i.strip()) != 0]) )\n",
    "\n",
    "\n",
    "df30['description'] = df30['description'].apply(lambda x: re.sub('URL_[a-zA-z0-9]*', 'INVALID_URL', str(x))  )\n",
    "df30['description'] = df30['description'].apply(lambda x: re.sub('EMAIL_[a-zA-z0-9]*', 'INVALID_EMAIL', x)  )\n",
    "df30['description'] = df30['description'].apply(lambda x: re.sub('PHONE_[a-zA-z0-9]*', 'INVALID_PHONE', x)  )\n",
    "\n",
    "for i in range(0, len(df30['description'])):\n",
    "    ex_text = df30['description'][i]\n",
    "    \n",
    "    stop_words = stopwords.words('english') #removing stopwords\n",
    "    word_tokens = word_tokenize(ex_text)   #spliting them into a list\n",
    "    \n",
    "    filtered_text = [wnl.lemmatize(x) for x in word_tokens if not x.lower() in stop_words]\n",
    "    df30['description'][i] = filtered_text\n",
    "    \n",
    "    \n",
    "df301 = df30[df30['fraudulent'] == 1]['description'].reset_index().drop(labels='index', axis=1)\n",
    "\n",
    "matching_max_dic = {}\n",
    "\n",
    "for lst in df301['description']:\n",
    "    for ele in lst:\n",
    "        if ele in matching_max_dic:\n",
    "            matching_max_dic[ele] += 1\n",
    "        else:\n",
    "            matching_max_dic[ele] = 1\n",
    "            \n",
    "key_description = {k:v for (k,v) in matching_max_dic.items()}"
   ]
  },
  {
   "cell_type": "code",
   "execution_count": 50,
   "id": "880e8aee",
   "metadata": {},
   "outputs": [],
   "source": [
    "df302 = df30[df30['fraudulent'] == 0]['description'].reset_index().drop(labels='index', axis=1)\n",
    "\n",
    "matching_max_dic = {}\n",
    "\n",
    "for lst in df302['description']:\n",
    "    for ele in lst:\n",
    "        if ele in matching_max_dic:\n",
    "            matching_max_dic[ele] += 1\n",
    "        else:\n",
    "            matching_max_dic[ele] = 1\n",
    "            \n",
    "Nonkey_description = {k:v for (k,v) in matching_max_dic.items() if v > 100}"
   ]
  },
  {
   "cell_type": "markdown",
   "id": "ea70f6d5",
   "metadata": {},
   "source": [
    "#### C. For <u>requirements</u>"
   ]
  },
  {
   "cell_type": "code",
   "execution_count": 51,
   "id": "4ddcd4e1",
   "metadata": {},
   "outputs": [
    {
     "data": {
      "text/plain": [
       "\"What we expect from you:Your key responsibility will be to communicate with the client, 90 Seconds team and freelance community throughout the video production process including, shoot planning, securing freelance talent, managing workflow and the online production management system. \\xa0The aim is to manage each video project effectively so that we produce great videos that our clients love.Key\\xa0attributesClient focused\\xa0- excellent customer service and communication skillsOnline -\\xa0oustanding computer knowledge and experience using online software and project management toolsOrganised\\xa0- manage workload and able to multi-task100% attention to detailMotivated -\\xa0self-starter with a passion for doing excellent work and achieving great resultsAdaptable\\xa0- show initiative and think on your feet as this is a constantly evolving atmosphereFlexible\\xa0- fast turnaround work and after hours availabilityEasy going\\xa0&amp; upbeat\\xa0- dosen't get bogged down and loves the challengeSense of Humour\\xa0- have a laugh and know that working in a startup takes guts!Ability to deliver\\xa0- including meeting project deadlines and budgetAttitude is more important than experience at 90 Seconds, however previous experience in customer service and/or project management is beneficialPlease view our platform / website at\\xa0#URL_395a8683a907ce95f49a12fb240e6e47ad8d5a4f96d07ebbd869c4dd4dea1826#\\xa0and get a clear understand about what we do before reaching out.\""
      ]
     },
     "execution_count": 51,
     "metadata": {},
     "output_type": "execute_result"
    }
   ],
   "source": [
    "df40 = df0[['requirements', 'fraudulent']]\n",
    "df40['requirements'][1] # keep this verifiying that the url is sometimes not starting with https but always has URL_ in it"
   ]
  },
  {
   "cell_type": "code",
   "execution_count": 52,
   "id": "6a9900fb",
   "metadata": {},
   "outputs": [],
   "source": [
    "df40['requirements'] = df40['requirements'].apply(lambda x: re.findall(\"[A-Za-z0-9]*\", str(x)))\n",
    "df40['requirements'] = df40['requirements'].apply(lambda x: ' '.join([i for i in x if len(i.strip()) != 0]) )\n",
    "\n",
    "df40['requirements'] = df40['requirements'].apply(lambda x: re.sub('URL_[a-zA-z0-9]*', 'INVALID_URL', str(x))  )\n",
    "df40['requirements'] = df40['requirements'].apply(lambda x: re.sub('EMAIL_[a-zA-z0-9]*', 'INVALID_EMAIL', x)  )\n",
    "df40['requirements'] = df40['requirements'].apply(lambda x: re.sub('PHONE_[a-zA-z0-9]*', 'INVALID_PHONE', x)  )\n",
    "\n",
    "for i in range(0, len(df40['requirements'])):\n",
    "    ex_text = df40['requirements'][i]\n",
    "    \n",
    "    stop_words = stopwords.words('english') #removing stopwords\n",
    "    word_tokens = word_tokenize(ex_text)   #spliting them into a list\n",
    "    \n",
    "    filtered_text = [wnl.lemmatize(x) for x in word_tokens if not x.lower() in stop_words]\n",
    "    df40['requirements'][i] = filtered_text\n",
    "    \n",
    "    \n",
    "df401 = df40[df40['fraudulent'] == 1]['requirements'].reset_index().drop(labels='index', axis=1)\n",
    "\n",
    "matching_max_dic = {}\n",
    "\n",
    "for lst in df401['requirements']:\n",
    "    for ele in lst:\n",
    "        if ele in matching_max_dic:\n",
    "            matching_max_dic[ele] += 1\n",
    "        else:\n",
    "            matching_max_dic[ele] = 1\n",
    "            \n",
    "key_requirements = {k:v for (k,v) in matching_max_dic.items()}"
   ]
  },
  {
   "cell_type": "code",
   "execution_count": 53,
   "id": "9178c997",
   "metadata": {},
   "outputs": [],
   "source": [
    "df401 = df40[df40['fraudulent'] == 0]['requirements'].reset_index().drop(labels='index', axis=1)\n",
    "\n",
    "matching_max_dic = {}\n",
    "\n",
    "for lst in df401['requirements']:\n",
    "    for ele in lst:\n",
    "        if ele in matching_max_dic:\n",
    "            matching_max_dic[ele] += 1\n",
    "        else:\n",
    "            matching_max_dic[ele] = 1\n",
    "            \n",
    "Nonkey_requirements = {k:v for (k,v) in matching_max_dic.items() if v > 100}"
   ]
  },
  {
   "cell_type": "markdown",
   "id": "15f528e0",
   "metadata": {},
   "source": [
    "#### D. For <u>title</u>"
   ]
  },
  {
   "cell_type": "code",
   "execution_count": 54,
   "id": "83405447",
   "metadata": {},
   "outputs": [
    {
     "data": {
      "text/plain": [
       "'Customer Service - Cloud Video Production'"
      ]
     },
     "execution_count": 54,
     "metadata": {},
     "output_type": "execute_result"
    }
   ],
   "source": [
    "df50 = df0[['title', 'fraudulent']]\n",
    "df50['title'][1] # keep this verifiying that the url is sometimes not starting with https but always has URL_ in it"
   ]
  },
  {
   "cell_type": "code",
   "execution_count": 55,
   "id": "877a7cec",
   "metadata": {},
   "outputs": [],
   "source": [
    "df50['title'] = df50['title'].apply(lambda x: re.findall(\"[A-Za-z0-9]*\", str(x)))\n",
    "df50['title'] = df50['title'].apply(lambda x: ' '.join([i for i in x if len(i.strip()) != 0]) )\n",
    "\n",
    "for i in range(0, len(df50['title'])):\n",
    "    ex_text = df50['title'][i]\n",
    "    \n",
    "    stop_words = stopwords.words('english') #removing stopwords\n",
    "    word_tokens = word_tokenize(ex_text)   #spliting them into a list\n",
    "    \n",
    "    filtered_text = [wnl.lemmatize(x) for x in word_tokens if not x.lower() in stop_words]\n",
    "    df50['title'][i] = filtered_text\n",
    "    \n",
    "    \n",
    "df501 = df50[df50['fraudulent'] == 1]['title'].reset_index().drop(labels='index', axis=1)\n",
    "\n",
    "matching_max_dic = {}\n",
    "\n",
    "for lst in df501['title']:\n",
    "    for ele in lst:\n",
    "        if ele in matching_max_dic:\n",
    "            matching_max_dic[ele] += 1\n",
    "        else:\n",
    "            matching_max_dic[ele] = 1\n",
    "            \n",
    "key_title = {k:v for (k,v) in matching_max_dic.items()}"
   ]
  },
  {
   "cell_type": "code",
   "execution_count": 56,
   "id": "7d506c8d",
   "metadata": {},
   "outputs": [],
   "source": [
    "df501 = df50[df50['fraudulent'] == 0]['title'].reset_index().drop(labels='index', axis=1)\n",
    "\n",
    "matching_max_dic = {}\n",
    "\n",
    "for lst in df501['title']:\n",
    "    for ele in lst:\n",
    "        if ele in matching_max_dic:\n",
    "            matching_max_dic[ele] += 1\n",
    "        else:\n",
    "            matching_max_dic[ele] = 1\n",
    "            \n",
    "Nonkey_title = {k:v for (k,v) in matching_max_dic.items() if v > 100}"
   ]
  },
  {
   "cell_type": "markdown",
   "id": "138d16e6",
   "metadata": {},
   "source": [
    "#### E. For <u>location</u>"
   ]
  },
  {
   "cell_type": "code",
   "execution_count": 57,
   "id": "ec872eb6",
   "metadata": {},
   "outputs": [
    {
     "data": {
      "text/plain": [
       "'NZ, , Auckland'"
      ]
     },
     "execution_count": 57,
     "metadata": {},
     "output_type": "execute_result"
    }
   ],
   "source": [
    "df60 = df0[['location', 'fraudulent']]\n",
    "df60['location'][1] # keep this verifiying that the url is sometimes not starting with https but always has URL_ in it"
   ]
  },
  {
   "cell_type": "code",
   "execution_count": 58,
   "id": "fb704692",
   "metadata": {},
   "outputs": [],
   "source": [
    "df60['location'] = df60['location'].apply(lambda x: re.findall(\"[A-Za-z0-9]*\", str(x)))\n",
    "df60['location'] = df60['location'].apply(lambda x: ' '.join([i for i in x if len(i.strip()) != 0]) )\n",
    "\n",
    "for i in range(0, len(df60['location'])):\n",
    "    ex_text = df60['location'][i]\n",
    "    \n",
    "    stop_words = stopwords.words('english') #removing stopwords\n",
    "    word_tokens = word_tokenize(ex_text)   #spliting them into a list\n",
    "    \n",
    "    filtered_text = [x for x in word_tokens if not x.lower() in stop_words]\n",
    "    df60['location'][i] = filtered_text\n",
    "    \n",
    "    \n",
    "df601 = df60[df60['fraudulent'] == 1]['location'].reset_index().drop(labels='index', axis=1)\n",
    "\n",
    "matching_max_dic = {}\n",
    "\n",
    "for lst in df601['location']:\n",
    "    for ele in lst:\n",
    "        if ele in matching_max_dic:\n",
    "            matching_max_dic[ele] += 1\n",
    "        else:\n",
    "            matching_max_dic[ele] = 1\n",
    "            \n",
    "key_location = {k:v for (k,v) in matching_max_dic.items()}"
   ]
  },
  {
   "cell_type": "code",
   "execution_count": 59,
   "id": "94247db4",
   "metadata": {},
   "outputs": [],
   "source": [
    "df601 = df60[df60['fraudulent'] == 0]['location'].reset_index().drop(labels='index', axis=1)\n",
    "\n",
    "matching_max_dic = {}\n",
    "\n",
    "for lst in df601['location']:\n",
    "    for ele in lst:\n",
    "        if ele in matching_max_dic:\n",
    "            matching_max_dic[ele] += 1\n",
    "        else:\n",
    "            matching_max_dic[ele] = 1\n",
    "            \n",
    "Nonkey_location = {k:v for (k,v) in matching_max_dic.items() if v > 100}"
   ]
  },
  {
   "cell_type": "code",
   "execution_count": 60,
   "id": "a7a4b373",
   "metadata": {},
   "outputs": [
    {
     "data": {
      "text/plain": [
       "<Axes: title={'center': 'country for Non fraud'}, xlabel='country', ylabel='count'>"
      ]
     },
     "execution_count": 60,
     "metadata": {},
     "output_type": "execute_result"
    },
    {
     "data": {
      "image/png": "[encoded data removed]",
      "text/plain": [
       "<Figure size 1500x500 with 1 Axes>"
      ]
     },
     "metadata": {},
     "output_type": "display_data"
    },
    {
     "data": {
      "image/png": "[encoded data removed]",
      "text/plain": [
       "<Figure size 1500x500 with 1 Axes>"
      ]
     },
     "metadata": {},
     "output_type": "display_data"
    }
   ],
   "source": [
    "df_x = df0[df0['fraudulent'] == 1][['location']]\n",
    "x = df_x['location'].str.split(',', expand= True)\n",
    "df_x['country'] = x[0]\n",
    "df_x1 = df_x[['country']].groupby(by='country').agg({'country': 'count'}).rename(columns={'country' : 'count'}).reset_index().sort_values(by='count', ascending=False)\n",
    "df_x1 = df_x1[:20]\n",
    "plt.figure(figsize=(15, 5))\n",
    "plt.subplot(2, 1,1)\n",
    "plt.title('country for fraud')\n",
    "plt.xticks(rotation=90)\n",
    "sns.barplot(x =df_x1['country'],y = df_x1['count'])\n",
    "\n",
    "df_x = df0[df0['fraudulent'] == 0][['location']]\n",
    "x = df_x['location'].str.split(',', expand= True)\n",
    "df_x['country'] = x[0]\n",
    "df_x1 = df_x[['country']].groupby(by='country').agg({'country': 'count'}).rename(columns={'country' : 'count'}).reset_index().sort_values(by='count', ascending=False)\n",
    "df_x1 = df_x1[:20]\n",
    "plt.figure(figsize=(15,5))\n",
    "plt.subplot(2, 1,2)\n",
    "plt.title('country for Non fraud')\n",
    "plt.xticks(rotation=90)\n",
    "sns.barplot(x =df_x1['country'],y = df_x1['count'])\n"
   ]
  },
  {
   "cell_type": "code",
   "execution_count": 61,
   "id": "03622478",
   "metadata": {},
   "outputs": [
    {
     "data": {
      "text/plain": [
       "<Axes: title={'center': 'captial for Non fraud'}, xlabel='captial', ylabel='count'>"
      ]
     },
     "execution_count": 61,
     "metadata": {},
     "output_type": "execute_result"
    },
    {
     "data": {
      "image/png": "[encoded data removed]",
      "text/plain": [
       "<Figure size 1500x500 with 1 Axes>"
      ]
     },
     "metadata": {},
     "output_type": "display_data"
    },
    {
     "data": {
      "image/png": "[encoded data removed]",
      "text/plain": [
       "<Figure size 1500x500 with 1 Axes>"
      ]
     },
     "metadata": {},
     "output_type": "display_data"
    }
   ],
   "source": [
    "df_x = df0[df0['fraudulent'] == 1][['location']]\n",
    "x = df_x['location'].str.split(',', expand= True)\n",
    "df_x['captial'] = x[2]\n",
    "df_x1 = df_x[['captial']].groupby(by='captial').agg({'captial': 'count'}).rename(columns={'captial' : 'count'}).reset_index().sort_values(by='count', ascending=False)\n",
    "df_x1 = df_x1[:20]\n",
    "plt.figure(figsize=(15,5))\n",
    "plt.subplot(2, 1,1)\n",
    "plt.title('captial for fraud')\n",
    "plt.xticks(rotation=90)\n",
    "sns.barplot(x =df_x1['captial'],y = df_x1['count'])\n",
    "\n",
    "df_x = df0[df0['fraudulent'] == 0][['location']]\n",
    "x = df_x['location'].str.split(',', expand= True)\n",
    "df_x['captial'] = x[2]\n",
    "df_x1 = df_x[['captial']].groupby(by='captial').agg({'captial': 'count'}).rename(columns={'captial' : 'count'}).reset_index().sort_values(by='count', ascending=False)\n",
    "df_x1 = df_x1[:20]\n",
    "plt.figure(figsize=(15,5))\n",
    "plt.subplot(2, 1,2)\n",
    "plt.title('captial for Non fraud')\n",
    "plt.xticks(rotation=90)\n",
    "sns.barplot(x =df_x1['captial'],y = df_x1['count'])"
   ]
  },
  {
   "cell_type": "markdown",
   "id": "4242fd18",
   "metadata": {},
   "source": [
    "#### F. For <u>department</u>"
   ]
  },
  {
   "cell_type": "code",
   "execution_count": 62,
   "id": "de779b1e",
   "metadata": {},
   "outputs": [
    {
     "data": {
      "text/plain": [
       "unknown_department        4903\n",
       "Sales                     1295\n",
       "Information Technology    1158\n",
       "Engineering               1080\n",
       "Customer Service           990\n",
       "                          ... \n",
       "Program                      1\n",
       "UX/API                       1\n",
       "H3rt                         1\n",
       "U-Verse                      1\n",
       "Hospitality                  1\n",
       "Name: department, Length: 1349, dtype: int64"
      ]
     },
     "execution_count": 62,
     "metadata": {},
     "output_type": "execute_result"
    }
   ],
   "source": [
    "df70 = df0[['department', 'fraudulent']]\n",
    "df70['department'].value_counts() # keep this verifiying that the url is sometimes not starting with https but always has URL_ in it"
   ]
  },
  {
   "cell_type": "code",
   "execution_count": 63,
   "id": "d0265517",
   "metadata": {},
   "outputs": [],
   "source": [
    "df70['department'] = df70['department'].apply(lambda x: re.findall(\"[-A-Za-z0-9_/]*\", str(x)))\n",
    "df70['department'] = df70['department'].apply(lambda x: ' '.join([i for i in x if len(i.strip()) != 0]) )\n",
    "\n",
    "for i in range(0, len(df70['department'])):\n",
    "    ex_text = df70['department'][i]\n",
    "    \n",
    "    stop_words = stopwords.words('english') #removing stopwords\n",
    "    word_tokens = word_tokenize(ex_text)   #spliting them into a list\n",
    "    \n",
    "    filtered_text = [wnl.lemmatize(x) for x in word_tokens if not x.lower() in stop_words]\n",
    "    df70['department'][i] = filtered_text\n",
    "    \n",
    "    \n",
    "df701 = df70[df70['fraudulent'] == 1]['department'].reset_index().drop(labels='index', axis=1)\n",
    "\n",
    "matching_max_dic = {}\n",
    "\n",
    "for lst in df701['department']:\n",
    "    for ele in lst:\n",
    "        if ele in matching_max_dic:\n",
    "            matching_max_dic[ele] += 1\n",
    "        else:\n",
    "            matching_max_dic[ele] = 1\n",
    "            \n",
    "key_department = {k:v for (k,v) in matching_max_dic.items()}"
   ]
  },
  {
   "cell_type": "code",
   "execution_count": 64,
   "id": "e3150766",
   "metadata": {},
   "outputs": [],
   "source": [
    "df702 = df70[df70['fraudulent'] == 0]['department'].reset_index().drop(labels='index', axis=1)\n",
    "\n",
    "matching_max_dic = {}\n",
    "\n",
    "for lst in df702['department']:\n",
    "    for ele in lst:\n",
    "        if ele in matching_max_dic:\n",
    "            matching_max_dic[ele] += 1\n",
    "        else:\n",
    "            matching_max_dic[ele] = 1\n",
    "            \n",
    "Nonkey_department = {k:v for (k,v) in matching_max_dic.items() if v > 10}"
   ]
  },
  {
   "cell_type": "markdown",
   "id": "4229280d",
   "metadata": {},
   "source": [
    "#### G. For <u>salary_range</u>"
   ]
  },
  {
   "cell_type": "code",
   "execution_count": 65,
   "id": "bf758b66",
   "metadata": {},
   "outputs": [
    {
     "data": {
      "text/plain": [
       "unknown_salary    6023\n",
       "17500             5195\n",
       "2500              3292\n",
       "0                 3268\n",
       "5000                42\n",
       "12500               22\n",
       "15000               18\n",
       "7500                17\n",
       "10000                3\n",
       "Name: salary_range, dtype: int64"
      ]
     },
     "execution_count": 65,
     "metadata": {},
     "output_type": "execute_result"
    }
   ],
   "source": [
    "df80 = df0[['salary_range', 'fraudulent']]\n",
    "df80['salary_range'].value_counts() # keep this verifiying that the url is sometimes not starting with https but always has URL_ in it"
   ]
  },
  {
   "cell_type": "code",
   "execution_count": 66,
   "id": "e4988edb",
   "metadata": {},
   "outputs": [
    {
     "data": {
      "text/plain": [
       "{17500: 294,\n",
       " 'unknown_salary': 338,\n",
       " 0: 102,\n",
       " 2500: 118,\n",
       " 5000: 9,\n",
       " 7500: 4,\n",
       " 12500: 1}"
      ]
     },
     "execution_count": 66,
     "metadata": {},
     "output_type": "execute_result"
    }
   ],
   "source": [
    "df801 = df80[df80['fraudulent'] == 1]['salary_range'].reset_index().drop(labels='index', axis=1)\n",
    "\n",
    "matching_max_dic = {}\n",
    "\n",
    "for ele in df801['salary_range']:\n",
    "    if ele in matching_max_dic:\n",
    "        matching_max_dic[ele] += 1\n",
    "    else:\n",
    "        matching_max_dic[ele] = 1\n",
    "            \n",
    "key_salary_range = {k:v for (k,v) in matching_max_dic.items() }\n",
    "key_salary_range"
   ]
  },
  {
   "cell_type": "code",
   "execution_count": 67,
   "id": "e9f231f8",
   "metadata": {},
   "outputs": [
    {
     "data": {
      "text/plain": [
       "{2500: 3174,\n",
       " 0: 3166,\n",
       " 'unknown_salary': 5685,\n",
       " 17500: 4901,\n",
       " 15000: 18,\n",
       " 12500: 21,\n",
       " 7500: 13,\n",
       " 10000: 3,\n",
       " 5000: 33}"
      ]
     },
     "execution_count": 67,
     "metadata": {},
     "output_type": "execute_result"
    }
   ],
   "source": [
    "df802 = df80[df80['fraudulent'] == 0]['salary_range'].reset_index().drop(labels='index', axis=1)\n",
    "\n",
    "matching_max_dic = {}\n",
    "\n",
    "for ele in df802['salary_range']:\n",
    "    if ele in matching_max_dic:\n",
    "        matching_max_dic[ele] += 1\n",
    "    else:\n",
    "        matching_max_dic[ele] = 1\n",
    "            \n",
    "Nonkey_salary_range = {k:v for (k,v) in matching_max_dic.items()}\n",
    "Nonkey_salary_range"
   ]
  },
  {
   "cell_type": "code",
   "execution_count": 68,
   "id": "89824da4",
   "metadata": {},
   "outputs": [
    {
     "data": {
      "text/plain": [
       "<Axes: title={'center': 'salary_range for Non fraud'}>"
      ]
     },
     "execution_count": 68,
     "metadata": {},
     "output_type": "execute_result"
    },
    {
     "data": {
      "image/png": "[encoded data removed]",
      "text/plain": [
       "<Figure size 1200x400 with 2 Axes>"
      ]
     },
     "metadata": {},
     "output_type": "display_data"
    }
   ],
   "source": [
    "plt.figure(figsize=(12,4))\n",
    "plt.subplot(1, 2,1)\n",
    "plt.title('salary_range for fraud')\n",
    "sns.barplot(pd.DataFrame(key_salary_range, index=[x for x in range (0,len(key_salary_range))]))\n",
    "plt.xticks(rotation=-45)\n",
    "\n",
    "plt.subplot(1, 2, 2)\n",
    "plt.title('salary_range for Non fraud')\n",
    "plt.xticks(rotation=-45)\n",
    "sns.barplot(pd.DataFrame(Nonkey_salary_range, index=[x for x in range(0,len(Nonkey_salary_range))]))"
   ]
  },
  {
   "cell_type": "markdown",
   "id": "a79dce14",
   "metadata": {},
   "source": [
    "#### H. For <u>benifits</u>"
   ]
  },
  {
   "cell_type": "code",
   "execution_count": 69,
   "id": "59b0562e",
   "metadata": {},
   "outputs": [],
   "source": [
    "df0['benefits'] = df0['benefits'].apply(lambda x : 'unknown_benefits' if x == '0    1\\nName: benefits, dtype: int64' else x)"
   ]
  },
  {
   "cell_type": "code",
   "execution_count": 70,
   "id": "fe091750",
   "metadata": {},
   "outputs": [
    {
     "data": {
      "text/plain": [
       "unknown_benefits                                                                                                                                                                                                                                                                                                                                                                                                                                                                                                                                                                            7210\n",
       "See job description                                                                                                                                                                                                                                                                                                                                                                                                                                                                                                                                                                          726\n",
       "Career prospects.                                                                                                                                                                                                                                                                                                                                                                                                                                                                                                                                                                            158\n",
       "CSD offers a competitive benefits package for full-time employees. For a full list of benefits and perks, please visit the career page.Communication Service for the Deaf, Inc. is an Equal Opportunity Affirmative Action Employer and drug free and tobacco free workplace. All qualified applicants will receive consideration for employment without regard to race, color, religion, sex, or national origin, including individuals with a disability and protected veterans.                                                                                                            70\n",
       "Our company offers a competitive salary plus BONUSES as well as a comprehensive benefits package to our full-time employees including:40 vacation hours after 6 months of employment, 80 vacation hours after 1 year of employment6 paid holidays as well as an anniversary holiday benefitPaid personal and sick leave after 90 days of employmentHealth, dental, life, and disability insurance as well as AFLAC supplemental insuranceA 401K plan with a company match after six months of employment, however, we have quarterly enrollment periods.                                      60\n",
       "                                                                                                                                                                                                                                                                                                                                                                                                                                                                                                                                                                                            ... \n",
       "Salary:Based on Qualifications and Experience                                                                                                                                                                                                                                                                                                                                                                                                                                                                                                                                                  1\n",
       "Novation offers an empowered work environment that encourages creativity, initiative and professional growth and provides a competitive salary and benefits package. Novation is an Equal Employment Opportunity/Affirmative Action Employer and maintains a Drug-Free Workplace. We are fully committed to employing a diverse workforce and creating an inclusive work environment that embraces everyone’s unique contributions, experiences and values. Please apply on our website for consideration.                                                                                     1\n",
       "Benefits • Competitive salary • Vehicle allowance • Mobile phone and Laptop • Uncapped commission • Career development opportunities All successful candidates will be required to complete a Ministry of Justice criminal record check and drug screen. If you can provide innovative solutions which meet the needs for this business and have a track record of establishing relationships at all levels with proven sales history. I want to hear from you. Immediate start. Please submit your application in strict confidence                                                           1\n",
       "This is an opportunity to work with one of the most exciting high tech companies globally that is turning science fiction into an accessible technology. We hire the best in the wireless power technology field globally. If you are someone highly motivated in developing your career in the power electronics industry and wish to become a subject matter expert in this field, this is a great opportunity for you to advance your career. Only overseas applicants with experience from relevant sectors (Induction Power, Wireless Power, Power Electronics) will be considered.       1\n",
       "Competitive salary (compensation will be based on experience) Casual attire At Nemsia Studios you are assured of a pleasant, enthusiastic, fast paced work environment with a lot of great people who love what they do!                                                                                                                                                                                                                                                                                                                                                                       1\n",
       "Name: benefits, Length: 6206, dtype: int64"
      ]
     },
     "execution_count": 70,
     "metadata": {},
     "output_type": "execute_result"
    }
   ],
   "source": [
    "df90 = df0[['benefits', 'fraudulent']]\n",
    "df90['benefits'].value_counts() # keep this verifiying that the url is sometimes not starting with https but always has URL_ in it"
   ]
  },
  {
   "cell_type": "code",
   "execution_count": 71,
   "id": "5037320b",
   "metadata": {},
   "outputs": [],
   "source": [
    "df90['benefits'] = df90['benefits'].apply(lambda x: re.findall(\"[-A-Za-z0-9_/]*\", str(x)))\n",
    "df90['benefits'] = df90['benefits'].apply(lambda x: ' '.join([i for i in x if len(i.strip()) != 0]) )\n",
    "\n",
    "df90['benefits'] = df90['benefits'].apply(lambda x: re.sub('URL_[a-zA-z0-9]*', 'INVALID_URL', str(x))  )\n",
    "df90['benefits'] = df90['benefits'].apply(lambda x: re.sub('EMAIL_[a-zA-z0-9]*', 'INVALID_EMAIL', x)  )\n",
    "df90['benefits'] = df90['benefits'].apply(lambda x: re.sub('PHONE_[a-zA-z0-9]*', 'INVALID_PHONE', x)  )\n",
    "\n",
    "\n",
    "for i in range(0, len(df90['benefits'])):\n",
    "    ex_text = df90['benefits'][i]\n",
    "    \n",
    "    stop_words = stopwords.words('english') #removing stopwords\n",
    "    word_tokens = word_tokenize(ex_text)   #spliting them into a list\n",
    "    \n",
    "    filtered_text = [wnl.lemmatize(x) for x in word_tokens if not x.lower() in stop_words]\n",
    "    df90['benefits'][i] = filtered_text\n",
    "    \n",
    "    \n",
    "df901 = df90[df90['fraudulent'] == 1]['benefits'].reset_index().drop(labels='index', axis=1)\n",
    "\n",
    "matching_max_dic = {}\n",
    "\n",
    "for lst in df901['benefits']:\n",
    "    for ele in lst:\n",
    "        if ele in matching_max_dic:\n",
    "            matching_max_dic[ele] += 1\n",
    "        else:\n",
    "            matching_max_dic[ele] = 1\n",
    "            \n",
    "key_benefits = {k:v for (k,v) in matching_max_dic.items()}"
   ]
  },
  {
   "cell_type": "code",
   "execution_count": 72,
   "id": "6d99faf9",
   "metadata": {},
   "outputs": [],
   "source": [
    "df902 = df90[df90['fraudulent'] == 1]['benefits'].reset_index().drop(labels='index', axis=1)\n",
    "\n",
    "matching_max_dic = {}\n",
    "\n",
    "for lst in df902['benefits']:\n",
    "    for ele in lst:\n",
    "        if ele in matching_max_dic:\n",
    "            matching_max_dic[ele] += 1\n",
    "        else:\n",
    "            matching_max_dic[ele] = 1\n",
    "            \n",
    "Nonkey_benefits = {k:v for (k,v) in matching_max_dic.items() if v > 10}"
   ]
  },
  {
   "cell_type": "markdown",
   "id": "ba9bee77",
   "metadata": {},
   "source": [
    "#### I. For <u>employment_type</u>"
   ]
  },
  {
   "cell_type": "code",
   "execution_count": 73,
   "id": "dc44b195",
   "metadata": {},
   "outputs": [
    {
     "data": {
      "text/plain": [
       "Full-time                  11864\n",
       "unknown_employment_type     3227\n",
       "Contract                    1524\n",
       "Part-time                    797\n",
       "Temporary                    241\n",
       "Other                        227\n",
       "Name: employment_type, dtype: int64"
      ]
     },
     "execution_count": 73,
     "metadata": {},
     "output_type": "execute_result"
    }
   ],
   "source": [
    "df91 = df0[['employment_type', 'fraudulent']]\n",
    "df91['employment_type'].value_counts() # keep this verifiying that the url is sometimes not starting with https but always has URL_ in it"
   ]
  },
  {
   "cell_type": "code",
   "execution_count": 74,
   "id": "f5a7f127",
   "metadata": {},
   "outputs": [
    {
     "data": {
      "text/plain": [
       "{'Full-time': 511,\n",
       " 'unknown_employment_type': 220,\n",
       " 'Contract': 44,\n",
       " 'Other': 15,\n",
       " 'Part-time': 74,\n",
       " 'Temporary': 2}"
      ]
     },
     "execution_count": 74,
     "metadata": {},
     "output_type": "execute_result"
    }
   ],
   "source": [
    "df911 = df91[df91['fraudulent'] == 1]['employment_type'].reset_index().drop(labels='index', axis=1)\n",
    "\n",
    "matching_max_dic = {}\n",
    "\n",
    "for ele in df911['employment_type']:\n",
    "    if ele in matching_max_dic:\n",
    "        matching_max_dic[ele] += 1\n",
    "    else:\n",
    "        matching_max_dic[ele] = 1\n",
    "            \n",
    "key_employee_type = {k:v for (k,v) in matching_max_dic.items()}\n",
    "key_employee_type"
   ]
  },
  {
   "cell_type": "code",
   "execution_count": 75,
   "id": "599f1559",
   "metadata": {},
   "outputs": [
    {
     "data": {
      "text/plain": [
       "{'Other': 212,\n",
       " 'Full-time': 11353,\n",
       " 'unknown_employment_type': 3007,\n",
       " 'Part-time': 723,\n",
       " 'Contract': 1480,\n",
       " 'Temporary': 239}"
      ]
     },
     "execution_count": 75,
     "metadata": {},
     "output_type": "execute_result"
    }
   ],
   "source": [
    "df912 = df91[df91['fraudulent'] == 0]['employment_type'].reset_index().drop(labels='index', axis=1)\n",
    "\n",
    "matching_max_dic = {}\n",
    "\n",
    "for ele in df912['employment_type']:\n",
    "    if ele in matching_max_dic:\n",
    "        matching_max_dic[ele] += 1\n",
    "    else:\n",
    "        matching_max_dic[ele] = 1\n",
    "            \n",
    "Nonkey_employee_type = {k:v for (k,v) in matching_max_dic.items()}\n",
    "Nonkey_employee_type"
   ]
  },
  {
   "cell_type": "code",
   "execution_count": 76,
   "id": "6a901873",
   "metadata": {},
   "outputs": [
    {
     "data": {
      "text/plain": [
       "<Axes: title={'center': 'Nonkey_employee_type for Non fraud'}>"
      ]
     },
     "execution_count": 76,
     "metadata": {},
     "output_type": "execute_result"
    },
    {
     "data": {
      "image/png": "[encoded data removed]",
      "text/plain": [
       "<Figure size 1200x400 with 2 Axes>"
      ]
     },
     "metadata": {},
     "output_type": "display_data"
    }
   ],
   "source": [
    "plt.figure(figsize=(12,4))\n",
    "plt.subplot(1, 2,1)\n",
    "plt.title('key_employee_type for fraud')\n",
    "sns.barplot(pd.DataFrame(key_employee_type, index=[x for x in range (0,len(key_employee_type))]))\n",
    "plt.xticks(rotation=45)\n",
    "\n",
    "plt.subplot(1, 2, 2)\n",
    "plt.title('Nonkey_employee_type for Non fraud')\n",
    "plt.xticks(rotation=45)\n",
    "sns.barplot(pd.DataFrame(Nonkey_employee_type, index=[x for x in range(0,len(Nonkey_employee_type))]))"
   ]
  },
  {
   "cell_type": "markdown",
   "id": "b07a2a47",
   "metadata": {},
   "source": [
    "#### J. For <u>required_experiences</u>"
   ]
  },
  {
   "cell_type": "code",
   "execution_count": 77,
   "id": "cec07f07",
   "metadata": {},
   "outputs": [],
   "source": [
    "df92 = df0[['required_experience', 'fraudulent']]"
   ]
  },
  {
   "cell_type": "code",
   "execution_count": 78,
   "id": "bf65f66c",
   "metadata": {},
   "outputs": [
    {
     "data": {
      "text/plain": [
       "{'Mid-Senior level': 271,\n",
       " 'unknown_required_experience': 219,\n",
       " 'Associate': 42,\n",
       " 'Entry level': 234,\n",
       " 'Executive': 10,\n",
       " 'Internship': 11,\n",
       " 'Director': 17,\n",
       " 'Not Applicable': 62}"
      ]
     },
     "execution_count": 78,
     "metadata": {},
     "output_type": "execute_result"
    }
   ],
   "source": [
    "df921 = df92[df92['fraudulent'] == 1]['required_experience'].reset_index().drop(labels='index', axis=1)\n",
    "\n",
    "matching_max_dic = {}\n",
    "\n",
    "for ele in df921['required_experience']:\n",
    "    if ele in matching_max_dic:\n",
    "        matching_max_dic[ele] += 1\n",
    "    else:\n",
    "        matching_max_dic[ele] = 1\n",
    "            \n",
    "key_required_experience = {k:v for (k,v) in matching_max_dic.items()}\n",
    "key_required_experience"
   ]
  },
  {
   "cell_type": "code",
   "execution_count": 79,
   "id": "7ef7be3a",
   "metadata": {},
   "outputs": [
    {
     "data": {
      "text/plain": [
       "{'Internship': 430,\n",
       " 'Not Applicable': 1069,\n",
       " 'unknown_required_experience': 2952,\n",
       " 'Mid-Senior level': 7003,\n",
       " 'Associate': 2336,\n",
       " 'Entry level': 2721,\n",
       " 'Executive': 131,\n",
       " 'Director': 372}"
      ]
     },
     "execution_count": 79,
     "metadata": {},
     "output_type": "execute_result"
    }
   ],
   "source": [
    "df922 = df92[df92['fraudulent'] == 0]['required_experience'].reset_index().drop(labels='index', axis=1)\n",
    "\n",
    "matching_max_dic = {}\n",
    "\n",
    "for ele in df922['required_experience']:\n",
    "    if ele in matching_max_dic:\n",
    "        matching_max_dic[ele] += 1\n",
    "    else:\n",
    "        matching_max_dic[ele] = 1\n",
    "            \n",
    "Nonkey_required_experience = {k:v for (k,v) in matching_max_dic.items() }\n",
    "Nonkey_required_experience"
   ]
  },
  {
   "cell_type": "code",
   "execution_count": 80,
   "id": "5eedb1d2",
   "metadata": {},
   "outputs": [
    {
     "data": {
      "text/plain": [
       "<Axes: title={'center': 'Nonkey_required_experience for Non fraud'}>"
      ]
     },
     "execution_count": 80,
     "metadata": {},
     "output_type": "execute_result"
    },
    {
     "data": {
      "image/png": "[encoded data removed]",
      "text/plain": [
       "<Figure size 1200x400 with 2 Axes>"
      ]
     },
     "metadata": {},
     "output_type": "display_data"
    }
   ],
   "source": [
    "plt.figure(figsize=(12,4))\n",
    "plt.subplot(1, 2,1)\n",
    "plt.title('key_required_experience for fraud')\n",
    "sns.barplot(pd.DataFrame(key_required_experience, index=[x for x in range (0,len(key_required_experience))]))\n",
    "plt.xticks(rotation=90)\n",
    "\n",
    "plt.subplot(1, 2, 2)\n",
    "plt.title('Nonkey_required_experience for Non fraud')\n",
    "plt.xticks(rotation=90)\n",
    "sns.barplot(pd.DataFrame(Nonkey_required_experience, index=[x for x in range(0,len(Nonkey_required_experience))]))"
   ]
  },
  {
   "cell_type": "markdown",
   "id": "c577580d",
   "metadata": {},
   "source": [
    "#### K. For <u>required_education</u>"
   ]
  },
  {
   "cell_type": "code",
   "execution_count": 81,
   "id": "b33f0ec3",
   "metadata": {},
   "outputs": [
    {
     "data": {
      "text/plain": [
       "{'High School or equivalent': 218,\n",
       " 'unknown_required_education': 220,\n",
       " 'Certification': 19,\n",
       " \"Bachelor's Degree\": 283,\n",
       " 'Unspecified': 61,\n",
       " \"Master's Degree\": 31,\n",
       " 'Professional': 4,\n",
       " 'Associate Degree': 6,\n",
       " 'Some College Coursework Completed': 3,\n",
       " 'Some High School Coursework': 20,\n",
       " 'Doctorate': 1}"
      ]
     },
     "execution_count": 81,
     "metadata": {},
     "output_type": "execute_result"
    }
   ],
   "source": [
    "df93 = df0[['required_education', 'fraudulent']]\n",
    "\n",
    "df931 = df93[df93['fraudulent'] == 1]['required_education'].reset_index().drop(labels='index', axis=1)\n",
    "\n",
    "matching_max_dic = {}\n",
    "\n",
    "for ele in df931['required_education']:\n",
    "    if ele in matching_max_dic:\n",
    "        matching_max_dic[ele] += 1\n",
    "    else:\n",
    "        matching_max_dic[ele] = 1\n",
    "            \n",
    "key_required_education = {k:v for (k,v) in matching_max_dic.items()}\n",
    "key_required_education"
   ]
  },
  {
   "cell_type": "code",
   "execution_count": 82,
   "id": "1748713d",
   "metadata": {},
   "outputs": [
    {
     "data": {
      "text/plain": [
       "{\"Bachelor's Degree\": 9393,\n",
       " 'unknown_required_education': 3007,\n",
       " \"Master's Degree\": 385,\n",
       " 'High School or equivalent': 2122,\n",
       " 'Unspecified': 1423,\n",
       " 'Some College Coursework Completed': 99,\n",
       " 'Vocational': 49,\n",
       " 'Certification': 151,\n",
       " 'Associate Degree': 268,\n",
       " 'Professional': 70,\n",
       " 'Doctorate': 25,\n",
       " 'Some High School Coursework': 7,\n",
       " 'Vocational - Degree': 6,\n",
       " 'Vocational - HS Diploma': 9}"
      ]
     },
     "execution_count": 82,
     "metadata": {},
     "output_type": "execute_result"
    }
   ],
   "source": [
    "df932 = df93[df93['fraudulent'] == 0]['required_education'].reset_index().drop(labels='index', axis=1)\n",
    "\n",
    "matching_max_dic = {}\n",
    "\n",
    "for ele in df932['required_education']:\n",
    "    if ele in matching_max_dic:\n",
    "        matching_max_dic[ele] += 1\n",
    "    else:\n",
    "        matching_max_dic[ele] = 1\n",
    "            \n",
    "Nonkey_required_education = {k:v for (k,v) in matching_max_dic.items()}\n",
    "Nonkey_required_education"
   ]
  },
  {
   "cell_type": "code",
   "execution_count": 83,
   "id": "557f57cf",
   "metadata": {},
   "outputs": [
    {
     "data": {
      "text/plain": [
       "<Axes: title={'center': 'Nonkey_required_education for Non fraud'}>"
      ]
     },
     "execution_count": 83,
     "metadata": {},
     "output_type": "execute_result"
    },
    {
     "data": {
      "image/png": "[encoded data removed]",
      "text/plain": [
       "<Figure size 1200x400 with 2 Axes>"
      ]
     },
     "metadata": {},
     "output_type": "display_data"
    }
   ],
   "source": [
    "plt.figure(figsize=(12,4))\n",
    "plt.subplot(1, 2,1)\n",
    "plt.title('key_required_education for fraud')\n",
    "sns.barplot(pd.DataFrame(key_required_education, index=[x for x in range (0,len(key_required_education))]))\n",
    "plt.xticks(rotation=90)\n",
    "\n",
    "plt.subplot(1, 2, 2)\n",
    "plt.title('Nonkey_required_education for Non fraud')\n",
    "plt.xticks(rotation=90)\n",
    "sns.barplot(pd.DataFrame(Nonkey_required_education, index=[x for x in range(0,len(Nonkey_required_education))]))"
   ]
  },
  {
   "cell_type": "markdown",
   "id": "8fe74f7c",
   "metadata": {},
   "source": [
    "#### L. For <u>Industory</u>"
   ]
  },
  {
   "cell_type": "code",
   "execution_count": 84,
   "id": "be99bb61",
   "metadata": {},
   "outputs": [
    {
     "data": {
      "text/plain": [
       "unknown_industry                       4903\n",
       "Information Technology and Services    1734\n",
       "Computer Software                      1376\n",
       "Internet                               1062\n",
       "Marketing and Advertising               828\n",
       "                                       ... \n",
       "Shipbuilding                              1\n",
       "Sporting Goods                            1\n",
       "Museums and Institutions                  1\n",
       "Wine and Spirits                          1\n",
       "Ranching                                  1\n",
       "Name: industry, Length: 132, dtype: int64"
      ]
     },
     "execution_count": 84,
     "metadata": {},
     "output_type": "execute_result"
    }
   ],
   "source": [
    "df94 = df0[['industry', 'fraudulent']]\n",
    "df94['industry'].value_counts() # keep this verifiying that the url is sometimes not starting with https but always has URL_ in it"
   ]
  },
  {
   "cell_type": "code",
   "execution_count": 85,
   "id": "a7927be4",
   "metadata": {},
   "outputs": [],
   "source": [
    "df941 = df94[df94['fraudulent'] == 1]['industry'].reset_index().drop(labels='index', axis=1)\n",
    "\n",
    "matching_max_dic = {}\n",
    "\n",
    "for ele in df941['industry']:\n",
    "    if ele in matching_max_dic:\n",
    "        matching_max_dic[ele] += 1\n",
    "    else:\n",
    "        matching_max_dic[ele] = 1\n",
    "            \n",
    "key_industry = {k:v for (k,v) in matching_max_dic.items() }"
   ]
  },
  {
   "cell_type": "code",
   "execution_count": 86,
   "id": "8c914d14",
   "metadata": {},
   "outputs": [],
   "source": [
    "df942 = df94[df94['fraudulent'] == 0]['industry'].reset_index().drop(labels='index', axis=1)\n",
    "\n",
    "matching_max_dic = {}\n",
    "\n",
    "for ele in df942['industry']:\n",
    "    if ele in matching_max_dic:\n",
    "        matching_max_dic[ele] += 1\n",
    "    else:\n",
    "        matching_max_dic[ele] = 1\n",
    "            \n",
    "Nonkey_industry = {k:v for (k,v) in matching_max_dic.items() }"
   ]
  },
  {
   "cell_type": "markdown",
   "id": "09ac40f5",
   "metadata": {},
   "source": [
    "#### M. For <u>function</u>"
   ]
  },
  {
   "cell_type": "code",
   "execution_count": 87,
   "id": "dd3f5870",
   "metadata": {},
   "outputs": [
    {
     "data": {
      "text/plain": [
       "unknown_function          4903\n",
       "Information Technology    1766\n",
       "Sales                     1531\n",
       "Engineering               1371\n",
       "Customer Service          1239\n",
       "                          ... \n",
       "Marketing Intern             1\n",
       "migrations                   1\n",
       "Holiday Inn & Suites         1\n",
       "Transport                    1\n",
       "Hospitality                  1\n",
       "Name: function, Length: 599, dtype: int64"
      ]
     },
     "execution_count": 87,
     "metadata": {},
     "output_type": "execute_result"
    }
   ],
   "source": [
    "df95 = df0[['function', 'fraudulent']]\n",
    "df95['function'].value_counts() # keep this verifiying that the url is sometimes not starting with https but always has URL_ in it"
   ]
  },
  {
   "cell_type": "code",
   "execution_count": 88,
   "id": "aa85d114",
   "metadata": {},
   "outputs": [],
   "source": [
    "df951 = df95[df95['fraudulent'] == 1]['function'].reset_index().drop(labels='index', axis=1)\n",
    "\n",
    "matching_max_dic = {}\n",
    "\n",
    "for ele in df951['function']:\n",
    "    if ele in matching_max_dic:\n",
    "        matching_max_dic[ele] += 1\n",
    "    else:\n",
    "        matching_max_dic[ele] = 1\n",
    "            \n",
    "key_function = {k:v for (k,v) in matching_max_dic.items() }"
   ]
  },
  {
   "cell_type": "code",
   "execution_count": 89,
   "id": "3cea724d",
   "metadata": {},
   "outputs": [],
   "source": [
    "df952 = df95[df95['fraudulent'] == 0]['function'].reset_index().drop(labels='index', axis=1)\n",
    "\n",
    "matching_max_dic = {}\n",
    "\n",
    "for ele in df952['function']:\n",
    "    if ele in matching_max_dic:\n",
    "        matching_max_dic[ele] += 1\n",
    "    else:\n",
    "        matching_max_dic[ele] = 1\n",
    "            \n",
    "Nonkey_function = {k:v for (k,v) in matching_max_dic.items() }"
   ]
  },
  {
   "cell_type": "markdown",
   "id": "a1cbf93f",
   "metadata": {},
   "source": [
    "No me have found all the important keys that are very much responsible for fraud description and non fraud description according to their occurrences number of occurrences so that if those keywords aren't matching keywords from fraud description and keywords from non fraud description are not matching so we can deliberately say that if these keywords from are coming and then v can say that it is a fraud or non fraud description in the other case if those keywords are like overlapping each other like some common keywords that are present in both the cases then we can find their absolute probability vidya account and then give them a mass according to it if a keyword is present 50 then the density of that keyword will be 0.5 so likewise we will give all these densities to all the keywords and then will overlap each other and then find which are all key elements that are present in that test data and then according to this mass will valuate them and then find out the total mass of the test data that is given and then we will know that how much probability that this data is a fraud or non fraud\n"
   ]
  },
  {
   "cell_type": "markdown",
   "id": "ac5b9227",
   "metadata": {},
   "source": [
    "#### N. For <u>telecommuting</u>"
   ]
  },
  {
   "cell_type": "code",
   "execution_count": 90,
   "id": "d73138de",
   "metadata": {},
   "outputs": [
    {
     "data": {
      "text/plain": [
       "0    17113\n",
       "1      767\n",
       "Name: telecommuting, dtype: int64"
      ]
     },
     "execution_count": 90,
     "metadata": {},
     "output_type": "execute_result"
    }
   ],
   "source": [
    "df96 = df0[['telecommuting', 'fraudulent']]\n",
    "df96['telecommuting'].value_counts() # keep this verifiying that the url is sometimes not starting with https but always has URL_ in it"
   ]
  },
  {
   "cell_type": "code",
   "execution_count": 91,
   "id": "ebdf5bf9",
   "metadata": {},
   "outputs": [],
   "source": [
    "df961 = df96[df96['fraudulent'] == 1]['telecommuting'].reset_index().drop(labels='index', axis=1)\n",
    "\n",
    "matching_max_dic = {}\n",
    "\n",
    "for ele in df961['telecommuting']:\n",
    "    if ele in matching_max_dic:\n",
    "        matching_max_dic[ele] += 1\n",
    "    else:\n",
    "        matching_max_dic[ele] = 1\n",
    "            \n",
    "key_telecommuting = {k:v for (k,v) in matching_max_dic.items()}"
   ]
  },
  {
   "cell_type": "code",
   "execution_count": 92,
   "id": "83a08dd8",
   "metadata": {},
   "outputs": [
    {
     "data": {
      "text/plain": [
       "{0: 16311, 1: 703}"
      ]
     },
     "execution_count": 92,
     "metadata": {},
     "output_type": "execute_result"
    }
   ],
   "source": [
    "df962 = df96[df96['fraudulent'] == 0]['telecommuting'].reset_index().drop(labels='index', axis=1)\n",
    "\n",
    "matching_max_dic = {}\n",
    "\n",
    "for ele in df962['telecommuting']:\n",
    "    if ele in matching_max_dic:\n",
    "        matching_max_dic[ele] += 1\n",
    "    else:\n",
    "        matching_max_dic[ele] = 1\n",
    "            \n",
    "Nonkey_telecommuting = {k:v for (k,v) in matching_max_dic.items()}\n",
    "Nonkey_telecommuting"
   ]
  },
  {
   "cell_type": "code",
   "execution_count": 93,
   "id": "560c48f1",
   "metadata": {},
   "outputs": [
    {
     "data": {
      "text/plain": [
       "<Axes: title={'center': 'key_telecommuting for fraud vs nonfraud'}, xlabel='telecommuting', ylabel='count'>"
      ]
     },
     "execution_count": 93,
     "metadata": {},
     "output_type": "execute_result"
    },
    {
     "data": {
      "image/png": "[encoded data removed]",
      "text/plain": [
       "<Figure size 1000x500 with 1 Axes>"
      ]
     },
     "metadata": {},
     "output_type": "display_data"
    }
   ],
   "source": [
    "df_x = df0[['telecommuting', 'fraudulent']]\n",
    "df_x = df_x.groupby(by=['telecommuting', 'fraudulent']).agg({'fraudulent':'count'}).rename(columns={'fraudulent': 'count'}).reset_index()\n",
    "plt.figure(figsize=(10,5))\n",
    "plt.title('key_telecommuting for fraud vs nonfraud')\n",
    "sns.barplot(df_x, x ='telecommuting', y='count', hue='fraudulent')\n"
   ]
  },
  {
   "cell_type": "markdown",
   "id": "c135cdd0",
   "metadata": {},
   "source": [
    "#### O. For <u>has_company_logo</u>"
   ]
  },
  {
   "cell_type": "code",
   "execution_count": 94,
   "id": "52ab032b",
   "metadata": {},
   "outputs": [
    {
     "data": {
      "text/plain": [
       "1    14220\n",
       "0     3660\n",
       "Name: has_company_logo, dtype: int64"
      ]
     },
     "execution_count": 94,
     "metadata": {},
     "output_type": "execute_result"
    }
   ],
   "source": [
    "df97 = df0[['has_company_logo', 'fraudulent']]\n",
    "df97['has_company_logo'].value_counts() # keep this verifiying that the url is sometimes not starting with https but always has URL_ in it"
   ]
  },
  {
   "cell_type": "code",
   "execution_count": 95,
   "id": "57f0c7cb",
   "metadata": {},
   "outputs": [
    {
     "data": {
      "text/plain": [
       "{1: 283, 0: 583}"
      ]
     },
     "execution_count": 95,
     "metadata": {},
     "output_type": "execute_result"
    }
   ],
   "source": [
    "df971 = df97[df97['fraudulent'] == 1]['has_company_logo'].reset_index().drop(labels='index', axis=1)\n",
    "\n",
    "matching_max_dic = {}\n",
    "\n",
    "for ele in df971['has_company_logo']:\n",
    "    if ele in matching_max_dic:\n",
    "        matching_max_dic[ele] += 1\n",
    "    else:\n",
    "        matching_max_dic[ele] = 1\n",
    "            \n",
    "key_has_company_logo = {k:v for (k,v) in matching_max_dic.items()}\n",
    "key_has_company_logo"
   ]
  },
  {
   "cell_type": "code",
   "execution_count": 96,
   "id": "42334d7a",
   "metadata": {},
   "outputs": [
    {
     "data": {
      "text/plain": [
       "{1: 13937, 0: 3077}"
      ]
     },
     "execution_count": 96,
     "metadata": {},
     "output_type": "execute_result"
    }
   ],
   "source": [
    "df972 = df97[df97['fraudulent'] == 0]['has_company_logo'].reset_index().drop(labels='index', axis=1)\n",
    "\n",
    "matching_max_dic = {}\n",
    "\n",
    "for ele in df972['has_company_logo']:\n",
    "    if ele in matching_max_dic:\n",
    "        matching_max_dic[ele] += 1\n",
    "    else:\n",
    "        matching_max_dic[ele] = 1\n",
    "            \n",
    "Nonkey_has_company_logo = {k:v for (k,v) in matching_max_dic.items()}\n",
    "Nonkey_has_company_logo"
   ]
  },
  {
   "cell_type": "code",
   "execution_count": 97,
   "id": "43fa842b",
   "metadata": {},
   "outputs": [
    {
     "data": {
      "text/plain": [
       "<Axes: title={'center': 'has_company_logo for fraud vs nonfraud'}, xlabel='has_company_logo', ylabel='count'>"
      ]
     },
     "execution_count": 97,
     "metadata": {},
     "output_type": "execute_result"
    },
    {
     "data": {
      "image/png": "[encoded data removed]",
      "text/plain": [
       "<Figure size 1000x500 with 1 Axes>"
      ]
     },
     "metadata": {},
     "output_type": "display_data"
    }
   ],
   "source": [
    "df_x = df0[['has_company_logo', 'fraudulent']]\n",
    "df_x = df_x.groupby(by=['has_company_logo', 'fraudulent']).agg({'fraudulent':'count'}).rename(columns={'fraudulent': 'count'}).reset_index()\n",
    "plt.figure(figsize=(10,5))\n",
    "plt.title('has_company_logo for fraud vs nonfraud')\n",
    "sns.barplot(df_x, x ='has_company_logo', y='count', hue='fraudulent')"
   ]
  },
  {
   "cell_type": "markdown",
   "id": "29352a34",
   "metadata": {},
   "source": [
    "#### P. For <u>has_questions</u>"
   ]
  },
  {
   "cell_type": "code",
   "execution_count": 98,
   "id": "b0032858",
   "metadata": {},
   "outputs": [
    {
     "data": {
      "text/plain": [
       "0    9088\n",
       "1    8792\n",
       "Name: has_questions, dtype: int64"
      ]
     },
     "execution_count": 98,
     "metadata": {},
     "output_type": "execute_result"
    }
   ],
   "source": [
    "df98 = df0[['has_questions', 'fraudulent']]\n",
    "df98['has_questions'].value_counts() # keep this verifiying that the url is sometimes not starting with https but always has URL_ in it"
   ]
  },
  {
   "cell_type": "code",
   "execution_count": 99,
   "id": "9a85ed4e",
   "metadata": {},
   "outputs": [
    {
     "data": {
      "text/plain": [
       "{1: 250, 0: 616}"
      ]
     },
     "execution_count": 99,
     "metadata": {},
     "output_type": "execute_result"
    }
   ],
   "source": [
    "df981 = df98[df98['fraudulent'] == 1]['has_questions'].reset_index().drop(labels='index', axis=1)\n",
    "\n",
    "matching_max_dic = {}\n",
    "\n",
    "for ele in df981['has_questions']:\n",
    "    if ele in matching_max_dic:\n",
    "        matching_max_dic[ele] += 1\n",
    "    else:\n",
    "        matching_max_dic[ele] = 1\n",
    "            \n",
    "key_has_questions = {k:v for (k,v) in matching_max_dic.items()}\n",
    "key_has_questions"
   ]
  },
  {
   "cell_type": "code",
   "execution_count": 100,
   "id": "92413afe",
   "metadata": {},
   "outputs": [
    {
     "data": {
      "text/plain": [
       "{0: 8472, 1: 8542}"
      ]
     },
     "execution_count": 100,
     "metadata": {},
     "output_type": "execute_result"
    }
   ],
   "source": [
    "df982 = df98[df98['fraudulent'] == 0]['has_questions'].reset_index().drop(labels='index', axis=1)\n",
    "\n",
    "matching_max_dic = {}\n",
    "\n",
    "for ele in df982['has_questions']:\n",
    "    if ele in matching_max_dic:\n",
    "        matching_max_dic[ele] += 1\n",
    "    else:\n",
    "        matching_max_dic[ele] = 1\n",
    "            \n",
    "Nonkey_has_questions = {k:v for (k,v) in matching_max_dic.items()}\n",
    "Nonkey_has_questions"
   ]
  },
  {
   "cell_type": "code",
   "execution_count": 101,
   "id": "e89c730d",
   "metadata": {},
   "outputs": [
    {
     "data": {
      "text/plain": [
       "<Axes: title={'center': 'has_questions for fraud vs nonfraud'}, xlabel='has_questions', ylabel='count'>"
      ]
     },
     "execution_count": 101,
     "metadata": {},
     "output_type": "execute_result"
    },
    {
     "data": {
      "image/png": "[encoded data removed]",
      "text/plain": [
       "<Figure size 1000x500 with 1 Axes>"
      ]
     },
     "metadata": {},
     "output_type": "display_data"
    }
   ],
   "source": [
    "df_x = df0[['has_questions', 'fraudulent']]\n",
    "df_x = df_x.groupby(by=['has_questions', 'fraudulent']).agg({'fraudulent':'count'}).rename(columns={'fraudulent': 'count'}).reset_index()\n",
    "plt.figure(figsize=(10,5))\n",
    "plt.title('has_questions for fraud vs nonfraud')\n",
    "sns.barplot(df_x, x ='has_questions', y='count', hue='fraudulent')"
   ]
  },
  {
   "cell_type": "code",
   "execution_count": 102,
   "id": "0365b2d3",
   "metadata": {},
   "outputs": [
    {
     "data": {
      "text/plain": [
       "Text(50.722222222222214, 0.5, 'telecommuting | has_company_logo | has_questions')"
      ]
     },
     "execution_count": 102,
     "metadata": {},
     "output_type": "execute_result"
    },
    {
     "data": {
      "image/png": "[encoded data removed]",
      "text/plain": [
       "<Figure size 640x480 with 2 Axes>"
      ]
     },
     "metadata": {},
     "output_type": "display_data"
    }
   ],
   "source": [
    "dfx = df0[['telecommuting', 'has_company_logo', 'has_questions','fraudulent']]\n",
    "dfx = dfx.groupby(by=['telecommuting', 'has_company_logo', 'has_questions','fraudulent']).value_counts().reset_index()\n",
    "dfx = dfx.pivot(index= ['telecommuting', 'has_company_logo', 'has_questions'], columns= ['fraudulent'])\n",
    "sns.heatmap(dfx, cmap=\"YlGnBu\", annot=True, fmt='.1f')\n",
    "plt.title('correlation with heatmap')\n",
    "plt.xlabel('fraudulent')\n",
    "plt.ylabel('telecommuting | has_company_logo | has_questions')"
   ]
  },
  {
   "attachments": {},
   "cell_type": "markdown",
   "id": "95196b35",
   "metadata": {},
   "source": [
    " - From this we come to see that if telecommunication is 0 has company is 1 has questions is 1 then that to be non fraud is high similar way if we have all the cases zero then it to be fraud is high with 454 count"
   ]
  },
  {
   "cell_type": "markdown",
   "id": "5cf64b6d",
   "metadata": {},
   "source": [
    "###"
   ]
  },
  {
   "cell_type": "markdown",
   "id": "161a94ad",
   "metadata": {},
   "source": [
    "## 3. <u>Custom Weighted Modeling</u> : Preprocessing Data"
   ]
  },
  {
   "attachments": {},
   "cell_type": "markdown",
   "id": "c1f4373d",
   "metadata": {},
   "source": [
    "Now we are using a custom weighted model so we have now 16 columns with their occurrences number of occurrences is in a dictionary format so lets say we have in a column called benefits so we have a word called \"\"offered\"'' so that is repeating for 22 times and we are custom waiting the keys based on the total sum versus their own country which means will calculate the overall sum of the counts let's say this key benefits is giving up something in relax and then this for the weight of this offered keyboard will be 22/ 17019 which will be mirror 0.00129  so will be estimating all these weights to this particular fraud and non fraud keywords and then we will save this for testing the data will get all the 16 column values and then we will again compare that keywords with this keywords dictionary that we have got till now and then we will add this custom weighted some and then will calculate the overall sum of this custom weighted and then we will compare for fraud and non fraud both individually so if the sum of fraud is greater than sum of non fraud so we will declare that we have a total occurrence that count of weighted model that to be fraud is greater than non fraud"
   ]
  },
  {
   "cell_type": "markdown",
   "id": "7f36e172",
   "metadata": {},
   "source": [
    "#### 3.1 benefits : "
   ]
  },
  {
   "cell_type": "code",
   "execution_count": 103,
   "id": "c322a6e7",
   "metadata": {},
   "outputs": [
    {
     "name": "stdout",
     "output_type": "stream",
     "text": [
      "benefits sum's:  17019 12305\n"
     ]
    }
   ],
   "source": [
    "f_benefits_sum = sum(key_benefits[i] for i in key_benefits)\n",
    "nf_benefits_sum = sum(Nonkey_benefits[i] for i in Nonkey_benefits)\n",
    "    \n",
    "print(\"benefits sum's: \",f_benefits_sum, nf_benefits_sum)\n",
    "\n",
    "wf_benefits = {k:(v/f_benefits_sum) for (k,v) in key_benefits.items()}\n",
    "wnf_benefits = {k:(v/nf_benefits_sum) for (k,v) in Nonkey_benefits.items()}"
   ]
  },
  {
   "cell_type": "markdown",
   "id": "da0fc5f1",
   "metadata": {},
   "source": [
    "#### 3.2 company_profile"
   ]
  },
  {
   "cell_type": "code",
   "execution_count": 104,
   "id": "866e71fe",
   "metadata": {},
   "outputs": [
    {
     "name": "stdout",
     "output_type": "stream",
     "text": [
      "company_profile sum's:  18443 789218\n"
     ]
    }
   ],
   "source": [
    "f_company_profile_sum = sum(key_company_profile[i] for i in key_company_profile)\n",
    "nf_company_profile_sum = sum(Nonkey_company_profile[i] for i in Nonkey_company_profile)\n",
    "    \n",
    "print(\"company_profile sum's: \",f_company_profile_sum, nf_company_profile_sum)\n",
    "\n",
    "wf_company_profile = {k:(v/f_company_profile_sum) for (k,v) in key_company_profile.items()}\n",
    "wnf_company_profile = {k:(v/nf_company_profile_sum) for (k,v) in Nonkey_company_profile.items()}"
   ]
  },
  {
   "cell_type": "markdown",
   "id": "322dc78d",
   "metadata": {},
   "source": [
    "#### 3.3 department"
   ]
  },
  {
   "cell_type": "code",
   "execution_count": 105,
   "id": "9f510468",
   "metadata": {},
   "outputs": [
    {
     "name": "stdout",
     "output_type": "stream",
     "text": [
      "department sum's:  1100 19736\n"
     ]
    }
   ],
   "source": [
    "f_department_sum = sum(key_department[i] for i in key_department)\n",
    "nf_department_sum = sum(Nonkey_department[i] for i in Nonkey_department)\n",
    "    \n",
    "print(\"department sum's: \",f_department_sum, nf_department_sum)\n",
    "\n",
    "wf_department = {k:(v/f_department_sum) for (k,v) in key_department.items()}\n",
    "wnf_department = {k:(v/nf_department_sum) for (k,v) in Nonkey_department.items()}"
   ]
  },
  {
   "cell_type": "markdown",
   "id": "033bbbd2",
   "metadata": {},
   "source": [
    "#### 3.4 description"
   ]
  },
  {
   "cell_type": "code",
   "execution_count": 106,
   "id": "ed1d3dcc",
   "metadata": {},
   "outputs": [
    {
     "name": "stdout",
     "output_type": "stream",
     "text": [
      "description sum's:  95014 1550727\n"
     ]
    }
   ],
   "source": [
    "f_description_sum = sum(key_description[i] for i in key_description)\n",
    "nf_description_sum = sum(Nonkey_description[i] for i in Nonkey_description)\n",
    "    \n",
    "print(\"description sum's: \",f_description_sum, nf_description_sum)\n",
    "\n",
    "wf_description = {k:(v/f_description_sum) for (k,v) in key_description.items()}\n",
    "wnf_description = {k:(v/nf_description_sum) for (k,v) in Nonkey_description.items()}"
   ]
  },
  {
   "cell_type": "markdown",
   "id": "58f3c6ef",
   "metadata": {},
   "source": [
    "#### 3.5 employee_type"
   ]
  },
  {
   "cell_type": "code",
   "execution_count": 107,
   "id": "f4f4afb0",
   "metadata": {},
   "outputs": [
    {
     "name": "stdout",
     "output_type": "stream",
     "text": [
      "employee_type sum's:  866 17014\n"
     ]
    }
   ],
   "source": [
    "f_employee_type_sum = sum(key_employee_type[i] for i in key_employee_type)\n",
    "nf_employee_type_sum = sum(Nonkey_employee_type[i] for i in Nonkey_employee_type)\n",
    "    \n",
    "print(\"employee_type sum's: \",f_employee_type_sum, nf_employee_type_sum)\n",
    "\n",
    "wf_employee_type = {k:(v/f_employee_type_sum) for (k,v) in key_employee_type.items()}\n",
    "wnf_employee_type = {k:(v/nf_employee_type_sum) for (k,v) in Nonkey_employee_type.items()}"
   ]
  },
  {
   "cell_type": "markdown",
   "id": "9798cb94",
   "metadata": {},
   "source": [
    "#### 3.6 function"
   ]
  },
  {
   "cell_type": "code",
   "execution_count": 108,
   "id": "8d4d767c",
   "metadata": {},
   "outputs": [
    {
     "name": "stdout",
     "output_type": "stream",
     "text": [
      "function sum's:  866 17014\n"
     ]
    }
   ],
   "source": [
    "f_function_sum = sum(key_function[i] for i in key_function)\n",
    "nf_function_sum = sum(Nonkey_function[i] for i in Nonkey_function)\n",
    "    \n",
    "print(\"function sum's: \",f_function_sum, nf_function_sum)\n",
    "\n",
    "wf_function = {k:(v/f_function_sum) for (k,v) in key_function.items()}\n",
    "wnf_function = {k:(v/nf_function_sum) for (k,v) in Nonkey_function.items()}"
   ]
  },
  {
   "cell_type": "markdown",
   "id": "ecad2e8a",
   "metadata": {},
   "source": [
    "#### 3.7 has_company_logo"
   ]
  },
  {
   "cell_type": "code",
   "execution_count": 109,
   "id": "aeda1d44",
   "metadata": {},
   "outputs": [
    {
     "name": "stdout",
     "output_type": "stream",
     "text": [
      "has_company_logo sum's:  866 17014\n"
     ]
    }
   ],
   "source": [
    "f_has_company_logo_sum = sum(key_has_company_logo[i] for i in key_has_company_logo)\n",
    "nf_has_company_logo_sum = sum(Nonkey_has_company_logo[i] for i in Nonkey_has_company_logo)\n",
    "    \n",
    "print(\"has_company_logo sum's: \",f_has_company_logo_sum, nf_has_company_logo_sum)\n",
    "\n",
    "wf_has_company_logo = {k:(v/f_has_company_logo_sum) for (k,v) in key_has_company_logo.items()}\n",
    "wnf_has_company_logo = {k:(v/nf_has_company_logo_sum) for (k,v) in Nonkey_has_company_logo.items()}"
   ]
  },
  {
   "cell_type": "markdown",
   "id": "802204e2",
   "metadata": {},
   "source": [
    "#### 3.8 has_quwstions"
   ]
  },
  {
   "cell_type": "code",
   "execution_count": 110,
   "id": "dda75407",
   "metadata": {},
   "outputs": [
    {
     "name": "stdout",
     "output_type": "stream",
     "text": [
      "has_questions sum's:  866 17014\n"
     ]
    }
   ],
   "source": [
    "f_has_questions_sum = sum(key_has_questions[i] for i in key_has_questions)\n",
    "nf_has_questions_sum = sum(Nonkey_has_questions[i] for i in Nonkey_has_questions)\n",
    "    \n",
    "print(\"has_questions sum's: \",f_has_questions_sum, nf_has_questions_sum)\n",
    "\n",
    "wf_has_questions = {k:(v/f_has_questions_sum) for (k,v) in key_has_questions.items()}\n",
    "wnf_has_questions = {k:(v/nf_has_questions_sum) for (k,v) in Nonkey_has_questions.items()}"
   ]
  },
  {
   "cell_type": "markdown",
   "id": "2bbdca72",
   "metadata": {},
   "source": [
    "#### 3.9 industry"
   ]
  },
  {
   "cell_type": "code",
   "execution_count": 111,
   "id": "730a6fe9",
   "metadata": {},
   "outputs": [
    {
     "name": "stdout",
     "output_type": "stream",
     "text": [
      "industry sum's:  866 17014\n"
     ]
    }
   ],
   "source": [
    "f_industry_sum = sum(key_industry[i] for i in key_industry)\n",
    "nf_industry_sum = sum(Nonkey_industry[i] for i in Nonkey_industry)\n",
    "    \n",
    "print(\"industry sum's: \",f_industry_sum, nf_industry_sum)\n",
    "\n",
    "wf_industry = {k:(v/f_industry_sum) for (k,v) in key_industry.items()}\n",
    "wnf_industry = {k:(v/nf_industry_sum) for (k,v) in Nonkey_industry.items()}"
   ]
  },
  {
   "cell_type": "markdown",
   "id": "ea898751",
   "metadata": {},
   "source": [
    "#### 3.10 location"
   ]
  },
  {
   "cell_type": "code",
   "execution_count": 112,
   "id": "2641cf9c",
   "metadata": {},
   "outputs": [
    {
     "name": "stdout",
     "output_type": "stream",
     "text": [
      "location sum's:  2550 33677\n"
     ]
    }
   ],
   "source": [
    "f_location_sum = sum(key_location[i] for i in key_location)\n",
    "nf_location_sum = sum(Nonkey_location[i] for i in Nonkey_location)\n",
    "    \n",
    "print(\"location sum's: \",f_location_sum, nf_location_sum)\n",
    "\n",
    "wf_location = {k:(v/f_location_sum) for (k,v) in key_location.items()}\n",
    "wnf_location = {k:(v/nf_location_sum) for (k,v) in Nonkey_location.items()}"
   ]
  },
  {
   "cell_type": "markdown",
   "id": "934e8953",
   "metadata": {},
   "source": [
    "#### 3.11 required_education"
   ]
  },
  {
   "cell_type": "code",
   "execution_count": 113,
   "id": "90d86ccb",
   "metadata": {},
   "outputs": [
    {
     "name": "stdout",
     "output_type": "stream",
     "text": [
      "required_education sum's:  866 17014\n"
     ]
    }
   ],
   "source": [
    "f_required_education_sum = sum(key_required_education[i] for i in key_required_education)\n",
    "nf_required_education_sum = sum(Nonkey_required_education[i] for i in Nonkey_required_education)\n",
    "    \n",
    "print(\"required_education sum's: \",f_required_education_sum, nf_required_education_sum)\n",
    "\n",
    "wf_required_education = {k:(v/f_required_education_sum) for (k,v) in key_required_education.items()}\n",
    "wnf_required_education = {k:(v/nf_required_education_sum) for (k,v) in Nonkey_required_education.items()}"
   ]
  },
  {
   "cell_type": "markdown",
   "id": "d80efcf9",
   "metadata": {},
   "source": [
    "#### 3.12 required_experience"
   ]
  },
  {
   "cell_type": "code",
   "execution_count": 114,
   "id": "cc9385d8",
   "metadata": {},
   "outputs": [
    {
     "name": "stdout",
     "output_type": "stream",
     "text": [
      "required_experience sum's:  866 17014\n"
     ]
    }
   ],
   "source": [
    "f_required_experience_sum = sum(key_required_experience[i] for i in key_required_experience)\n",
    "nf_required_experience_sum = sum(Nonkey_required_experience[i] for i in Nonkey_required_experience)\n",
    "    \n",
    "print(\"required_experience sum's: \",f_required_experience_sum, nf_required_experience_sum)\n",
    "\n",
    "wf_required_experience = {k:(v/f_required_experience_sum) for (k,v) in key_required_experience.items()}\n",
    "wnf_required_experience = {k:(v/nf_required_experience_sum) for (k,v) in Nonkey_required_experience.items()}"
   ]
  },
  {
   "cell_type": "markdown",
   "id": "4931549e",
   "metadata": {},
   "source": [
    "#### 3.13 requirements"
   ]
  },
  {
   "cell_type": "code",
   "execution_count": 115,
   "id": "83bc20c0",
   "metadata": {},
   "outputs": [
    {
     "name": "stdout",
     "output_type": "stream",
     "text": [
      "requirements sum's:  37644 718718\n"
     ]
    }
   ],
   "source": [
    "f_requirements_sum = sum(key_requirements[i] for i in key_requirements)\n",
    "nf_requirements_sum = sum(Nonkey_requirements[i] for i in Nonkey_requirements)\n",
    "    \n",
    "print(\"requirements sum's: \",f_requirements_sum, nf_requirements_sum)\n",
    "\n",
    "wf_requirements = {k:(v/f_requirements_sum) for (k,v) in key_requirements.items()}\n",
    "wnf_requirements = {k:(v/nf_requirements_sum) for (k,v) in Nonkey_requirements.items()}"
   ]
  },
  {
   "cell_type": "markdown",
   "id": "11cf665f",
   "metadata": {},
   "source": [
    "#### 3.14 salary_range"
   ]
  },
  {
   "cell_type": "code",
   "execution_count": 116,
   "id": "a3cf8418",
   "metadata": {},
   "outputs": [
    {
     "name": "stdout",
     "output_type": "stream",
     "text": [
      "salary_range sum's:  866 17014\n"
     ]
    }
   ],
   "source": [
    "f_salary_range_sum = sum(key_salary_range[i] for i in key_salary_range)\n",
    "nf_salary_range_sum = sum(Nonkey_salary_range[i] for i in Nonkey_salary_range)\n",
    "    \n",
    "print(\"salary_range sum's: \",f_salary_range_sum, nf_salary_range_sum)\n",
    "\n",
    "wf_salary_range = {k:(v/f_salary_range_sum) for (k,v) in key_salary_range.items()}\n",
    "wnf_salary_range = {k:(v/nf_salary_range_sum) for (k,v) in Nonkey_salary_range.items()}"
   ]
  },
  {
   "cell_type": "markdown",
   "id": "6244da0e",
   "metadata": {},
   "source": [
    "#### 3.15 telecommuting"
   ]
  },
  {
   "cell_type": "code",
   "execution_count": 117,
   "id": "d4bdc2ac",
   "metadata": {},
   "outputs": [
    {
     "name": "stdout",
     "output_type": "stream",
     "text": [
      "telecommuting sum's:  866 17014\n"
     ]
    }
   ],
   "source": [
    "f_telecommuting_sum = sum(key_telecommuting[i] for i in key_telecommuting)\n",
    "nf_telecommuting_sum = sum(Nonkey_telecommuting[i] for i in Nonkey_telecommuting)\n",
    "    \n",
    "print(\"telecommuting sum's: \",f_telecommuting_sum, nf_telecommuting_sum)\n",
    "\n",
    "wf_telecommuting = {k:(v/f_telecommuting_sum) for (k,v) in key_telecommuting.items()}\n",
    "wnf_telecommuting = {k:(v/nf_telecommuting_sum) for (k,v) in Nonkey_telecommuting.items()}"
   ]
  },
  {
   "cell_type": "markdown",
   "id": "63cf82a2",
   "metadata": {},
   "source": [
    "#### 3.16 title"
   ]
  },
  {
   "cell_type": "code",
   "execution_count": 118,
   "id": "e31e6137",
   "metadata": {},
   "outputs": [
    {
     "name": "stdout",
     "output_type": "stream",
     "text": [
      "title sum's:  3395 32057\n"
     ]
    }
   ],
   "source": [
    "f_title_sum = sum(key_title[i] for i in key_title)\n",
    "nf_title_sum = sum(Nonkey_title[i] for i in Nonkey_title)\n",
    "    \n",
    "print(\"title sum's: \",f_title_sum, nf_title_sum)\n",
    "\n",
    "wf_title = {k:(v/f_title_sum) for (k,v) in key_title.items()}\n",
    "wnf_title = {k:(v/nf_title_sum) for (k,v) in Nonkey_title.items()}"
   ]
  },
  {
   "cell_type": "markdown",
   "id": "042602b9",
   "metadata": {},
   "source": [
    "##"
   ]
  },
  {
   "cell_type": "markdown",
   "id": "86ee9a87",
   "metadata": {},
   "source": [
    "## 4. Testing"
   ]
  },
  {
   "cell_type": "code",
   "execution_count": 119,
   "id": "2b297415",
   "metadata": {},
   "outputs": [],
   "source": [
    "test = data[17000:]\n",
    "test.to_csv('test_data.csv', header=True, index=False)"
   ]
  },
  {
   "cell_type": "code",
   "execution_count": 120,
   "id": "0e18d335",
   "metadata": {},
   "outputs": [],
   "source": [
    "test_sample = pd.read_csv('test_data.csv') \n",
    "\n",
    "test_sample[['weight_fraud', 'weight_non_fraud']] = [0, 0]\n",
    "test_sample['department'].fillna('unknown_department', inplace=True)\n",
    "test_sample['benefits'].fillna('unknown_benefits', inplace=True)\n",
    "test_sample['function'].fillna('unknown_function', inplace=True)\n",
    "test_sample['industry'].fillna('unknown_industry', inplace=True)\n",
    "test_sample['company_profile'].fillna('unknown_company_profile', inplace=True)\n",
    "test_sample['employment_type'].fillna('unknown_employment_type', inplace=True)\n",
    "test_sample['required_education'].fillna('unknown_required_education', inplace=True)\n",
    "test_sample['required_experience'].fillna('unknown_required_experience', inplace=True)\n",
    "test_sample['requirements'].fillna('unknown_requirements', inplace=True)\n",
    "test_sample['location'].fillna('unknown_location', inplace=True)\n",
    "test_sample['title'].fillna('unknown_title', inplace=True)\n",
    "test_sample['description'].fillna('unknown_description', inplace=True)\n",
    "test_sample['telecommuting'].fillna(0, inplace=True)\n",
    "test_sample['has_company_logo'].fillna(0, inplace=True)\n",
    "test_sample['has_questions'].fillna(0, inplace=True)"
   ]
  },
  {
   "cell_type": "markdown",
   "id": "1e555137",
   "metadata": {},
   "source": [
    "#### 4.1 title"
   ]
  },
  {
   "cell_type": "code",
   "execution_count": 121,
   "id": "7f341daa",
   "metadata": {},
   "outputs": [],
   "source": [
    "ds_01 = test_sample[['title']]\n",
    "\n",
    "ds_01['title'] = ds_01['title'].apply(lambda x: re.findall(\"[A-Za-z0-9]*\", str(x)))\n",
    "ds_01['title'] = ds_01['title'].apply(lambda x: ' '.join([i for i in x if len(i.strip()) != 0]) )\n",
    "\n",
    "for i in range(0, len(ds_01['title'])):\n",
    "    ex_text = ds_01['title'][i]\n",
    "    \n",
    "    stop_words = stopwords.words('english') #removing stopwords\n",
    "    word_tokens = word_tokenize(ex_text)   #spliting them into a list\n",
    "    \n",
    "    filtered_text = [wnl.lemmatize(x) for x in word_tokens if not x.lower() in stop_words]\n",
    "    ds_01['title'][i] = filtered_text\n",
    "    \n",
    "for i in range(0, len(ds_01)):\n",
    "    for word in ds_01['title'][i]:\n",
    "        if word in wf_title:\n",
    "            test_sample['weight_fraud'][i] += wf_title[word]\n",
    "        if word in wnf_title:\n",
    "            test_sample['weight_non_fraud'][i] += wnf_title[word]"
   ]
  },
  {
   "cell_type": "markdown",
   "id": "65b0f22c",
   "metadata": {},
   "source": [
    "#### 4.2 location"
   ]
  },
  {
   "cell_type": "code",
   "execution_count": 122,
   "id": "8502f25d",
   "metadata": {},
   "outputs": [],
   "source": [
    "ds_01 = test_sample[['location']]\n",
    "\n",
    "ds_01['location'] = ds_01['location'].apply(lambda x: re.findall(\"[A-Za-z0-9]*\", str(x)))\n",
    "ds_01['location'] = ds_01['location'].apply(lambda x: ' '.join([i for i in x if len(i.strip()) != 0]) )\n",
    "\n",
    "for i in range(0, len(ds_01['location'])):\n",
    "    ex_text = ds_01['location'][i]\n",
    "    \n",
    "    stop_words = stopwords.words('english') #removing stopwords\n",
    "    word_tokens = word_tokenize(ex_text)   #spliting them into a list\n",
    "    \n",
    "    filtered_text = [wnl.lemmatize(x) for x in word_tokens if not x.lower() in stop_words]\n",
    "    ds_01['location'][i] = filtered_text\n",
    "    \n",
    "for i in range(0, len(ds_01)):\n",
    "    for word in ds_01['location'][i]:\n",
    "        if word in wf_location:\n",
    "            test_sample['weight_fraud'][i] += wf_location[word]\n",
    "        if word in wnf_location:\n",
    "            test_sample['weight_non_fraud'][i] += wnf_location[word]"
   ]
  },
  {
   "cell_type": "markdown",
   "id": "0ab9946d",
   "metadata": {},
   "source": [
    "#### 4.3 department"
   ]
  },
  {
   "cell_type": "code",
   "execution_count": 123,
   "id": "ad631694",
   "metadata": {},
   "outputs": [],
   "source": [
    "ds_01 = test_sample[['department']]\n",
    "\n",
    "ds_01['department'] = ds_01['department'].apply(lambda x: re.findall(\"[-A-Za-z0-9_/]*\", str(x)))\n",
    "ds_01['department'] = ds_01['department'].apply(lambda x: ' '.join([i for i in x if len(i.strip()) != 0]) )\n",
    "\n",
    "for i in range(0, len(ds_01['department'])):\n",
    "    ex_text = ds_01['department'][i]\n",
    "    \n",
    "    stop_words = stopwords.words('english') #removing stopwords\n",
    "    word_tokens = word_tokenize(ex_text)   #spliting them into a list\n",
    "    \n",
    "    filtered_text = [wnl.lemmatize(x) for x in word_tokens if not x.lower() in stop_words]\n",
    "    ds_01['department'][i] = filtered_text\n",
    "    \n",
    "for i in range(0, len(ds_01)):\n",
    "    for word in ds_01['department'][i]:\n",
    "        if word in wf_department:\n",
    "            test_sample['weight_fraud'][i] += wf_department[word]\n",
    "        if word in wnf_department:\n",
    "            test_sample['weight_non_fraud'][i] += wnf_department[word]"
   ]
  },
  {
   "cell_type": "markdown",
   "id": "67b8ed5a",
   "metadata": {},
   "source": [
    "#### 4.4 company_profile"
   ]
  },
  {
   "cell_type": "code",
   "execution_count": 124,
   "id": "b3ec1799",
   "metadata": {},
   "outputs": [],
   "source": [
    "ds_01 = test_sample[['company_profile']]\n",
    "\n",
    "ds_01['company_profile'] = ds_01['company_profile'].apply(lambda x: re.findall(\"[A-Za-z0-9-_]*\", str(x)))\n",
    "ds_01['company_profile'] = ds_01['company_profile'].apply(lambda x: ' '.join([i for i in x if len(i.strip()) != 0]) )\n",
    "\n",
    "ds_01['company_profile'] = ds_01['company_profile'].apply(lambda x: re.sub('URL_[a-zA-z0-9]*', 'INVALID_URL', x)  )\n",
    "ds_01['company_profile'] = ds_01['company_profile'].apply(lambda x: re.sub('EMAIL_[a-zA-z0-9]*', 'INVALID_EMAIL', x)  )\n",
    "ds_01['company_profile'] = ds_01['company_profile'].apply(lambda x: re.sub('PHONE_[a-zA-z0-9]*', 'INVALID_PHONE', x)  )\n",
    "\n",
    "for i in range(0, len(ds_01['company_profile'])):\n",
    "    ex_text = ds_01['company_profile'][i]\n",
    "    \n",
    "    stop_words = stopwords.words('english') #removing stopwords\n",
    "    word_tokens = word_tokenize(ex_text)   #spliting them into a list\n",
    "    \n",
    "    filtered_text = [wnl.lemmatize(x) for x in word_tokens if not x.lower() in stop_words]\n",
    "    ds_01['company_profile'][i] = filtered_text\n",
    "    \n",
    "for i in range(0, len(ds_01)):\n",
    "    for word in ds_01['company_profile'][i]:\n",
    "        if word in wf_company_profile:\n",
    "            test_sample['weight_fraud'][i] += wf_company_profile[word]\n",
    "        if word in wnf_company_profile:\n",
    "            test_sample['weight_non_fraud'][i] += wnf_company_profile[word]\n"
   ]
  },
  {
   "cell_type": "markdown",
   "id": "644abd5a",
   "metadata": {},
   "source": [
    "#### 4.5 description"
   ]
  },
  {
   "cell_type": "code",
   "execution_count": 125,
   "id": "5e18ca16",
   "metadata": {},
   "outputs": [],
   "source": [
    "ds_01 = test_sample[['description']]\n",
    "\n",
    "ds_01['description'] = ds_01['description'].apply(lambda x: re.findall(\"[A-Za-z0-9-_]*\", str(x)))\n",
    "ds_01['description'] = ds_01['description'].apply(lambda x: ' '.join([i for i in x if len(i.strip()) != 0]) )\n",
    "\n",
    "ds_01['description'] = ds_01['description'].apply(lambda x: re.sub('URL_[a-zA-z0-9]*', 'INVALID_URL', x)  )\n",
    "ds_01['description'] = ds_01['description'].apply(lambda x: re.sub('EMAIL_[a-zA-z0-9]*', 'INVALID_EMAIL', x)  )\n",
    "ds_01['description'] = ds_01['description'].apply(lambda x: re.sub('PHONE_[a-zA-z0-9]*', 'INVALID_PHONE', x)  )\n",
    "\n",
    "for i in range(0, len(ds_01['description'])):\n",
    "    ex_text = ds_01['description'][i]\n",
    "    \n",
    "    stop_words = stopwords.words('english') #removing stopwords\n",
    "    word_tokens = word_tokenize(ex_text)   #spliting them into a list\n",
    "    \n",
    "    filtered_text = [wnl.lemmatize(x) for x in word_tokens if not x.lower() in stop_words]\n",
    "    ds_01['description'][i] = filtered_text\n",
    "    \n",
    "for i in range(0, len(ds_01)):\n",
    "    for word in ds_01['description'][i]:\n",
    "        if word in wf_description:\n",
    "            test_sample['weight_fraud'][i] += wf_description[word]\n",
    "        if word in wnf_description:\n",
    "            test_sample['weight_non_fraud'][i] += wnf_description[word]"
   ]
  },
  {
   "cell_type": "markdown",
   "id": "5c6bf162",
   "metadata": {},
   "source": [
    "#### 4.6 requirements"
   ]
  },
  {
   "cell_type": "code",
   "execution_count": 126,
   "id": "718bab5c",
   "metadata": {},
   "outputs": [],
   "source": [
    "ds_01 = test_sample[['requirements']]\n",
    "\n",
    "ds_01['requirements'] = ds_01['requirements'].apply(lambda x: re.findall(\"[A-Za-z0-9-_]*\", str(x)))\n",
    "ds_01['requirements'] = ds_01['requirements'].apply(lambda x: ' '.join([i for i in x if len(i.strip()) != 0]) )\n",
    "\n",
    "ds_01['requirements'] = ds_01['requirements'].apply(lambda x: re.sub('URL_[a-zA-z0-9]*', 'INVALID_URL', x)  )\n",
    "ds_01['requirements'] = ds_01['requirements'].apply(lambda x: re.sub('EMAIL_[a-zA-z0-9]*', 'INVALID_EMAIL', x)  )\n",
    "ds_01['requirements'] = ds_01['requirements'].apply(lambda x: re.sub('PHONE_[a-zA-z0-9]*', 'INVALID_PHONE', x)  )\n",
    "\n",
    "for i in range(0, len(ds_01['requirements'])):\n",
    "    ex_text = ds_01['requirements'][i]\n",
    "    \n",
    "    stop_words = stopwords.words('english') #removing stopwords\n",
    "    word_tokens = word_tokenize(ex_text)   #spliting them into a list\n",
    "    \n",
    "    filtered_text = [wnl.lemmatize(x) for x in word_tokens if not x.lower() in stop_words]\n",
    "    ds_01['requirements'][i] = filtered_text\n",
    "    \n",
    "for i in range(0, len(ds_01)):\n",
    "    for word in ds_01['requirements'][i]:\n",
    "        if word in wf_requirements:\n",
    "            test_sample['weight_fraud'][i] += wf_requirements[word]\n",
    "        if word in wnf_requirements:\n",
    "            test_sample['weight_non_fraud'][i] += wnf_requirements[word]"
   ]
  },
  {
   "cell_type": "markdown",
   "id": "2d5d5f26",
   "metadata": {},
   "source": [
    "#### 4.7 benefits"
   ]
  },
  {
   "cell_type": "code",
   "execution_count": 127,
   "id": "f1fc8f60",
   "metadata": {},
   "outputs": [],
   "source": [
    "ds_01 = test_sample[['benefits']]\n",
    "\n",
    "ds_01['benefits'] = ds_01['benefits'].apply(lambda x: re.findall(\"[A-Za-z0-9-_]*\", str(x)))\n",
    "ds_01['benefits'] = ds_01['benefits'].apply(lambda x: ' '.join([i for i in x if len(i.strip()) != 0]) )\n",
    "\n",
    "ds_01['benefits'] = ds_01['benefits'].apply(lambda x: re.sub('URL_[a-zA-z0-9]*', 'INVALID_URL', x)  )\n",
    "ds_01['benefits'] = ds_01['benefits'].apply(lambda x: re.sub('EMAIL_[a-zA-z0-9]*', 'INVALID_EMAIL', x)  )\n",
    "ds_01['benefits'] = ds_01['benefits'].apply(lambda x: re.sub('PHONE_[a-zA-z0-9]*', 'INVALID_PHONE', x)  )\n",
    "\n",
    "for i in range(0, len(ds_01['benefits'])):\n",
    "    ex_text = ds_01['benefits'][i]\n",
    "    \n",
    "    stop_words = stopwords.words('english') #removing stopwords\n",
    "    word_tokens = word_tokenize(ex_text)   #spliting them into a list\n",
    "    \n",
    "    filtered_text = [wnl.lemmatize(x) for x in word_tokens if not x.lower() in stop_words]\n",
    "    ds_01['benefits'][i] = filtered_text\n",
    "    \n",
    "for i in range(0, len(ds_01)):\n",
    "    for word in ds_01['benefits'][i]:\n",
    "        if word in wf_benefits:\n",
    "            test_sample['weight_fraud'][i] += wf_benefits[word]\n",
    "        if word in wnf_benefits:\n",
    "            test_sample['weight_non_fraud'][i] += wnf_benefits[word]"
   ]
  },
  {
   "cell_type": "markdown",
   "id": "83723077",
   "metadata": {},
   "source": [
    "#### 4.8 telecommuting"
   ]
  },
  {
   "cell_type": "code",
   "execution_count": 128,
   "id": "aa5b865f",
   "metadata": {},
   "outputs": [],
   "source": [
    "ds_01 = test_sample[['telecommuting']]\n",
    "\n",
    "for i in range(0, len(ds_01['telecommuting'])):\n",
    "    word = ds_01['telecommuting'][i]\n",
    "    if word in wf_telecommuting:\n",
    "        test_sample['weight_fraud'][i] += wf_telecommuting[word]\n",
    "    if word in wnf_telecommuting:\n",
    "        test_sample['weight_non_fraud'][i] += wnf_telecommuting[word]\n"
   ]
  },
  {
   "cell_type": "markdown",
   "id": "2dfca506",
   "metadata": {},
   "source": [
    "#### 4.9 has_company_logo"
   ]
  },
  {
   "cell_type": "code",
   "execution_count": 129,
   "id": "7346b388",
   "metadata": {},
   "outputs": [],
   "source": [
    "ds_01 = test_sample[['has_company_logo']]\n",
    "\n",
    "for i in range(0, len(ds_01['has_company_logo'])):\n",
    "    word = ds_01['has_company_logo'][i]\n",
    "    if word in wf_has_company_logo:\n",
    "        test_sample['weight_fraud'][i] += wf_has_company_logo[word]\n",
    "    if word in wnf_has_company_logo:\n",
    "        test_sample['weight_non_fraud'][i] += wnf_has_company_logo[word]\n"
   ]
  },
  {
   "cell_type": "markdown",
   "id": "d2eb62b4",
   "metadata": {},
   "source": [
    "#### 4.10 has_questions"
   ]
  },
  {
   "cell_type": "code",
   "execution_count": 130,
   "id": "aa268e13",
   "metadata": {},
   "outputs": [],
   "source": [
    "ds_01 = test_sample[['has_questions']]\n",
    "\n",
    "for i in range(0, len(ds_01['has_questions'])):\n",
    "    word = ds_01['has_questions'][i]\n",
    "    if word in wf_has_questions:\n",
    "        test_sample['weight_fraud'][i] += wf_has_questions[word]\n",
    "    if word in wnf_has_questions:\n",
    "        test_sample['weight_non_fraud'][i] += wnf_has_questions[word]\n"
   ]
  },
  {
   "cell_type": "markdown",
   "id": "f7bb8dad",
   "metadata": {},
   "source": [
    "#### 4.11 employment_type"
   ]
  },
  {
   "cell_type": "code",
   "execution_count": 131,
   "id": "7fc3401c",
   "metadata": {},
   "outputs": [],
   "source": [
    "ds_01 = test_sample[['employment_type']]\n",
    "\n",
    "for i in range(0, len(ds_01['employment_type'])):\n",
    "    word = ds_01['employment_type'][i]\n",
    "    if word in wf_employee_type:\n",
    "        test_sample['weight_fraud'][i] += wf_employee_type[word]\n",
    "    if word in wnf_employee_type:\n",
    "        test_sample['weight_non_fraud'][i] += wnf_employee_type[word]"
   ]
  },
  {
   "cell_type": "markdown",
   "id": "f2ac4c9c",
   "metadata": {},
   "source": [
    "#### 4.12 required_experience"
   ]
  },
  {
   "cell_type": "code",
   "execution_count": 132,
   "id": "8dde179f",
   "metadata": {},
   "outputs": [],
   "source": [
    "ds_01 = test_sample[['required_experience']]\n",
    "\n",
    "for i in range(0, len(ds_01['required_experience'])):\n",
    "    word = ds_01['required_experience'][i]\n",
    "    if word in wf_required_experience:\n",
    "        test_sample['weight_fraud'][i] += wf_required_experience[word]\n",
    "    if word in wnf_required_experience:\n",
    "        test_sample['weight_non_fraud'][i] += wnf_required_experience[word]\n"
   ]
  },
  {
   "cell_type": "markdown",
   "id": "8e15ce38",
   "metadata": {},
   "source": [
    "#### 4.13 required_education"
   ]
  },
  {
   "cell_type": "code",
   "execution_count": 133,
   "id": "80c7e02d",
   "metadata": {},
   "outputs": [],
   "source": [
    "ds_01 = test_sample[['required_education']]\n",
    "\n",
    "for i in range(0, len(ds_01['required_education'])):\n",
    "    word = ds_01['required_education'][i]\n",
    "    if word in wf_required_education:\n",
    "        test_sample['weight_fraud'][i] += wf_required_education[word]\n",
    "    if word in wnf_required_education:\n",
    "        test_sample['weight_non_fraud'][i] += wnf_required_education[word]\n"
   ]
  },
  {
   "cell_type": "markdown",
   "id": "c85425d3",
   "metadata": {},
   "source": [
    "#### 4.14 industry"
   ]
  },
  {
   "cell_type": "code",
   "execution_count": 134,
   "id": "30a0744e",
   "metadata": {},
   "outputs": [],
   "source": [
    "ds_01 = test_sample[['industry']]\n",
    "\n",
    "for i in range(0, len(ds_01['industry'])):\n",
    "    word = ds_01['industry'][i]\n",
    "    if word in wf_industry:\n",
    "        test_sample['weight_fraud'][i] += wf_industry[word]\n",
    "    if word in wnf_industry:\n",
    "        test_sample['weight_non_fraud'][i] += wnf_industry[word]\n"
   ]
  },
  {
   "cell_type": "markdown",
   "id": "7a24a998",
   "metadata": {},
   "source": [
    "#### 4.15 function"
   ]
  },
  {
   "cell_type": "code",
   "execution_count": 135,
   "id": "18b2a42b",
   "metadata": {},
   "outputs": [],
   "source": [
    "ds_01 = test_sample[['function']]\n",
    "\n",
    "for i in range(0, len(ds_01['function'])):\n",
    "    word = ds_01['function'][i]\n",
    "    if word in wf_function:\n",
    "        test_sample['weight_fraud'][i] += wf_function[word]\n",
    "    if word in wnf_function:\n",
    "        test_sample['weight_non_fraud'][i] += wnf_function[word]\n",
    "\n"
   ]
  },
  {
   "cell_type": "markdown",
   "id": "6f649260",
   "metadata": {},
   "source": [
    "#### 4.16 salary_range"
   ]
  },
  {
   "cell_type": "code",
   "execution_count": 136,
   "id": "cd9b1851",
   "metadata": {},
   "outputs": [],
   "source": [
    "ds_01 = test_sample[['salary_range']]\n",
    "\n",
    "def func(val):\n",
    "    if '-' in str(val):\n",
    "        a, b = str(val).split('-')\n",
    "    else:\n",
    "        return '-'\n",
    "    try:\n",
    "        return int(b)\n",
    "    except:\n",
    "        return int(a)\n",
    "    \n",
    "ds_01['salary_range'] = ds_01['salary_range'].apply(lambda x: func(x))\n",
    "\n",
    "for i in range(0, len(ds_01['salary_range'])):\n",
    "    if ds_01['salary_range'][i] == '-':\n",
    "        continue\n",
    "    if ds_01['salary_range'][i] < 2500:\n",
    "        ds_01['salary_range'][i] = 2500\n",
    "    elif ds_01['salary_range'][i] >= 2500 and ds_01['salary_range'][i] < 5000:\n",
    "        ds_01['salary_range'][i] = 5000\n",
    "    elif ds_01['salary_range'][i] >= 5000 and ds_01['salary_range'][i] < 7500:\n",
    "        ds_01['salary_range'][i] = 7500\n",
    "    elif ds_01['salary_range'][i] >= 7500 and ds_01['salary_range'][i] < 10000:\n",
    "        ds_01['salary_range'][i] = 10000\n",
    "    elif ds_01['salary_range'][i] >= 10000 and ds_01['salary_range'][i] < 12500:\n",
    "        ds_01['salary_range'][i] = 12500\n",
    "    elif ds_01['salary_range'][i] >= 12500 and ds_01['salary_range'][i] < 15000:\n",
    "        ds_01['salary_range'][i] = 15000\n",
    "    else:\n",
    "        ds_01['salary_range'][i] = 17500\n",
    "        \n",
    "for i in range(0, len(ds_01['salary_range'])):\n",
    "    if ds_01['salary_range'][i] == '-':\n",
    "        ds_01['salary_range'][i] = None\n",
    "        \n",
    "ds_01['salary_range'].fillna('unknown_salary', inplace=True)\n",
    "test_sample['salary_range'] = ds_01['salary_range']\n",
    "\n",
    "\n",
    "ds_01 = test_sample[['salary_range']]\n",
    "\n",
    "for i in range(0, len(ds_01['salary_range'])):\n",
    "    word = ds_01['salary_range'][i]\n",
    "    if word in wf_salary_range:\n",
    "        test_sample['weight_fraud'][i] += wf_salary_range[word]\n",
    "    if word in wnf_salary_range:\n",
    "        test_sample['weight_non_fraud'][i] += wnf_salary_range[word]\n"
   ]
  },
  {
   "cell_type": "markdown",
   "id": "b74f90f3",
   "metadata": {},
   "source": [
    "### 5. Final Output"
   ]
  },
  {
   "cell_type": "code",
   "execution_count": 137,
   "id": "fa5064b0",
   "metadata": {
    "scrolled": false
   },
   "outputs": [
    {
     "data": {
      "text/html": [
       "<div>\n",
       "<style scoped>\n",
       "    .dataframe tbody tr th:only-of-type {\n",
       "        vertical-align: middle;\n",
       "    }\n",
       "\n",
       "    .dataframe tbody tr th {\n",
       "        vertical-align: top;\n",
       "    }\n",
       "\n",
       "    .dataframe thead th {\n",
       "        text-align: right;\n",
       "    }\n",
       "</style>\n",
       "<table border=\"1\" class=\"dataframe\">\n",
       "  <thead>\n",
       "    <tr style=\"text-align: right;\">\n",
       "      <th></th>\n",
       "      <th>job_id</th>\n",
       "      <th>title</th>\n",
       "      <th>location</th>\n",
       "      <th>department</th>\n",
       "      <th>salary_range</th>\n",
       "      <th>company_profile</th>\n",
       "      <th>description</th>\n",
       "      <th>requirements</th>\n",
       "      <th>benefits</th>\n",
       "      <th>telecommuting</th>\n",
       "      <th>...</th>\n",
       "      <th>has_questions</th>\n",
       "      <th>employment_type</th>\n",
       "      <th>required_experience</th>\n",
       "      <th>required_education</th>\n",
       "      <th>industry</th>\n",
       "      <th>function</th>\n",
       "      <th>fraudulent</th>\n",
       "      <th>weight_fraud</th>\n",
       "      <th>weight_non_fraud</th>\n",
       "      <th>final_output</th>\n",
       "    </tr>\n",
       "  </thead>\n",
       "  <tbody>\n",
       "    <tr>\n",
       "      <th>0</th>\n",
       "      <td>17001</td>\n",
       "      <td>Sales and Marketing Positions</td>\n",
       "      <td>US, OH, Columbus</td>\n",
       "      <td>unknown_department</td>\n",
       "      <td>2500</td>\n",
       "      <td>LEI Home Enhancements, is an Ohio based compan...</td>\n",
       "      <td>LEI is a leading Sales, Marketing and Promotio...</td>\n",
       "      <td>The role would require you to excel in:  • Cus...</td>\n",
       "      <td>What's in it for you?  ",
       " -Fantastic earning pot...</td>\n",
       "      <td>0</td>\n",
       "      <td>...</td>\n",
       "      <td>0</td>\n",
       "      <td>unknown_employment_type</td>\n",
       "      <td>unknown_required_experience</td>\n",
       "      <td>unknown_required_education</td>\n",
       "      <td>unknown_industry</td>\n",
       "      <td>unknown_function</td>\n",
       "      <td>0</td>\n",
       "      <td>4.271027</td>\n",
       "      <td>4.479959</td>\n",
       "      <td>0</td>\n",
       "    </tr>\n",
       "    <tr>\n",
       "      <th>1</th>\n",
       "      <td>17002</td>\n",
       "      <td>HR/Recruiter</td>\n",
       "      <td>US, NC, Raleigh</td>\n",
       "      <td>unknown_department</td>\n",
       "      <td>unknown_salary</td>\n",
       "      <td>LEI Home Enhancements, is an Ohio based compan...</td>\n",
       "      <td>LEI Home Enhancements  is a growing and we are...</td>\n",
       "      <td>QUALIFICATIONS/REQUIREMENTSMust have call cent...</td>\n",
       "      <td>unknown_benefits</td>\n",
       "      <td>0</td>\n",
       "      <td>...</td>\n",
       "      <td>0</td>\n",
       "      <td>Part-time</td>\n",
       "      <td>unknown_required_experience</td>\n",
       "      <td>unknown_required_education</td>\n",
       "      <td>Human Resources</td>\n",
       "      <td>Customer Service</td>\n",
       "      <td>0</td>\n",
       "      <td>3.769097</td>\n",
       "      <td>3.918092</td>\n",
       "      <td>0</td>\n",
       "    </tr>\n",
       "    <tr>\n",
       "      <th>2</th>\n",
       "      <td>17003</td>\n",
       "      <td>Escrow Officer / Title Closer</td>\n",
       "      <td>US, FL, Tampa</td>\n",
       "      <td>unknown_department</td>\n",
       "      <td>unknown_salary</td>\n",
       "      <td>Network Closing Services has been serving Lend...</td>\n",
       "      <td>Looking for a change?  Then give us a call!!Ne...</td>\n",
       "      <td>Are you a top Closer in your market? Are you a...</td>\n",
       "      <td>We provide a fun and rewarding atmosphere, our...</td>\n",
       "      <td>0</td>\n",
       "      <td>...</td>\n",
       "      <td>1</td>\n",
       "      <td>Full-time</td>\n",
       "      <td>Mid-Senior level</td>\n",
       "      <td>unknown_required_education</td>\n",
       "      <td>Real Estate</td>\n",
       "      <td>unknown_function</td>\n",
       "      <td>0</td>\n",
       "      <td>4.249618</td>\n",
       "      <td>5.076371</td>\n",
       "      <td>0</td>\n",
       "    </tr>\n",
       "    <tr>\n",
       "      <th>3</th>\n",
       "      <td>17004</td>\n",
       "      <td>Marketing Specialist</td>\n",
       "      <td>US, OH, Cincinnati</td>\n",
       "      <td>unknown_department</td>\n",
       "      <td>2500</td>\n",
       "      <td>LEI Home Enhancements, is an Ohio based compan...</td>\n",
       "      <td>We are looking for a professional and very pos...</td>\n",
       "      <td>Requirements*Great communication and customer ...</td>\n",
       "      <td>*Competitive salary with commissions (earning ...</td>\n",
       "      <td>0</td>\n",
       "      <td>...</td>\n",
       "      <td>0</td>\n",
       "      <td>Full-time</td>\n",
       "      <td>Entry level</td>\n",
       "      <td>High School or equivalent</td>\n",
       "      <td>Marketing and Advertising</td>\n",
       "      <td>Marketing</td>\n",
       "      <td>0</td>\n",
       "      <td>4.140985</td>\n",
       "      <td>4.550291</td>\n",
       "      <td>0</td>\n",
       "    </tr>\n",
       "    <tr>\n",
       "      <th>4</th>\n",
       "      <td>17005</td>\n",
       "      <td>Title Closer</td>\n",
       "      <td>US, NC, Raleigh</td>\n",
       "      <td>unknown_department</td>\n",
       "      <td>unknown_salary</td>\n",
       "      <td>Network Closing Services has been serving Lend...</td>\n",
       "      <td>- Raleigh-Durham Triangle -Looking for a chang...</td>\n",
       "      <td>Are you a top Closer in your market? Are you a...</td>\n",
       "      <td>We provide a fun and rewarding atmosphere, our...</td>\n",
       "      <td>0</td>\n",
       "      <td>...</td>\n",
       "      <td>1</td>\n",
       "      <td>Full-time</td>\n",
       "      <td>Mid-Senior level</td>\n",
       "      <td>High School or equivalent</td>\n",
       "      <td>Real Estate</td>\n",
       "      <td>unknown_function</td>\n",
       "      <td>0</td>\n",
       "      <td>4.275658</td>\n",
       "      <td>5.067758</td>\n",
       "      <td>0</td>\n",
       "    </tr>\n",
       "    <tr>\n",
       "      <th>...</th>\n",
       "      <td>...</td>\n",
       "      <td>...</td>\n",
       "      <td>...</td>\n",
       "      <td>...</td>\n",
       "      <td>...</td>\n",
       "      <td>...</td>\n",
       "      <td>...</td>\n",
       "      <td>...</td>\n",
       "      <td>...</td>\n",
       "      <td>...</td>\n",
       "      <td>...</td>\n",
       "      <td>...</td>\n",
       "      <td>...</td>\n",
       "      <td>...</td>\n",
       "      <td>...</td>\n",
       "      <td>...</td>\n",
       "      <td>...</td>\n",
       "      <td>...</td>\n",
       "      <td>...</td>\n",
       "      <td>...</td>\n",
       "      <td>...</td>\n",
       "    </tr>\n",
       "    <tr>\n",
       "      <th>875</th>\n",
       "      <td>17876</td>\n",
       "      <td>Account Director - Distribution</td>\n",
       "      <td>CA, ON, Toronto</td>\n",
       "      <td>Sales</td>\n",
       "      <td>unknown_salary</td>\n",
       "      <td>Vend is looking for some awesome new talent to...</td>\n",
       "      <td>Just in case this is the first time you’ve vis...</td>\n",
       "      <td>To ace this role you:Will eat comprehensive St...</td>\n",
       "      <td>What can you expect from us?We have an open cu...</td>\n",
       "      <td>0</td>\n",
       "      <td>...</td>\n",
       "      <td>1</td>\n",
       "      <td>Full-time</td>\n",
       "      <td>Mid-Senior level</td>\n",
       "      <td>unknown_required_education</td>\n",
       "      <td>Computer Software</td>\n",
       "      <td>Sales</td>\n",
       "      <td>0</td>\n",
       "      <td>3.732707</td>\n",
       "      <td>4.993991</td>\n",
       "      <td>0</td>\n",
       "    </tr>\n",
       "    <tr>\n",
       "      <th>876</th>\n",
       "      <td>17877</td>\n",
       "      <td>Payroll Accountant</td>\n",
       "      <td>US, PA, Philadelphia</td>\n",
       "      <td>Accounting</td>\n",
       "      <td>unknown_salary</td>\n",
       "      <td>WebLinc is the e-commerce platform and service...</td>\n",
       "      <td>The Payroll Accountant will focus primarily on...</td>\n",
       "      <td>- B.A. or B.S. in Accounting- Desire to have f...</td>\n",
       "      <td>Health &amp;amp; WellnessMedical planPrescription ...</td>\n",
       "      <td>0</td>\n",
       "      <td>...</td>\n",
       "      <td>1</td>\n",
       "      <td>Full-time</td>\n",
       "      <td>Mid-Senior level</td>\n",
       "      <td>Bachelor's Degree</td>\n",
       "      <td>Internet</td>\n",
       "      <td>Accounting/Auditing</td>\n",
       "      <td>0</td>\n",
       "      <td>3.991571</td>\n",
       "      <td>5.242193</td>\n",
       "      <td>0</td>\n",
       "    </tr>\n",
       "    <tr>\n",
       "      <th>877</th>\n",
       "      <td>17878</td>\n",
       "      <td>Project Cost Control Staff Engineer - Cost Con...</td>\n",
       "      <td>US, TX, Houston</td>\n",
       "      <td>unknown_department</td>\n",
       "      <td>unknown_salary</td>\n",
       "      <td>We Provide Full Time Permanent Positions for m...</td>\n",
       "      <td>Experienced Project Cost Control Staff Enginee...</td>\n",
       "      <td>At least 12 years professional experience.Abil...</td>\n",
       "      <td>unknown_benefits</td>\n",
       "      <td>0</td>\n",
       "      <td>...</td>\n",
       "      <td>0</td>\n",
       "      <td>Full-time</td>\n",
       "      <td>unknown_required_experience</td>\n",
       "      <td>unknown_required_education</td>\n",
       "      <td>unknown_industry</td>\n",
       "      <td>unknown_function</td>\n",
       "      <td>0</td>\n",
       "      <td>5.416942</td>\n",
       "      <td>4.578761</td>\n",
       "      <td>1</td>\n",
       "    </tr>\n",
       "    <tr>\n",
       "      <th>878</th>\n",
       "      <td>17879</td>\n",
       "      <td>Graphic Designer</td>\n",
       "      <td>NG, LA, Lagos</td>\n",
       "      <td>unknown_department</td>\n",
       "      <td>unknown_salary</td>\n",
       "      <td>unknown_company_profile</td>\n",
       "      <td>Nemsia Studios is looking for an experienced v...</td>\n",
       "      <td>1. Must be fluent in the latest versions of Co...</td>\n",
       "      <td>Competitive salary (compensation will be based...</td>\n",
       "      <td>0</td>\n",
       "      <td>...</td>\n",
       "      <td>1</td>\n",
       "      <td>Contract</td>\n",
       "      <td>Not Applicable</td>\n",
       "      <td>Professional</td>\n",
       "      <td>Graphic Design</td>\n",
       "      <td>Design</td>\n",
       "      <td>0</td>\n",
       "      <td>2.808933</td>\n",
       "      <td>2.584238</td>\n",
       "      <td>1</td>\n",
       "    </tr>\n",
       "    <tr>\n",
       "      <th>879</th>\n",
       "      <td>17880</td>\n",
       "      <td>Web Application Developers</td>\n",
       "      <td>NZ, N, Wellington</td>\n",
       "      <td>Engineering</td>\n",
       "      <td>unknown_salary</td>\n",
       "      <td>Vend is looking for some awesome new talent to...</td>\n",
       "      <td>Who are we?Vend is an award winning web based ...</td>\n",
       "      <td>We want to hear from you if:You have an in-dep...</td>\n",
       "      <td>unknown_benefits</td>\n",
       "      <td>0</td>\n",
       "      <td>...</td>\n",
       "      <td>1</td>\n",
       "      <td>Full-time</td>\n",
       "      <td>Mid-Senior level</td>\n",
       "      <td>unknown_required_education</td>\n",
       "      <td>Computer Software</td>\n",
       "      <td>Engineering</td>\n",
       "      <td>0</td>\n",
       "      <td>3.669428</td>\n",
       "      <td>4.738623</td>\n",
       "      <td>0</td>\n",
       "    </tr>\n",
       "  </tbody>\n",
       "</table>\n",
       "<p>880 rows × 21 columns</p>\n",
       "</div>"
      ],
      "text/plain": [
       "     job_id                                              title  \\\n",
       "0     17001                      Sales and Marketing Positions   \n",
       "1     17002                                       HR/Recruiter   \n",
       "2     17003                      Escrow Officer / Title Closer   \n",
       "3     17004                              Marketing Specialist    \n",
       "4     17005                                       Title Closer   \n",
       "..      ...                                                ...   \n",
       "875   17876                   Account Director - Distribution    \n",
       "876   17877                                 Payroll Accountant   \n",
       "877   17878  Project Cost Control Staff Engineer - Cost Con...   \n",
       "878   17879                                   Graphic Designer   \n",
       "879   17880                         Web Application Developers   \n",
       "\n",
       "                 location          department    salary_range  \\\n",
       "0        US, OH, Columbus  unknown_department            2500   \n",
       "1         US, NC, Raleigh  unknown_department  unknown_salary   \n",
       "2           US, FL, Tampa  unknown_department  unknown_salary   \n",
       "3      US, OH, Cincinnati  unknown_department            2500   \n",
       "4         US, NC, Raleigh  unknown_department  unknown_salary   \n",
       "..                    ...                 ...             ...   \n",
       "875       CA, ON, Toronto               Sales  unknown_salary   \n",
       "876  US, PA, Philadelphia          Accounting  unknown_salary   \n",
       "877       US, TX, Houston  unknown_department  unknown_salary   \n",
       "878         NG, LA, Lagos  unknown_department  unknown_salary   \n",
       "879     NZ, N, Wellington         Engineering  unknown_salary   \n",
       "\n",
       "                                       company_profile  \\\n",
       "0    LEI Home Enhancements, is an Ohio based compan...   \n",
       "1    LEI Home Enhancements, is an Ohio based compan...   \n",
       "2    Network Closing Services has been serving Lend...   \n",
       "3    LEI Home Enhancements, is an Ohio based compan...   \n",
       "4    Network Closing Services has been serving Lend...   \n",
       "..                                                 ...   \n",
       "875  Vend is looking for some awesome new talent to...   \n",
       "876  WebLinc is the e-commerce platform and service...   \n",
       "877  We Provide Full Time Permanent Positions for m...   \n",
       "878                            unknown_company_profile   \n",
       "879  Vend is looking for some awesome new talent to...   \n",
       "\n",
       "                                           description  \\\n",
       "0    LEI is a leading Sales, Marketing and Promotio...   \n",
       "1    LEI Home Enhancements  is a growing and we are...   \n",
       "2    Looking for a change?  Then give us a call!!Ne...   \n",
       "3    We are looking for a professional and very pos...   \n",
       "4    - Raleigh-Durham Triangle -Looking for a chang...   \n",
       "..                                                 ...   \n",
       "875  Just in case this is the first time you’ve vis...   \n",
       "876  The Payroll Accountant will focus primarily on...   \n",
       "877  Experienced Project Cost Control Staff Enginee...   \n",
       "878  Nemsia Studios is looking for an experienced v...   \n",
       "879  Who are we?Vend is an award winning web based ...   \n",
       "\n",
       "                                          requirements  \\\n",
       "0    The role would require you to excel in:  • Cus...   \n",
       "1    QUALIFICATIONS/REQUIREMENTSMust have call cent...   \n",
       "2    Are you a top Closer in your market? Are you a...   \n",
       "3    Requirements*Great communication and customer ...   \n",
       "4    Are you a top Closer in your market? Are you a...   \n",
       "..                                                 ...   \n",
       "875  To ace this role you:Will eat comprehensive St...   \n",
       "876  - B.A. or B.S. in Accounting- Desire to have f...   \n",
       "877  At least 12 years professional experience.Abil...   \n",
       "878  1. Must be fluent in the latest versions of Co...   \n",
       "879  We want to hear from you if:You have an in-dep...   \n",
       "\n",
       "                                              benefits  telecommuting  ...  \\\n",
       "0    What's in it for you? \n",
       " -Fantastic earning pot...              0  ...   \n",
       "1                                     unknown_benefits              0  ...   \n",
       "2    We provide a fun and rewarding atmosphere, our...              0  ...   \n",
       "3    *Competitive salary with commissions (earning ...              0  ...   \n",
       "4    We provide a fun and rewarding atmosphere, our...              0  ...   \n",
       "..                                                 ...            ...  ...   \n",
       "875  What can you expect from us?We have an open cu...              0  ...   \n",
       "876  Health &amp; WellnessMedical planPrescription ...              0  ...   \n",
       "877                                   unknown_benefits              0  ...   \n",
       "878  Competitive salary (compensation will be based...              0  ...   \n",
       "879                                   unknown_benefits              0  ...   \n",
       "\n",
       "     has_questions          employment_type          required_experience  \\\n",
       "0                0  unknown_employment_type  unknown_required_experience   \n",
       "1                0                Part-time  unknown_required_experience   \n",
       "2                1                Full-time             Mid-Senior level   \n",
       "3                0                Full-time                  Entry level   \n",
       "4                1                Full-time             Mid-Senior level   \n",
       "..             ...                      ...                          ...   \n",
       "875              1                Full-time             Mid-Senior level   \n",
       "876              1                Full-time             Mid-Senior level   \n",
       "877              0                Full-time  unknown_required_experience   \n",
       "878              1                 Contract               Not Applicable   \n",
       "879              1                Full-time             Mid-Senior level   \n",
       "\n",
       "             required_education                   industry  \\\n",
       "0    unknown_required_education           unknown_industry   \n",
       "1    unknown_required_education            Human Resources   \n",
       "2    unknown_required_education                Real Estate   \n",
       "3     High School or equivalent  Marketing and Advertising   \n",
       "4     High School or equivalent                Real Estate   \n",
       "..                          ...                        ...   \n",
       "875  unknown_required_education          Computer Software   \n",
       "876           Bachelor's Degree                   Internet   \n",
       "877  unknown_required_education           unknown_industry   \n",
       "878                Professional             Graphic Design   \n",
       "879  unknown_required_education          Computer Software   \n",
       "\n",
       "                function fraudulent  weight_fraud  weight_non_fraud  \\\n",
       "0       unknown_function          0      4.271027          4.479959   \n",
       "1       Customer Service          0      3.769097          3.918092   \n",
       "2       unknown_function          0      4.249618          5.076371   \n",
       "3              Marketing          0      4.140985          4.550291   \n",
       "4       unknown_function          0      4.275658          5.067758   \n",
       "..                   ...        ...           ...               ...   \n",
       "875                Sales          0      3.732707          4.993991   \n",
       "876  Accounting/Auditing          0      3.991571          5.242193   \n",
       "877     unknown_function          0      5.416942          4.578761   \n",
       "878               Design          0      2.808933          2.584238   \n",
       "879          Engineering          0      3.669428          4.738623   \n",
       "\n",
       "     final_output  \n",
       "0               0  \n",
       "1               0  \n",
       "2               0  \n",
       "3               0  \n",
       "4               0  \n",
       "..            ...  \n",
       "875             0  \n",
       "876             0  \n",
       "877             1  \n",
       "878             1  \n",
       "879             0  \n",
       "\n",
       "[880 rows x 21 columns]"
      ]
     },
     "execution_count": 137,
     "metadata": {},
     "output_type": "execute_result"
    }
   ],
   "source": [
    "test_sample['final_output'] = 0\n",
    "for i in range(0, len(test_sample)):\n",
    "    if test_sample['weight_fraud'][i] > test_sample['weight_non_fraud'][i]:\n",
    "        test_sample['final_output'][i] = 1\n",
    "    else:\n",
    "        test_sample['final_output'][i] = 0\n",
    "test_sample.to_csv('test_data_output.csv', header=True, index=False)\n",
    "test_sample"
   ]
  },
  {
   "attachments": {},
   "cell_type": "markdown",
   "id": "56f12a33",
   "metadata": {},
   "source": [
    "### 6. Efficiency"
   ]
  },
  {
   "cell_type": "code",
   "execution_count": 138,
   "id": "fb96fcdd",
   "metadata": {},
   "outputs": [],
   "source": [
    "ds_op = test_sample[['fraudulent', \"final_output\"]]\n",
    "count = 0\n",
    "\n",
    "for i in range(0, len(ds_op['fraudulent'])):\n",
    "    if ds_op['fraudulent'][i] == ds_op['final_output'][i]:\n",
    "        count += 1\n",
    "        "
   ]
  },
  {
   "cell_type": "code",
   "execution_count": 139,
   "id": "4a019284",
   "metadata": {},
   "outputs": [
    {
     "data": {
      "image/png": "[encoded data removed]",
      "text/plain": [
       "<Figure size 640x480 with 2 Axes>"
      ]
     },
     "metadata": {},
     "output_type": "display_data"
    }
   ],
   "source": [
    "cm = confusion_matrix(ds_op['fraudulent'],ds_op['final_output'])\n",
    " \n",
    "#Plot the confusion matrix.\n",
    "sns.heatmap(cm,\n",
    "            annot=True,\n",
    "            fmt='g')\n",
    "plt.ylabel('Prediction',fontsize=13)\n",
    "plt.xlabel('Actual',fontsize=13)\n",
    "plt.title('Confusion Matrix',fontsize=17)\n",
    "plt.show()"
   ]
  },
  {
   "cell_type": "code",
   "execution_count": 140,
   "id": "fea3ef53",
   "metadata": {},
   "outputs": [
    {
     "data": {
      "text/plain": [
       "0.8218793828892006"
      ]
     },
     "execution_count": 140,
     "metadata": {},
     "output_type": "execute_result"
    }
   ],
   "source": [
    "f1_score(ds_op['fraudulent'],ds_op['final_output'])"
   ]
  },
  {
   "cell_type": "code",
   "execution_count": 141,
   "id": "f8cee086",
   "metadata": {},
   "outputs": [
    {
     "name": "stdout",
     "output_type": "stream",
     "text": [
      "Classification Accuracy: 0.8556818181818182\n",
      "Classification Report\n",
      "\n",
      "              precision    recall  f1-score   support\n",
      "\n",
      "           0       0.93      0.83      0.88       552\n",
      "           1       0.76      0.89      0.82       328\n",
      "\n",
      "    accuracy                           0.86       880\n",
      "   macro avg       0.85      0.86      0.85       880\n",
      "weighted avg       0.87      0.86      0.86       880\n",
      "\n"
     ]
    }
   ],
   "source": [
    "# Model Accuracy\n",
    "print(\"Classification Accuracy:\", accuracy_score(ds_op['fraudulent'],ds_op['final_output']))\n",
    "print(\"Classification Report\\n\")\n",
    "print(classification_report(ds_op['fraudulent'],ds_op['final_output']))\n"
   ]
  },
  {
   "cell_type": "code",
   "execution_count": null,
   "id": "90c42482",
   "metadata": {},
   "outputs": [],
   "source": []
  }
 ],
 "metadata": {
  "kernelspec": {
   "display_name": "Python 3 (ipykernel)",
   "language": "python",
   "name": "python3"
  },
  "language_info": {
   "codemirror_mode": {
    "name": "ipython",
    "version": 3
   },
   "file_extension": ".py",
   "mimetype": "text/x-python",
   "name": "python",
   "nbconvert_exporter": "python",
   "pygments_lexer": "ipython3",
   "version": "3.11.2"
  }
 },
 "nbformat": 4,
 "nbformat_minor": 5
}
